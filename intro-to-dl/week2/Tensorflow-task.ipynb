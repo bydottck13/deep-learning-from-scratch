{
 "cells": [
  {
   "cell_type": "markdown",
   "metadata": {
    "slideshow": {
     "slide_type": "slide"
    }
   },
   "source": [
    "# Going deeper with Tensorflow\n",
    "\n",
    "In this video, we're going to study the tools you'll use to build deep learning models. Namely, [Tensorflow](https://www.tensorflow.org/).\n",
    "\n",
    "If you're running this notebook outside the course environment, you'll need to install tensorflow:\n",
    "* `pip install tensorflow` should install cpu-only TF on Linux & Mac OS\n",
    "* If you want GPU support from offset, see [TF install page](https://www.tensorflow.org/install/)"
   ]
  },
  {
   "cell_type": "code",
   "execution_count": 1,
   "metadata": {},
   "outputs": [],
   "source": [
    "import sys\n",
    "sys.path.append(\"..\")\n",
    "import grading"
   ]
  },
  {
   "cell_type": "markdown",
   "metadata": {},
   "source": [
    "# Visualization"
   ]
  },
  {
   "cell_type": "markdown",
   "metadata": {},
   "source": [
    "Plase note that if you are running on the Coursera platform, you won't be able to access the tensorboard instance due to the network setup there. If you run the notebook locally, you should be able to access TensorBoard on http://127.0.0.1:7007/"
   ]
  },
  {
   "cell_type": "code",
   "execution_count": 2,
   "metadata": {},
   "outputs": [
    {
     "name": "stdout",
     "output_type": "stream",
     "text": [
      "/bin/sh: 1: killall: not found\r\n"
     ]
    }
   ],
   "source": [
    "! killall tensorboard\n",
    "import os\n",
    "os.system(\"tensorboard --logdir=/tmp/tboard --port=7007 &\");"
   ]
  },
  {
   "cell_type": "code",
   "execution_count": 3,
   "metadata": {},
   "outputs": [],
   "source": [
    "import tensorflow as tf\n",
    "s = tf.InteractiveSession()"
   ]
  },
  {
   "cell_type": "markdown",
   "metadata": {},
   "source": [
    "# Warming up\n",
    "For starters, let's implement a python function that computes the sum of squares of numbers from 0 to N-1."
   ]
  },
  {
   "cell_type": "code",
   "execution_count": 4,
   "metadata": {},
   "outputs": [],
   "source": [
    "import numpy as np\n",
    "def sum_sin(N):\n",
    "    return np.sum(np.arange(N)**2)"
   ]
  },
  {
   "cell_type": "code",
   "execution_count": 5,
   "metadata": {},
   "outputs": [
    {
     "name": "stdout",
     "output_type": "stream",
     "text": [
      "CPU times: user 2.32 s, sys: 4.57 s, total: 6.89 s\n",
      "Wall time: 7.18 s\n"
     ]
    },
    {
     "data": {
      "text/plain": [
       "662921401752298880"
      ]
     },
     "execution_count": 5,
     "metadata": {},
     "output_type": "execute_result"
    }
   ],
   "source": [
    "%%time\n",
    "sum_sin(10**8)"
   ]
  },
  {
   "cell_type": "markdown",
   "metadata": {},
   "source": [
    "# Tensoflow teaser\n",
    "\n",
    "Doing the very same thing"
   ]
  },
  {
   "cell_type": "code",
   "execution_count": 6,
   "metadata": {},
   "outputs": [],
   "source": [
    "# An integer parameter\n",
    "N = tf.placeholder('int64', name=\"input_to_your_function\")\n",
    "\n",
    "# A recipe on how to produce the same result\n",
    "result = tf.reduce_sum(tf.range(N)**2)"
   ]
  },
  {
   "cell_type": "code",
   "execution_count": 7,
   "metadata": {},
   "outputs": [
    {
     "data": {
      "text/plain": [
       "<tf.Tensor 'Sum:0' shape=() dtype=int64>"
      ]
     },
     "execution_count": 7,
     "metadata": {},
     "output_type": "execute_result"
    }
   ],
   "source": [
    "result"
   ]
  },
  {
   "cell_type": "code",
   "execution_count": 8,
   "metadata": {},
   "outputs": [
    {
     "name": "stdout",
     "output_type": "stream",
     "text": [
      "CPU times: user 425 ms, sys: 254 ms, total: 678 ms\n",
      "Wall time: 1.09 s\n"
     ]
    },
    {
     "data": {
      "text/plain": [
       "662921401752298880"
      ]
     },
     "execution_count": 8,
     "metadata": {},
     "output_type": "execute_result"
    }
   ],
   "source": [
    "%%time\n",
    "result.eval({N: 10**8})"
   ]
  },
  {
   "cell_type": "code",
   "execution_count": 9,
   "metadata": {},
   "outputs": [],
   "source": [
    "writer = tf.summary.FileWriter(\"/tmp/tboard\", graph=s.graph)"
   ]
  },
  {
   "cell_type": "markdown",
   "metadata": {},
   "source": [
    "# How does it work?\n",
    "1. Define placeholders where you'll send inputs\n",
    "2. Make symbolic graph: a recipe for mathematical transformation of those placeholders\n",
    "3. Compute outputs of your graph with particular values for each placeholder\n",
    "  * `output.eval({placeholder:value})`\n",
    "  * `s.run(output, {placeholder:value})`\n",
    "\n",
    "So far there are two main entities: \"placeholder\" and \"transformation\"\n",
    "* Both can be numbers, vectors, matrices, tensors, etc.\n",
    "* Both can be int32/64, floats, booleans (uint8) of various size.\n",
    "\n",
    "* You can define new transformations as an arbitrary operation on placeholders and other transformations\n",
    " * `tf.reduce_sum(tf.arange(N)**2)` are 3 sequential transformations of placeholder `N`\n",
    " * There's a tensorflow symbolic version for every numpy function\n",
    "   * `a+b, a/b, a**b, ...` behave just like in numpy\n",
    "   * `np.mean` -> `tf.reduce_mean`\n",
    "   * `np.arange` -> `tf.range`\n",
    "   * `np.cumsum` -> `tf.cumsum`\n",
    "   * If if you can't find the op you need, see the [docs](https://www.tensorflow.org/api_docs/python).\n",
    "   \n",
    "`tf.contrib` has many high-level features, may be worth a look."
   ]
  },
  {
   "cell_type": "code",
   "execution_count": 10,
   "metadata": {},
   "outputs": [],
   "source": [
    "with tf.name_scope(\"Placeholders_examples\"):\n",
    "    # Default placeholder that can be arbitrary float32\n",
    "    # scalar, vertor, matrix, etc.\n",
    "    arbitrary_input = tf.placeholder('float32')\n",
    "\n",
    "    # Input vector of arbitrary length\n",
    "    input_vector = tf.placeholder('float32', shape=(None,))\n",
    "\n",
    "    # Input vector that _must_ have 10 elements and integer type\n",
    "    fixed_vector = tf.placeholder('int32', shape=(10,))\n",
    "\n",
    "    # Matrix of arbitrary n_rows and 15 columns\n",
    "    # (e.g. a minibatch your data table)\n",
    "    input_matrix = tf.placeholder('float32', shape=(None, 15))\n",
    "    \n",
    "    # You can generally use None whenever you don't need a specific shape\n",
    "    input1 = tf.placeholder('float64', shape=(None, 100, None))\n",
    "    input2 = tf.placeholder('int32', shape=(None, None, 3, 224, 224))\n",
    "\n",
    "    # elementwise multiplication\n",
    "    double_the_vector = input_vector*2\n",
    "\n",
    "    # elementwise cosine\n",
    "    elementwise_cosine = tf.cos(input_vector)\n",
    "\n",
    "    # difference between squared vector and vector itself plus one\n",
    "    vector_squares = input_vector**2 - input_vector + 1"
   ]
  },
  {
   "cell_type": "code",
   "execution_count": 11,
   "metadata": {},
   "outputs": [],
   "source": [
    "my_vector =  tf.placeholder('float32', shape=(None,), name=\"VECTOR_1\")\n",
    "my_vector2 = tf.placeholder('float32', shape=(None,))\n",
    "my_transformation = my_vector * my_vector2 / (tf.sin(my_vector) + 1)"
   ]
  },
  {
   "cell_type": "code",
   "execution_count": 12,
   "metadata": {},
   "outputs": [
    {
     "name": "stdout",
     "output_type": "stream",
     "text": [
      "Tensor(\"truediv:0\", shape=(?,), dtype=float32)\n"
     ]
    }
   ],
   "source": [
    "print(my_transformation)"
   ]
  },
  {
   "cell_type": "code",
   "execution_count": 14,
   "metadata": {},
   "outputs": [
    {
     "name": "stdout",
     "output_type": "stream",
     "text": [
      "[ 0.  1.  2.  3.  4.]\n"
     ]
    },
    {
     "data": {
      "text/plain": [
       "array([ 0.        ,  1.62913239,  2.09501147,  2.62899613,  0.        ], dtype=float32)"
      ]
     },
     "execution_count": 14,
     "metadata": {},
     "output_type": "execute_result"
    }
   ],
   "source": [
    "dummy = np.arange(5).astype('float32')\n",
    "print(dummy)\n",
    "my_transformation.eval({my_vector:dummy, my_vector2:dummy[::-1]})"
   ]
  },
  {
   "cell_type": "code",
   "execution_count": 15,
   "metadata": {},
   "outputs": [],
   "source": [
    "writer.add_graph(my_transformation.graph)\n",
    "writer.flush()"
   ]
  },
  {
   "cell_type": "markdown",
   "metadata": {},
   "source": [
    "TensorBoard allows writing scalars, images, audio, histogram. You can read more on tensorboard usage [here](https://www.tensorflow.org/get_started/graph_viz)."
   ]
  },
  {
   "cell_type": "markdown",
   "metadata": {},
   "source": [
    "# Summary\n",
    "* Tensorflow is based on computation graphs\n",
    "* The graphs consist of placehlders and transformations"
   ]
  },
  {
   "cell_type": "markdown",
   "metadata": {},
   "source": [
    "# Mean squared error\n",
    "\n",
    "Your assignment is to implement mean squared error in tensorflow."
   ]
  },
  {
   "cell_type": "code",
   "execution_count": 32,
   "metadata": {},
   "outputs": [],
   "source": [
    "with tf.name_scope(\"MSE\"):\n",
    "    y_true = tf.placeholder(\"float32\", shape=(None,), name=\"y_true\")\n",
    "    y_predicted = tf.placeholder(\"float32\", shape=(None,), name=\"y_predicted\")\n",
    "    # Your code goes here\n",
    "    # You want to use tf.reduce_mean\n",
    "    # mse = tf.<...>\n",
    "    mse = tf.reduce_mean(tf.square(y_true-y_predicted))\n",
    "def compute_mse(vector1, vector2):\n",
    "    return mse.eval({y_true: vector1, y_predicted: vector2})"
   ]
  },
  {
   "cell_type": "code",
   "execution_count": 33,
   "metadata": {},
   "outputs": [
    {
     "name": "stdout",
     "output_type": "stream",
     "text": [
      "[ 0.  1.  2.  3.  4.]\n"
     ]
    },
    {
     "data": {
      "text/plain": [
       "8.0"
      ]
     },
     "execution_count": 33,
     "metadata": {},
     "output_type": "execute_result"
    }
   ],
   "source": [
    "writer.add_graph(mse.graph)\n",
    "writer.flush()\n",
    "dummy = np.arange(5).astype('float32')\n",
    "print(dummy)\n",
    "compute_mse(dummy, dummy[::-1])"
   ]
  },
  {
   "cell_type": "markdown",
   "metadata": {},
   "source": [
    "Tests and result submission. Please use the credentials obtained from the Coursera assignment page."
   ]
  },
  {
   "cell_type": "code",
   "execution_count": 34,
   "metadata": {},
   "outputs": [],
   "source": [
    "import submit"
   ]
  },
  {
   "cell_type": "code",
   "execution_count": 39,
   "metadata": {},
   "outputs": [
    {
     "name": "stdout",
     "output_type": "stream",
     "text": [
      "Submitted to Coursera platform. See results on assignment page!\n"
     ]
    }
   ],
   "source": [
    "submit.submit_mse(compute_mse, <email>, <token>)"
   ]
  },
  {
   "cell_type": "markdown",
   "metadata": {},
   "source": [
    "# Variables\n",
    "\n",
    "The inputs and transformations have no value outside function call. This isn't too comfortable if you want your model to have parameters (e.g. network weights) that are always present, but can change their value over time.\n",
    "\n",
    "Tensorflow solves this with `tf.Variable` objects.\n",
    "* You can assign variable a value at any time in your graph\n",
    "* Unlike placeholders, there's no need to explicitly pass values to variables when `s.run(...)`-ing\n",
    "* You can use variables the same way you use transformations \n",
    " "
   ]
  },
  {
   "cell_type": "code",
   "execution_count": 36,
   "metadata": {},
   "outputs": [],
   "source": [
    "# Creating a shared variable\n",
    "shared_vector_1 = tf.Variable(initial_value=np.ones(5),\n",
    "                              name=\"example_variable\")"
   ]
  },
  {
   "cell_type": "code",
   "execution_count": 37,
   "metadata": {},
   "outputs": [
    {
     "name": "stdout",
     "output_type": "stream",
     "text": [
      "Initial value [ 1.  1.  1.  1.  1.]\n"
     ]
    }
   ],
   "source": [
    "# Initialize variable(s) with initial values\n",
    "s.run(tf.global_variables_initializer())\n",
    "\n",
    "# Evaluating shared variable (outside symbolicd graph)\n",
    "print(\"Initial value\", s.run(shared_vector_1))\n",
    "\n",
    "# Within symbolic graph you use them just\n",
    "# as any other inout or transformation, not \"get value\" needed"
   ]
  },
  {
   "cell_type": "code",
   "execution_count": 38,
   "metadata": {},
   "outputs": [
    {
     "name": "stdout",
     "output_type": "stream",
     "text": [
      "New value [ 0.  1.  2.  3.  4.]\n"
     ]
    }
   ],
   "source": [
    "# Setting a new value\n",
    "s.run(shared_vector_1.assign(np.arange(5)))\n",
    "\n",
    "# Getting that new value\n",
    "print(\"New value\", s.run(shared_vector_1))"
   ]
  },
  {
   "cell_type": "markdown",
   "metadata": {},
   "source": [
    "# tf.gradients - why graphs matter\n",
    "* Tensorflow can compute derivatives and gradients automatically using the computation graph\n",
    "* True to its name it can manage matrix derivatives\n",
    "* Gradients are computed as a product of elementary derivatives via the chain rule:\n",
    "\n",
    "$$ {\\partial f(g(x)) \\over \\partial x} = {\\partial f(g(x)) \\over \\partial g(x)}\\cdot {\\partial g(x) \\over \\partial x} $$\n",
    "\n",
    "It can get you the derivative of any graph as long as it knows how to differentiate elementary operations"
   ]
  },
  {
   "cell_type": "code",
   "execution_count": 41,
   "metadata": {},
   "outputs": [],
   "source": [
    "my_scalar = tf.placeholder('float32')\n",
    "\n",
    "scalar_squared = my_scalar**2\n",
    "\n",
    "# A derivative of scalar_squared by my_scalar\n",
    "derivative = tf.gradients(scalar_squared, [my_scalar, ])"
   ]
  },
  {
   "cell_type": "code",
   "execution_count": 42,
   "metadata": {},
   "outputs": [
    {
     "data": {
      "text/plain": [
       "[<tf.Tensor 'gradients/pow_1_grad/Reshape:0' shape=<unknown> dtype=float32>]"
      ]
     },
     "execution_count": 42,
     "metadata": {},
     "output_type": "execute_result"
    }
   ],
   "source": [
    "derivative"
   ]
  },
  {
   "cell_type": "code",
   "execution_count": 43,
   "metadata": {},
   "outputs": [
    {
     "data": {
      "image/png": "[encoded data removed]",
      "text/plain": [
       "<matplotlib.figure.Figure at 0x7fd55ae060f0>"
      ]
     },
     "metadata": {},
     "output_type": "display_data"
    }
   ],
   "source": [
    "import matplotlib.pyplot as plt\n",
    "%matplotlib inline\n",
    "\n",
    "x = np.linspace(-3, 3)\n",
    "x_squared, x_squared_der = s.run([scalar_squared, derivative[0]],\n",
    "                                 {my_scalar:x})\n",
    "\n",
    "plt.plot(x, x_squared,label=\"$x^2$\")\n",
    "plt.plot(x, x_squared_der, label=r\"$\\frac{dx^2}{dx}$\")\n",
    "plt.legend();"
   ]
  },
  {
   "cell_type": "markdown",
   "metadata": {},
   "source": [
    "# Why that rocks"
   ]
  },
  {
   "cell_type": "code",
   "execution_count": 44,
   "metadata": {},
   "outputs": [],
   "source": [
    "my_vector = tf.placeholder('float32', [None])\n",
    "# Compute the gradient of the next weird function over my_scalar and my_vector\n",
    "# Warning! Trying to understand the meaning of that function may result in permanent brain damage\n",
    "weird_psychotic_function = tf.reduce_mean(\n",
    "    (my_vector+my_scalar)**(1+tf.nn.moments(my_vector,[0])[1]) + \n",
    "    1./ tf.atan(my_scalar))/(my_scalar**2 + 1) + 0.01*tf.sin(\n",
    "    2*my_scalar**1.5)*(tf.reduce_sum(my_vector)* my_scalar**2\n",
    "                      )*tf.exp((my_scalar-4)**2)/(\n",
    "    1+tf.exp((my_scalar-4)**2))*(1.-(tf.exp(-(my_scalar-4)**2)\n",
    "                                    )/(1+tf.exp(-(my_scalar-4)**2)))**2\n",
    "\n",
    "der_by_scalar = tf.gradients(weird_psychotic_function, my_scalar)\n",
    "der_by_vector = tf.gradients(weird_psychotic_function, my_vector)"
   ]
  },
  {
   "cell_type": "code",
   "execution_count": 45,
   "metadata": {},
   "outputs": [
    {
     "data": {
      "image/png": "[encoded data removed]",
      "text/plain": [
       "<matplotlib.figure.Figure at 0x7fd559c9fe10>"
      ]
     },
     "metadata": {},
     "output_type": "display_data"
    }
   ],
   "source": [
    "# Plotting the derivative\n",
    "scalar_space = np.linspace(1, 7, 100)\n",
    "\n",
    "y = [s.run(weird_psychotic_function, {my_scalar:x, my_vector:[1, 2, 3]})\n",
    "     for x in scalar_space]\n",
    "\n",
    "plt.plot(scalar_space, y, label='function')\n",
    "\n",
    "y_der_by_scalar = [s.run(der_by_scalar,\n",
    "                         {my_scalar:x, my_vector:[1, 2, 3]})\n",
    "                   for x in scalar_space]\n",
    "\n",
    "plt.plot(scalar_space, y_der_by_scalar, label='derivative')\n",
    "plt.grid()\n",
    "plt.legend();"
   ]
  },
  {
   "cell_type": "markdown",
   "metadata": {},
   "source": [
    "# Almost done - optimizers\n",
    "\n",
    "While you can perform gradient descent by hand with automatic grads from above, tensorflow also has some optimization methods implemented for you. Recall momentum & rmsprop?"
   ]
  },
  {
   "cell_type": "code",
   "execution_count": 46,
   "metadata": {},
   "outputs": [],
   "source": [
    "y_guess = tf.Variable(np.zeros(2, dtype='float32'))\n",
    "y_true = tf.range(1, 3, dtype='float32')\n",
    "loss = tf.reduce_mean((y_guess - y_true + tf.random_normal([2]))**2) \n",
    "#loss = tf.reduce_mean((y_guess - y_true)**2) \n",
    "optimizer = tf.train.MomentumOptimizer(0.01, 0.5).minimize(\n",
    "    loss, var_list=y_guess)"
   ]
  },
  {
   "cell_type": "code",
   "execution_count": 47,
   "metadata": {},
   "outputs": [
    {
     "data": {
      "image/png": "[encoded data removed]",
      "text/plain": [
       "<matplotlib.figure.Figure at 0x7fd55b3b6208>"
      ]
     },
     "metadata": {},
     "output_type": "display_data"
    }
   ],
   "source": [
    "from matplotlib import animation, rc\n",
    "import matplotlib_utils\n",
    "from IPython.display import HTML, display_html\n",
    "\n",
    "fig, ax = plt.subplots()\n",
    "y_true_value = s.run(y_true)\n",
    "level_x = np.arange(0, 2, 0.02)\n",
    "level_y = np.arange(0, 3, 0.02)\n",
    "X, Y = np.meshgrid(level_x, level_y)\n",
    "Z = (X - y_true_value[0])**2 + (Y - y_true_value[1])**2\n",
    "ax.set_xlim(-0.02, 2)\n",
    "ax.set_ylim(-0.02, 3)\n",
    "s.run(tf.global_variables_initializer())\n",
    "ax.scatter(*s.run(y_true), c='red')\n",
    "contour = ax.contour(X, Y, Z, 10)\n",
    "ax.clabel(contour, inline=1, fontsize=10)\n",
    "line, = ax.plot([], [], lw=2)\n",
    "\n",
    "def init():\n",
    "    line.set_data([], [])\n",
    "    return (line,)\n",
    "\n",
    "guesses = [s.run(y_guess)]\n",
    "\n",
    "def animate(i):\n",
    "    s.run(optimizer)\n",
    "    guesses.append(s.run(y_guess))\n",
    "    line.set_data(*zip(*guesses))\n",
    "    return (line,)\n",
    "\n",
    "anim = animation.FuncAnimation(fig, animate, init_func=init,\n",
    "                               frames=400, interval=20, blit=True)"
   ]
  },
  {
   "cell_type": "code",
   "execution_count": 48,
   "metadata": {},
   "outputs": [
    {
     "data": {
      "text/html": [
       "<video width=\"432\" height=\"288\" controls autoplay loop>\n",
       "  <source type=\"video/mp4\" src=\"data:video/mp4;base64,AAAAHGZ0eXBNNFYgAAACAGlzb21pc28yYXZjMQAAAAhmcmVlAAC1+G1kYXQAAAKuBgX//6rcRem9\n",
       "5tlIt5Ys2CDZI+7veDI2NCAtIGNvcmUgMTQ4IHIyNjQzIDVjNjU3MDQgLSBILjI2NC9NUEVHLTQg\n",
       "QVZDIGNvZGVjIC0gQ29weWxlZnQgMjAwMy0yMDE1IC0gaHR0cDovL3d3dy52aWRlb2xhbi5vcmcv\n",
       "eDI2NC5odG1sIC0gb3B0aW9uczogY2FiYWM9MSByZWY9MyBkZWJsb2NrPTE6MDowIGFuYWx5c2U9\n",
       "MHgzOjB4MTEzIG1lPWhleCBzdWJtZT03IHBzeT0xIHBzeV9yZD0xLjAwOjAuMDAgbWl4ZWRfcmVm\n",
       "PTEgbWVfcmFuZ2U9MTYgY2hyb21hX21lPTEgdHJlbGxpcz0xIDh4OGRjdD0xIGNxbT0wIGRlYWR6\n",
       "b25lPTIxLDExIGZhc3RfcHNraXA9MSBjaHJvbWFfcXBfb2Zmc2V0PS0yIHRocmVhZHM9MSBsb29r\n",
       "YWhlYWRfdGhyZWFkcz0xIHNsaWNlZF90aHJlYWRzPTAgbnI9MCBkZWNpbWF0ZT0xIGludGVybGFj\n",
       "ZWQ9MCBibHVyYXlfY29tcGF0PTAgY29uc3RyYWluZWRfaW50cmE9MCBiZnJhbWVzPTMgYl9weXJh\n",
       "bWlkPTIgYl9hZGFwdD0xIGJfYmlhcz0wIGRpcmVjdD0xIHdlaWdodGI9MSBvcGVuX2dvcD0wIHdl\n",
       "aWdodHA9MiBrZXlpbnQ9MjUwIGtleWludF9taW49MjUgc2NlbmVjdXQ9NDAgaW50cmFfcmVmcmVz\n",
       "aD0wIHJjX2xvb2thaGVhZD00MCByYz1jcmYgbWJ0cmVlPTEgY3JmPTIzLjAgcWNvbXA9MC42MCBx\n",
       "cG1pbj0wIHFwbWF4PTY5IHFwc3RlcD00IGlwX3JhdGlvPTEuNDAgYXE9MToxLjAwAIAAADIlZYiE\n",
       "AC///vau/MsrRwuVLh1Ze7NR8uhJcv2IMH1oAAADAADVayF8oYJVUBjg5Cl8UC950wnQObmxLpMS\n",
       "eTd2N1o7ZvU7nZLqidQWs9IRqH4qZFuUNOvgrgAArGB7WlESNB735J/CfrjEy3i5zjzWx5r7oD4b\n",
       "7vRGf5YZpSE2SfCltWRnqtLPBS3FxRjhpp/BEdar5txSfEu67R/ppgZwAi2i8ff512MwmU2ndVwZ\n",
       "0/IypwbXeLiexIGKwjGLSLtuFQ6Y/OKysfXRdbpNhUrKtfRj7DGM8WCX1Bh4c330WAw+R6EXVRFY\n",
       "lu5UH1qoQzyL4+ViaXbsk9e17GMhYcjYQ2ErNh8GLHqFB5yll7cH5+/ATt414OGqKJBfavN2H7Eo\n",
       "MYMyQUJm9f6njg6oT6RI9deVwCrdBzM/Sz/x8vLmA7OACvEgs7ec3QswOORd/etOu0E7t7VpiB00\n",
       "hKHHIDZREnqwvaNj69QpwDqX0pss1cRClh94zlgStU4c5yUCVO+HQbSt4HAXLJj2f9Btb1Gp56ii\n",
       "Oi96XZV1x4KhUxTYawQAUfjzsl0QevSEuVTVlSNIsvo+7QD/x5dqmV34q8Y/e22ByjofSHxpk/7U\n",
       "JlOIzg46ZfH1hLZgWW3R/niY7hJcJ7T94UsjfEkSh3TDgfcD17lLYnCY2sdzwQUX/M7yx8DlUAxf\n",
       "Bf5jCXE+1+wNMg1QAvfybm1SjIO2TPl8BU8XJsElm8w528BUCYhGy7qcnRnuSy6QxEV7zgbX58W4\n",
       "OX++3kHg9QTGgyx+9vVBAdT1fCClHX4ANSaqmTCW59ftwD0BujqkCCWkUJ2w9uAMrIdCjsnjVQgY\n",
       "usw2C1nI5upe6qRnHhMYO+//zOhJwy3GFabODqjJ8LP6JD9HicRvbp/KU0u7QNM3PDeCZGEppIp+\n",
       "d+A0U9LkqJcqlVU9QxjMxe4V5wWiAXVz7X2hUEkcgvbIBu6DDirLSkB6X62ytFi1xHsjrXMwRBoi\n",
       "23k/4WJeSt9ercxBpim+OztNcFsiesOQP5sSGoW5wkc38yjAPbcq7Tdzbk/IrDDaOdxl5A3HGLvo\n",
       "zZ1BGOReneHzeHg/afksZWL4VFYt54t3/Hf9K1pP0qpg033ec0POTLSV2EuXudGEW3w0++tbXV/W\n",
       "TzfL1OHthmmQR6IPVUHFMoqzp1QcXRtQTOdfyzhgBiRX5WVO85tv8+La/kmO0HsSZYHMklOP3co5\n",
       "QDWHzfJAv2xFzpb4zaWMSFkI64HEJiEbYjDtCz5R+5934JrTITw/HoIDDZMsJDKJDy7tEPbaSA9e\n",
       "Rs6mLK1h7v5ilXo8fU4zXpoO8DIuXkGCPnMytYPsejoVgG8/4hV+pdupgbZzrYj2YP/KOAfFDlCb\n",
       "c+Afko28P+APuNw+AREopUusHlOjBttYqMfZpF0lXHnSyZGaC4E/9t+DTsSLLdxT7j02EJ/DJYcg\n",
       "zlbYlWxHyR67M59DOduDXxQ1yVc6Uv0xHmi8cZyM2klmNgFAuAnAXoBpK89d0ninH4c+/x3zxCND\n",
       "gVwld+ZkhAQLOdusrHeV3kkduEsmNVMMG/Z4jzBVquh65pjovblc+tWCuZM25L8WnssoH8vTmfqk\n",
       "8z4vSza/UA18+dAwWnRG9TaD1J9lDGVsI+2H5s+SHVWANZOLLVmeWQLhlKcLusWsnTy4W6Qc1hK3\n",
       "lWy4lqZwoLwKwRWbX98yP5cBLAAAJoy3FrpsDsUYtE3TL3kuxuFVvIqfYjjoZ3q1MFTJsXRq06LK\n",
       "CGXjzDp6hB7mkW+cUnSDxxWGDOoq2FRt3I6jf4pVWCtbujN+OSzPO8fJfMPqmvW7za2IZNH4Ivtm\n",
       "sJzTRzypJjeyJ0gkQxOt04Wtpk9pR8wFijYSlPAPe/xLLPTGlzVe4z/sJ/ZxT0sXez2TFb2HS+PN\n",
       "5fGrWLRo7iTiPCfUPMNtVVeW8QLshluhtUxaeuzxL4KRaXWDzZPD3oCZy7l7PrHjbnsCu+QniSLg\n",
       "8rdR9xoYbwUQ5YwHF3/Nci+zL1HxGZ4L2fog8TyKfh5YrePpnYaER/liN4NOXHG3TyRUAHQPEB+O\n",
       "0fmDCiGW42CFp/SOdacVMu4hEherC3AgxrebXZ6lt57G1D6yYyf/mXSrjlMM6aD8AzMo7YaVi/1Q\n",
       "riXfAbGXkxyMj9BfJMwbTj+GynyOugQf/Ri8ucxRM1dfn2kFerYby85cHDMQ9lc0dfLgioxLGqWq\n",
       "oC8rjPsjgmTYbWjjaA5viU+h3WQwUXncbC4FRQhD0yz3P9NlsUrJdkV2Go1oMz4i+CEUEZ2ZkBJz\n",
       "FarjflXpG/8+IATcngfdDr5VkKobO7YcOa+0UnNb1BisIZLgIINH6bNOX/auSFixOuura7NqF0w4\n",
       "yktpy6EiUEE2UhLILpa9OhwPj297SHzPzpUJ7OzNirub9vTQ3R+DIb3veZhh2NJs7ng8D4fp3dwN\n",
       "kg2bGg65AmO+f0zYI1LjeuzwEPQ8nUEw/JgiwhUDfBlwhDpqvABLah888nCPqf9VMblkQvYaNqv1\n",
       "J1XnKb4fdkbYTG689HMbVdOd5qFgHz6mOXOzhLIMp+mrjkBhzIUqWY8MFa8tkNz8AGsvFdQ277DD\n",
       "BcBoaY0FfW6vZrHoyHvO+0rZxzfvl2VAH2OPcyxY1KAVkaiMyg9tUJhQCCyaeCAaYJRX0POhs1nB\n",
       "rxNMmd3vcuW9N0qbkdUhj7FxRU3zTdBE79H8IUjU6e8m8eIs0V4RCG4esc2vL/zynbBPEV9wOhO1\n",
       "uBCndBnQH4b6dhF+XZFlGjLyHbPuLPfLmBIBWCYq2eD7STVpE6PJPuCvAmbPC5m0lPNpZWo+XO+h\n",
       "+a9vrXVhUbtkbVatlRKdLRBvsnANQoy3YIERU7FTrr3HOGr5X/cxFJcG03ynZEGNtvBsxCPM2vVz\n",
       "9xydhy+xgUsM2+kb8B/t+KYu1BQXKB1ZwCnPND98Gi9c11J0/un/nSwEoU4Rbcvfq7L3zJIxZIg2\n",
       "0mgxgx1gHCPdIlIiBtvD4QUEWEHCG7ocN78Fs8mNp0LEinC8aEASBNw/mSOHLbwlkZbujn5bLpce\n",
       "KapAHON2Bx8YsqXBTXi84R/vZWum7aY2uUpP7TlWQKJclnQ7k1MVA5kVVK4Nj74cP7oYOzfw7uZG\n",
       "oiqDeFiu+47tFaAiVDfvaReIxl6EyGI8fkgsG8iqAP+AmdeKT6Grilk7qacYBf0OcfNuqhyyLwIv\n",
       "3q2LML6SHM7Ec532aC0ISAZ14YPV4zsva9vittTo/hQcxAYlYukhwZVusTE/MSNjUqhqMyRDrwX3\n",
       "IKO9K/ImCewamz0Abw3iaqNh36pRIcchViuFje65j50/0pv1tN3gzhv/LBizr3ZnzgKDOSeMqyqC\n",
       "DdzUnhg3pwYphty+qRZgxa1OlBAtusjFLkDDk++oIPQRjJ+f74dtesy6yvSuYs1wYIQXBBHxkbGk\n",
       "ZmRfiUDlOz6xPzU85VX66Ntpd6XX+Ce7Qe1kXS/x+9K2fwdvBPNoKR6KUzKUajM9UX8Xomu+F4ZX\n",
       "nSkncW5U9clHujca1lv4Boc1dM90s/8ReNgCCBayK25GZmLmtO1dlqltK52qd8dzuus4UASSZDJT\n",
       "2ZVYx19XxQEjQlQzMhCAqasSb4tvBsCbwIkGNwCQ7mtJpzu7VVn93Pr0s6YpQOHdV9bSxjzkQKry\n",
       "5+O6BTUi0kWs9Iq6sgACfQ6y6U4YrLKvLZlNIzcVchjStS6T9o+P825mB7swMY0DdjufxTHng9kA\n",
       "Z0qM57iUJoJkPtUwZhNdyky3ld38NMBvTw9/60vgGfUjig2+GyCIit//FAU8YsqvjXWi1GN/OJbV\n",
       "H/c1Ju2J6H2F3zANdpD1ehzoTpHRlBIfTx9kXF9+8uML96TxnPKIT5UFQ8um5Qp41RXiFywjLVfV\n",
       "dcUFIy8Ok1dlVAvG4M/mRRj1aeDc3VQd2Gf1u5A9O8c44wLr1+h3pQSL/w14trFZYT8w6KWRqt39\n",
       "bM0KwH2uODLMng3RUyTj8L4oIuo83xRT4wqRXrALBJjpZKFBBSvsVMUNNz459qwYJ9wamFP0CDK6\n",
       "l7NET9O6z03guxSfSyZQ2nLL3D6JHdqP1tMm+VjQK6MztY2dt/wRczmYSKeR9bXkUgHQqQZ1+Swp\n",
       "E6dgkYvV/QnhBSN0AOaW97XQBgl3rRLCKx1XnPrIcnFQKWboDatGNrUriZ+aE3NaH3yaNHLVkJUL\n",
       "mRNWRM34AaDkB+JBVUM7bGjmOHIqQZC9oUMW6R0/qBWpEzLHTV6awDwF+ms/Zk6kw52T2bRVumq6\n",
       "DAWjiSBdOem4+crtHSBAOHykWah4O/1qY3NVjTirvTxwmTJR8hT1bd2QqA9+Xy8TjOUIcgHlv1Us\n",
       "W4aL2MC8IdyKNdyUDMqlDNwEHTa1sg+0a7H2gh8D96veLzUWCB3MUTxwKl/+rBF2nJ847hOMa3GR\n",
       "66HN7NEwLsA4Drn3DWp2xeyOGChDOmI897pfBlDwr3Pe9/TclQiKEjpuGl1ATfTKxEe+s0yrYC7g\n",
       "WyWG0X+onMhqeJLmeHQp0iH9pMCMeK+STZH1nbHnsWL6bKSypOACDrTyX2Rl9TFFbZZ3kG5PSHsj\n",
       "TOXgphKwECOpWqbSZOvopq6ZHbORdmDeFfrIL/Nx3ZxG0XLEYUZ6pVQLEAvoBja5zIi5Oq0VupY9\n",
       "C6gNoyZHodJWS4s0KueLQo++74Pn3sJId7xhtcTc9qHyk0mEpj5SWMJL5eJJvpPiDcpuywgydwvI\n",
       "R/2nIvmOf+kC5rsGUDOqBCkd/QG2HwIMA1tKAuAUogj/42WWfVM92BaxfQ/jTraQ3NReeu8kIzzH\n",
       "iG/hm+iPPpLAHtGnBLcWBubseZ3QK0lHsbqlk+cVD+4FSd7VmcsGUfbNQhLf0Yj0H051FLSqgOD/\n",
       "dIVYQOFe397CA+lUZl97dhQnZyULuy02L4bA7yFGAZUX7HHObtcVi7UWwmmRUjuV8bTQ+O+2P/63\n",
       "mge7d8z25ItQdCbFR9NwZ8t/8440Sf2WU5Sqf/stfJOwc4kS3vo7cPUxPwHOQjb7S0dK6ToYLDVB\n",
       "aHSBXWuRSHLwy1AB9He/uk6RAwNdwrUeFlnfXQ5lB0BUSDFqwnYuTnO/4mXhoY3O8Kj+RD8SP9U4\n",
       "/tfOjYp2JnCevYVigDR1zUs7n3P/Ec72ANhBi6WQ9ZeEv4YSTOKIQoVAX6J7xND4AkCA7YRJ+0UW\n",
       "qzrvG9uZC6x62BDe12TG5zi4jPLtFdeYXg+bhSBLWUOy8pmanGNE+nTYCU6uR0pv+pdsu1zujIdO\n",
       "ifpkpoiTCw8Pbc/g0MNfFP5uJO2ES0G2EX8eogaZX7S8GGGImcFKZBNrvJJ6mqWlKo+njUpw9u9c\n",
       "Bu91+dZNcMW5N99Eq/NWNjDiD0qZmHF6lsrBfASk8ot5mBMcbtNgc91OuEPhPXFuSPLt2WxHXFj+\n",
       "ynf8GbEKjziCjyvQIqYO8fh8Gyk+e5otSZx9rcaHzPodIDljJTWsSXMOoioH9+ZdzEpcWI/nqY4t\n",
       "w+nmneh2bse1HlmZPYrKCrj0DGEJ4T4E8nXfSLJkjDX6YAS63y3juwOyP5eu/iQi8U+w82+r+4dN\n",
       "Grl5H+kxkHSykFHyX9Gq7MHXy9V8+ARmRcu1WVHdatZSa3Zu2fKPjf2GK+IEm/uWAd03rqWnYjep\n",
       "wm/kBMjfPUoRquXmBoY2fotsIu5Nrr5Lpg3WHU9pWW916PNydAyBxN5XDuCgHkcA20qDF2oOPcsT\n",
       "XOAf0UnlESAjhBcE9Wjlyk6hmg1mLfK2CYF4/4Lx0EVxCrlg+pMkTNl2SloZ0+8fUGtiYOaRJoow\n",
       "DknmfnxwjYlRE3wn9Fq5gyUT72LrfPmw0V0s1vGbLbO1XCWhoWgEoKrDxBbdUPr3/cCQY4qGFKcq\n",
       "hjfhM9DUxgKKn9q87/an1MGIGgZNH2F2JSaacr5c6JA9sl/a3fM0si4PszsHQC1Cxx8570twbPkx\n",
       "XIpklfDdVv6ZLOiKqDSWY9L0TFAezS8aFIwAa8jjfSHRUF8r7Q27zsKCuNuDamj7TCbkKk0TVAYU\n",
       "A/mMU8S3zcaJi3wOVzgJCCieQMLg8Hwm7341519Qwh4Zbu5DKEx5lnOTJk5rHo5cVcVNA+5+c1hF\n",
       "jj3L7gtJ0h6n4rlKFLjjckS/rEdb9ZWWx3XIubnol3zHuiCkaMzWz7aqRoLiTS8wtuSY/NB8yXY0\n",
       "WVasYe+/Vd7zq7lvJx0XdMOzMx6iBqFeDrnbvKcZsjTlqj6LbCOExbF8ehhdIdlH3TSdvZP6oawo\n",
       "qHa4kfAkR07NFmwd7R5zCtbNyv6WDDX17kTXk11/rKTXGgkoIbyp0bLsze9pz/asfKk4V4W34ORq\n",
       "8uXVojwHR8w6ptrZP6uXEnG3Ij/8+S/Uku2CZJ93o0fKrPzc3U5QN9AavIe4bwKeYtxVAgOSuUNT\n",
       "3rUpCG5DdQNPaZUpgWvSibKJFLUjqB/QbygxuUlFnd2FBCaOSYRg3t1c4W8l8U2adG27BZhd5DtS\n",
       "Ea/RPqqfPIJjdeBMkVMDa3hbHMy1ffZvaJPk8gD9frUmYGttHGCWPNE3bArMsB4/cZZds5W/jO7I\n",
       "b3Xz45MJU+RRaK/BfyXt1jQfV6ydw2K+dDjdiEX2yFQjTi8C8YVDiMyCO2x1nu9xYyXvwFZgatPM\n",
       "/D5Ap5AuVrzkU7MWMl5AzIxIl/VaTB57gBOB4hA4OfKNaNPAi/oE52CDC79x6OpoVdulFhOZ6AIn\n",
       "01jHhawVY0EoFMks9hgGbPPHvCrW/yATNFVBpxnBA/97w11Ixja9cXnjtxO6Ks8sgC4qb/+nvUjG\n",
       "vlc2jt0XBpt5Z4DiWkStt/wpDBkNoNRG/Fo0MUwMFRz3X8pzC2cXqY3Jrbwb9HBeJqOzez43w/df\n",
       "0jKmImSGP7AxkR/tCHfMqhoPJsKEapmCe2DfBpCnBLWz4xai4GSzUlX7xNGUicJoA9zeJcPjqOhN\n",
       "e3jBQ8B6YJb2eNMWVeyscFqVzwHtfm11JBxyjhj08mkjlrQLByrB121Q+drDYNzGzAGdiD+0Nr0U\n",
       "WCVYfdSliZbO2YIx83s9X756Cszl0qNRjl4yy6aZauXOmQyAYTi0fOAGPB7Iw3WuqYbFhB5uRKC3\n",
       "xTRmx9Lr95M2t+PCShucvpoo0D0qWxdmzT4IDgGrvc8n/yZlNRWqSZuZvOdD9nwJcQd+a8qBDaGb\n",
       "F7iZkBGTeHN7dvrPeRPFJ6mCTFFDpF66IvYlfMpNiG8sobgzocZmJs2coS0TgO+muCr5R3ECicGR\n",
       "4/tKYUCnbQBBuVbcb4moSrB12qzVKFC5R+RwcE0VJ/ie9Xls7/ahSEjxKWbJQAEBjxex58ZWJ1hj\n",
       "4yiI5yKzydh/Movy22ornmm1215ylcblYZpcWjHb9kP+LfZ6hLvL3978/XNDoxtXlctLaf601Wr8\n",
       "jbLoq+jFxFOw2AlfL4c2hPKON1PJsFMauo8cmtmsxEttnvUPmYMlZOV8PdGBvN6iRQYWyiz9+ioA\n",
       "ShTvSaBHBdQvJtICoRlbJQBRZpdgzw6ai5oJIqPrpbSj9bIKIDBScH1k03spR9KVtBeAKB3nZgiH\n",
       "x+q/LIGOuYKxHk2AycnbLUkjtcihuxYxyDRS6LGkrDoj9qvqB4u3K6iz/A+2pReDBGNefwg6IDnp\n",
       "WGkV5mzRZ7DY+79vDZMHlRxDCRCFAknzeh7dJooUucnpjJ48jALFDnjlUJIGkmV6URjQaEEaV6aE\n",
       "A7CN8B2x7DT1mGiEMrBE+nbT+zCF8093ZWkpHgDhH4YRbocMRiZcrY3fjs2N1710sujCav1phez6\n",
       "bDwvwXLsW0thvUsmHY5t45EJHIltxTT9/8M4P/fx7LJXAq8Lj0Ivr5oQj/Nr5RLYGl/fiTOwLRXV\n",
       "vZqC9/mGBf3DEVHCJgbr73QMlQSy78pohPSv26lfonnDPMC8Vo7V42cMXKOcC8US6LCk0cGTAaJp\n",
       "uAintEHiPCfqj1biRlNstEFdyx2oUQ3FLmXsH5kofkSJRUEshV4Cv0cSLja6sSZhuixJRCHxzL8V\n",
       "KjxL6gX+xSOTCZEHXa2C3zgXLFJ6zTGDO8hQGEwYE5oCi5ezuQZYHzctviXkG3Uhw1IHFkcfakD2\n",
       "NAzQLtBPERdcpkonirHFaBjU+m7i7kmSpgj6zpk8R8bggGzZ9WF0tItCYZLwmuBAzHJqMMUvU8cb\n",
       "chDMDsFe3yYoZxo0kLq8qmJec+7To09bLsbE3Hxz4GZ9/8UmbkCaZZitbqfy2sVUTohAvSBTJjWg\n",
       "xCq2taKAkMtW0259iaLnee0S9CPWNGZRqR9HLGPviEgjIsppeeE+qtkPiDuxQYmy+ZRptZuCSx2U\n",
       "GngxREGCPZ2LD+an9fC1Dfuo+7G7bwgWJ2NEpoeu1BkQXCwkEI3FJxs4EorYv1N04fKT5wL9HR+a\n",
       "FOLbEtCt575soyWInMNOs7AwgOwjVEDBInNtEQLLoURp5QVN+Tv2dOIY8v20Q5gfbDe0FsF/AvIP\n",
       "GoOhk3BitpHe9B+4ydCe2hUjp0Cnlu33ukznJCd1yw1cy6RI/Jyf3t2nzkV+OT1fbDnYoWhy8p54\n",
       "utCxzz4CrSzr0UR33nxw2jQDbg5yloKw6BNKGqPUi/tXao74Znnm1hJ/LkOU3exbL+iiTBavFjtr\n",
       "791WSsTQCmeBOsTvteAyop1uON5Bi4vHNssIw8N6/ZpQfAFMMG/olh8gieyMkb/jbMOjm+BiEN/L\n",
       "dqpSW75FDWS+iFuaJUy0qxZ15T0yun9ExXZcgwbD5lO6veFo728McputHySaNZHB6PQxPKL4le7/\n",
       "PcjrNW7PgX3cG9J6hjtjIZ64YdbCl4mSgGlX5zNB7OmC4TWzU2w3/Z/So9HDo37jZSufTOBnMeC9\n",
       "Am69n76xMlEQDDDm/MJYVuTTcaC0OKT9HZ9z8Veitu2fVi/+LX4vMCVAqFcctJjopwLTvXrdF/Fx\n",
       "Cm7bf8pbwp5fTjMDpHZDrv1G4FD8oAwhqGNFHHQyepYZriAVZIe1yAK2c21FH4wNzsDlKGab4Nyh\n",
       "+XA0EwG0azprkTA7DqF0BHJXGXY1xDp7nZQFmG33Ni9Pa/FAfj4KlFTt7yxOEkebMlzcBrXfZMER\n",
       "WAKNrg5rfODppFqAMz7z4M8uzmRomkAgPuxZV/KIUkbHpthaV584kDy407M4WEYrsgQf0qTkiWG2\n",
       "ndhfAmEowbSkXqrvnCdSCfxeil4AUA+7XLk04mpqaCaGwJFj5O1mVUTn80nbBT65L80edZkNv1vK\n",
       "rPqAW8AEHnb6JZzF+hHOEhfSElWMct8yioCYWDJyf4FbzSxnTHPvvPBlPtd9mpxG6XIBn1iM1X2A\n",
       "N6bh8NmpO+zKuJHU8iSTyfqTkbLEukEx+uZ92M4WLYjF48XSa6XufG0HHUm9EXCmYahRSiR2j8y1\n",
       "CVd4uiaBVdAqZpl0VQJ7nwfmO5zzJ4e740qEreuoYQ1gp65oU5+FsP1fScSrLIzq1/vOSXyD71Fn\n",
       "Ac7C34mfinxTGjJCM05jrMM+ElXJ6F7L0hWKfaWDMTN9HpETOJPjmUCQk5OCI2azbsvFUK5ze2nl\n",
       "tMUBkEyT8pfOQRuMvRPykvikJmsmIe+M4oFO3XQTpABNBVJdQKBOpGG5JFt2uoWlNnvsn5FoM5C+\n",
       "vRusUP1AxVqDikvLY6OPVGEV+qR4ZbK5bi9VecNRhCVPPWyodCgA7eqZkaF+evKtR+5e6X1709Ax\n",
       "757K/hvnDjEmdIdS9E01vYjbNy2BU3BZWN2NQlcVs/LinzEQZQOGH4Ti5ndTOXoHK+ItGXwZivkP\n",
       "4E/kigqrR+KYLZ5mX2Ug6ECQFZs4cKjEKTJMjKW1ObOX7ClWN0KogEkVFbMkuptQkL6zb4wGzJ4s\n",
       "cjNfdKDYekca/lZjNtsR+enjYq4mswfhaXbg3/yaJccEgMk41kmpmL3GlguQ7WAuz1kEG9j5ugUd\n",
       "3ePZDqW0SeKr8CmSyo/2HfEn5UJwe1hYEZTIzRrvb9J1YqugVx4kosVSihnTfHwfZhIHd/bHe5T6\n",
       "OSzwY8Hf6j+e2i905FzEe4y5rxJXAmQiYBiRrAD/kKhRAkGh58idarAJPFhAIBn6AoVLCartqgzx\n",
       "BmxfgQkbJz+KS+eZTDEEDNc20qsfXRfvGP/JfaPZMDzfVF30IAZ7dRpGR896AQQ/wt9lhQnHyVNz\n",
       "NM1+Reb/+CdVbECQhLwwwApI5ikG0bDH2muSuNtMeYjAl8HjeUEBZfLqnmAFE+Vw456MrZKWXbHJ\n",
       "h6e/n5o2iaSGsC8x62sC25S0ncuNtp34bQKoCa+8HQrSRJu4waKxtrBMEdMHHd0SHpukk/d7hTpQ\n",
       "bD9jq247TyH/nhjP/m3ZJjHKNF8nFZmQbBzlrSb67rYAR8IXaCap4ibjcKXbCi3I2QJIVAygtSk5\n",
       "/V5D0/hMEwKJrJGG42sTioiFCOcihYk+ZDSxn4hladH6Q6GOOnj1Hy+r83PXPU8m+xr3rRBaLu+Q\n",
       "HLxky40BE1k3sCKm088xs4gseYXanOewbmtF3uEXjd02vKFYbZ0Cjh0EWIYmdTtWGmKmjWUovcXO\n",
       "nyBnVPSqrG+3TW/F98PcTiFaxKdGM9wcnuaMqn77VmpJM4TW33K+VHrmy9Oc1jU2BA0SZ9z27A6T\n",
       "/YDHDdmwTgYnXpx0dcMQ6Rv9UjGoKvo5i3xwBYikKkcrEr7f+zp1HZIcBgNtxWVJSmCPyE5J3EaC\n",
       "ZNb0ie9NlWWLUxrkIXW5j2xCLBCrwwFvJQbPkoWBnL9P1D2cb5oj7Jxpn/oQQoKC020lqOHqAlAa\n",
       "Urh64U6ZM1GFnZUrZLVeExpJ3bcn/5dO9TMIrd6cX/YwX1IYPeOi00J9CKqjNvKUFhUYfVVqFMNk\n",
       "rcjPmwx2viZqyxvcJ1Jr87KkPy/ejvhf/Dtnv/f5koeOg3TQBNruWSScxsLpCsqHrJeVsry/2VIQ\n",
       "h3LLL3s05vxLP88tcYia5Oq2eZbYGDrqZt3qTWfsofPOXzWkgKxPvA8Wa4zdR6KSCT0YzSX4A6bZ\n",
       "nmhfDPt4QMdWcz9tB8FIXJGs/HApJXgPsl+O5r9pBi6u/OGu3LNdzMpVcdgWCik6vIB0BgG5cXwa\n",
       "WhLm+qPz0YEi72IaDqYv8m42LtgDMjdkax6/NtEFFEtTMxGw+vd/G4yOgbROW+GGnQvZ5fBRvO4Z\n",
       "6ya8/vaS6l/Cw2HQDodXBRkTFqdjvcMsgtsEiU8NUW67/ZQ5Svt2gaYlx12ns8JCZEPeq8IkTyz/\n",
       "iM80Zv14qMxbw6H+ATK4E8q2rY4NgqA4tISGRFAkDfz3GshJth3E64SjXkvvNlX+pzhK4jZEEIRB\n",
       "+shZmHQ21bDs5htfYQe4WuHAV58XObuYQUVSMrPhb4VXUlN1MWPeWhKzZ4MAAXsn8BCx7NZVVAum\n",
       "bird2He79J5lli4HkNDG2UtgkkBdjZ4NbJWSZ2e6I5s2qshLt6ccmg4l4FG38Ru1M/S0oHIp8q2N\n",
       "z2Aox3+IxKsob9tqOq7LP5HpsWM8lKRghwohldCEqTa2EZnTKGs2TTIeDof+atjOko5ZOsCC6PYu\n",
       "1uB2t/7oBHUnCjBuPWNbcqP6mRDBI9qCWh9bTL//m/j4EO70MI7kx+qTdjvF61CE2LTTy2wnjLex\n",
       "LqjVBO9SF61edNPPAk7n0UXwbsJqrkjBU1dqiXLtE4eHB66Ygi1V1gmb0RO8UNOxGYy2C6lcTlgm\n",
       "MJxqMkKzbZ9dC9Bqr6EK4JpVxp8A0VPhOq+ucti4Nx6CGjw1A0l4d6cTJjfak9nq0iyAy5OOse/g\n",
       "mHe0XZA9uMk+tBK8cslhUxmeSGKaUfZCIpb5ZvJ/TRBpvFcBxJ/7i6dkLD9Jb7N1d2+kyDVf4ebJ\n",
       "0KSJ/LWfNO8pum092PB+FKLlmrqCCtSbJgDnTpcBlsD43Imp9QNj55zZlS7mPlaIaDPWWSYhzG4s\n",
       "DItWW2aGN6Iz1JOS/3pMMYtl5Ig17sTjBlHONcjM+e4FUwg/eks5BpNux8B+UPTmLPHQzDVAVuU0\n",
       "Su73iRgsKnHXs4ubC7wYuaaUWPWRCHb8vsqI8Ai9DzR715BcYRmknfYMPfOi/v7tnm4CiQJzyRf+\n",
       "Yma8wi0izUye/cZa4XzM/1D2OIlowCgoboW7PKKj2nlvbnzmA86qFl4p+OZ91gyAUaZzx1N24Q3t\n",
       "5r/q5RDg3dgzyAzpL/DIcQKNoLn5riIr4lCqu/vC+ja9EMafy/muIyyoz7mhQBUnxD5bF/QzZ22s\n",
       "Qg660pO2TVy44U/+hOJ50JVvteaTGb+cIF9q1TIvehxIWMpbkWC5gss1NGZomkEf2M1LYzXNwZAZ\n",
       "sYuYhbuxokLMtwdix5joK5s59JnnfWy+YOymy9DM27AgxRRshnQpYgKKe8pupQr4kxqI4viDiYSb\n",
       "knZrjRiyNj3Jsvx7D8iJOh9wSK/K408WbPmGHhGDdtcUWa1kizcofMv4AJbMQHzUi6UcqgJ4ltqp\n",
       "kaJbZbaRTFSf5A+Bl0OP0nLK7J3C9VqMjsCXLVh1G3hq/T0wbDx4tTd3WhcOYjIjoE/hZCwfrwYy\n",
       "riUz8cXYL7L3bD6gRqT04z2EGtUInutZhvi4vkRQh6Ac5bw/EPbs6WqXRB0/Y/6Hozmr+shwWCd6\n",
       "0a79fpDQwSmmEeJWHmM/P4kY4z7lvuAtuYopvHjeo+kjSS88DbmLuqzXp5Fy5WYrfyWN3+VlAM1n\n",
       "1tg745T/OtselU/UrtfSU25gFxVZMWs3YqAfvhA2ZrJYuuJBJ8H7zi+XRSiglgsAxbmqZ4dWHSiA\n",
       "oz6LNhK4THrQgTb8eUAzYmLYETwpVre+6sWwuzp/iAok4EcrE3VAqwaX9YRiNdoIcuAO9ikx7fWd\n",
       "eEBqQHWrHYak6BXpmBQQwv4TROX9Z7csSs5O60OMbauYTRQHERVyk+ilunIr0rKqCcdwgzsjDrGf\n",
       "ejEWamTr1sJGergRMSYo/613VDJupEeUJm4d9cH1S/KRrfAq4rNiIWK+McSn5gJFkmAC0Cc7P4Ym\n",
       "4M07PCmi9NiD2u7vWlR4Y/v9sByyWrBthb0VPBx395d81USF5pcMcPEuf8Mow2LvAwaDyVlNX5j8\n",
       "K3gQGeto6ELLSgPFjaXCP/gKZ+TgLaV/nYX+2B9udQRA/iBLTn6mxJZeTS7sRTBTAJN0PL2mHNp/\n",
       "lqyfqeQijURA3+CqKCvBCTaGmv+j34e/ELQkwpD3Xv/tPeh87FjhFqDG3N41s3xwoHLEkbFS1F5G\n",
       "yD+qis7kVzG4uMmp8a8HXV6ESpGKwoX/PiO7NwHVM4wJkTOx5CxKjKeaVX5Vf/V+biV0E/2KRAr9\n",
       "URg/nteaXFMP8gAO8izj+MG6NezFTxPfYuPaTM4A1biK//1CBKeJB+N8fr0bHXuIS21sOzFfhNn/\n",
       "eqnMwyidm4NRG+iT7nUM9UVNPwiJjPXsnJxKYNoVt4iQmMRiDvpIGiO5/T4VhdJ+3mh/jVVoPIKV\n",
       "V8okRynx6ME1w8Ri3iy2jlHnS7NeO3DS+yUx6/Q0kTg/Gm4+ddqffE0/qUnRg2k75Msixnxxbx7X\n",
       "f8FUrgVDB2WCetJB4Sfvibqif4afCGVNE/hwT+Fm51fbK1pDuj8WpvQVKrYL2KuCRYzeLH6/JjiL\n",
       "SGikfIiCnlEwf+NBeOy8Sd5RAOUvoybclW+4S3hhs25yqGVH7fE9i2iTaayQ6tAFR/Im2/SkgoI9\n",
       "W9vIqrBQY2e1ddz3yfS7VK34qG8jQuyDX2+yI3GP9/VbLZJag+lPWjmMmB1tZ2cFdcVU2ckQweaM\n",
       "S4df2GXA/ghpfPBwi2FnGv69AFw36/isa9P5fXPZugS/y/Nhpbmbdao8BuhrvCXqDbMf41ipbmRt\n",
       "sEp+TOWo8f6Q6k/N8QfBbu4l5dZaA2BrI9cF/luFmmBO1fTsHwpO7EPE13MwLdxTgjiDyrQ3EIPd\n",
       "2RDWn2o9jTnUAbUH0fooSRB2n6sMZEcMSVd4WFMIerxkfxIpm1Ka9z2Xp4sasoLMzzfnpRrGOJ6j\n",
       "bfrIRXMNsZnKwc+la7zzamNEV7QhFbOjYGfq7lqr2+nXhrB8X1mA2ilXRfJUlmtaJZeh+roAk6Tr\n",
       "9zpEWWH4xoPD1aCb4I0QEWWOIJbTtbqk6PTU4w+aGjh3udhpMwJYErT+DR0kNpyMw3OTVDND0NOM\n",
       "qF4B45Z0Q/vOAf+PF/jIxC9TdY8/BW3Mj5T+YMuO7IgwQBl9d+ar8BzQ2PtMC6Y7GCxRpimGxPqU\n",
       "tKmqQdlZLqyjIe/0mLNbStbNJPVv8OwVvk9UNa/0wr264cyKk9aSwLDpdkfZwb5IeuuHpGJv3KEC\n",
       "2m5sLjmL49gBMRdNnYkXb5iqXvILShhlh0kb8qRFuBpBKc4Hg/+X+Ss1fOMUenXveqayYgGVNdfr\n",
       "RSYbZkm8tPyH+Or6L+/FnoZ8gqysjg8br5V3z8P4eAiauxlq653i1RYrUTHTm5ou+TTdaGtazeuV\n",
       "msGHODV9gBr6y5CeN5OH96jC5zz9mPIU1nkTU/Me2E/7ewLnboFDQncllNwxGffAuI2VPT+2WeE4\n",
       "Qvl3BTCgTfqlX+wR7QDcP9zCl0TelTVf7chGsTrPMV8eaxJ+dKE92w69GO4V4fW/tze8kDOa6l4+\n",
       "DtaHvte4k17+jInLK9e+Uq3q8uS42KwEDvKceZHaHzBeSOFI/u7ukT3XQEtUcrJYkNMaUEDSqZli\n",
       "QtuQd8nfMzToD8WEOuI6s2py3/r45xDFxmYUzWCa7Axu/3/oPniJrWANWJDl+1eQgx8TdHPk6EAg\n",
       "cj0GMFG4hIuq7KAf3DkqPBKkBh/7Zhz5ppen+sKeNporcyJAauCT2IqnsN6LMQS8n4n3Ap8DooY5\n",
       "pnNtm1npLP4zVtrvJz6By3hNVFsduydIqpp4UDXdJbGf/1wxv6CQoqrGJF+uL7GcFf5QOMSBqTEI\n",
       "2z7niLcwLijXVOGXizYXL6i2RGkgF55nnh65yOpgGYSK3V2UIgWP7AR7VM5zTQqByysQu9vD9+KN\n",
       "onOAIeaw3EVjuIJ6hhrBZhw/wqU0icocPDw03uHTB+pniko44u2LSF+sBqDRtFVM+Gjh2cf3jMjz\n",
       "mxRfZDAryuRHdir4UFsTDh6Q1QICsSlUUVKRpfhqCsv/fTNv7uvI5XEMX1/2yZOfNB2fPfjbmLsv\n",
       "3umDiIEHzHKDwNBWnRgwz2NMYPzSiVv5ntAQ4ZbnVf/5N4D28kF1y52m/mn0tGzNoL2bD2jXD93P\n",
       "SCRIt7c2LFmRc8DmnB1Ive2CpEbOpYVamV9ZNj6hNuiC+rHmSk1NtZIZnMHLr+ne4VqsMCZpiDVq\n",
       "vGq/owzij+ijgpmpe1F1rxEkggluJQqWbZx2UzVZd2ZYEfbJdZxUidii9k9OJbihOjZM1pCoxAUT\n",
       "pSXK0JgezlXPEyDjnuIN+dVhKCI9Ep8aOZgKB7YlW9wIi2k/2y7t6M+pbOWYHtbxAE+/YjXlEAOf\n",
       "0g6CWGZnkpY+g09zpV51qa9cOMToPZct9P5e/ZGlQXYk+05qr/y36SBIS5mFiVlv2AwTLwlNRfqN\n",
       "HvJfdhfxNhbWTZcxcRfDqxQW6s5BwRJea2B0gVGKN72QYsESU3y2A6VDfdAIA5bTI4i3w+GO92mB\n",
       "YfWEsLSKYmo82kxV9lZdeVkBR80vJ5dmug57T7mPOUGNlNWIj1c6jFs5O7xaNx/mflsOrJNmWsla\n",
       "IOAMTx99JOFqMcNaD08bwEBabXeNZV2lVcxv3Q71cWKGtcL+B47+oin2tOkUQMP4XwYPE1xeJ5JR\n",
       "6hiSpU3KAz/3kUHCPUGIVejmfGEfhfJSVwxjvto/6hRWrFb0Fe5hVsL+oeMbrcslH0CWSayiWUBS\n",
       "NrMtAE3Uc/bmhwWeIjp5i+ir9lDPSBIQ/Hjk/w4iPh2wrW5x7WK/KKxmXJ1HraNKBE7rWhfKsjvr\n",
       "lcaLsRfND2shI5BPHxqw/YD1G5e8xmYL+/BfQnLleNbDwp/re649F/hTtcju3waxHq2k9rttTvI7\n",
       "imWafpoXIchUx4cJPBSWox8QE0Nf8ErWvPy+/oA30ZQEOhl7nOGy/R2m2rEuq00Ji9vBQ13SFq2g\n",
       "kCtaZw3p6Te2Xs+Q6VaNJ6D+tDpFdt3bifpZJKJ6fqmuXCuIMaEI45Hn/bMCs4iYisNmCwOmKKiW\n",
       "5scO3MQNeJOxP494+/w2/OSHGLWebj+ELI1OIAznKMpvLh1PlWTI+2QoV+FfWlvcNJI6BU3HPxwl\n",
       "BZRFngD76zWMb4FJ7RE5KjDLxD3/gMIcEzppWMlmfIbDYUFoR6jAf3pJHx3ospAMlZCjJfTNbwNm\n",
       "L1jX4AVDx4//7z4FXUYkhr2NKW9+6s+dT8ngfIUXVQHpziaUeX7JhKV8y4QWsHCDNeugASyPUtIz\n",
       "WKMqvqTxXLo/LiaHU4T9z4i9J6m6pGIWgkhDMTazSY1doNFaMMdRHAeMv2/NsXWPl0Y7vxgfIQ+b\n",
       "APgXcLIeght9RSF2qwskw+RpstcCJrQlUQtnydw0ASP8hPmoMzm/BaaWQfrjJdOQAyud7MV9LBx4\n",
       "T9BPFlBEZgIW0kKSOpRrqaK78sC1/COfJpjk17O+nJKXoC/oNLyVBtvjny5GC/B7WefkCdSE7NVS\n",
       "wPN34sCwd/rSELptSjMfHp4Wuno3wymNGl+EJCR0K+8Wv85BfwlVnUQezz7ajX+GVcdzpOgvCpNg\n",
       "30rbBkmWy70mXCO5GRdb5I4eqGAC7ibISdZAXu/OXirgeGnVR5KhWeDinxxSXW7xz9jZIteoE85v\n",
       "5qEsx57MvOOfVCmD3qFBTGA75QgV7bzgdes/3y1HEPO4q8Jk45WPU5Arp6eNltVN8gc06xqvOSnO\n",
       "bkpPL2KMC2950SC8EWfAg9o/4zkHpOwc34ZwPpn+jTA/0cIIt7Jl9dxW2Cnu8wzm5wzOZ4foMA42\n",
       "ta3YnwJFApmK3MAd5YhEWsL8p5D+mzha1V/LHcjmmBy/9H2FHpL9V7emYTsDFFuTPAOLXIkCDEgn\n",
       "z4lIeSRfDCUcrrMO7/KPipTxKDJc8yVSY7dLQS+ChA+FcKSTDITYCiD9b9f93Zg7ZW9oo8ycRlCu\n",
       "a6LnXOgnvqQT4Z3yknLmbmFBMEl6Qhz7JyLTqeV6hLRdSiJRVJEYjtCdS/iXSRHdZI9cG9iAf1JW\n",
       "3Zpy9Ezo3VBS/C41bcaRF7/+cWA+eQ4oqjpwhoVXtM0SwSemcAXN/RIezxZOuz2+5AAEoj3oQVT2\n",
       "u1n4sd4+eQJzAAACtEGaJGxC//6MsAyvE5Oc+CHQoNrgGhVF/C5GqUwjZ8DStReoce0sNCv78x5X\n",
       "gzCpaGTkPA1VBot1pNFvqZXPDEBdkAywt1p2iQb5UivqHJ+mMfssDL/Zed0+mSbMKy57jGvLdwkn\n",
       "WBjfTu4uBqzxizIJo8qhB4MCV+Iyn1YEwJo3lIlrWKh7pKECUwWSgs5KYhsebeDQH+QXx/vWRlvp\n",
       "AoXMul4Vj6lDSo+6p1NPn5CSmIXbxhv6O8v6shbKKqIs7FkWBgOmN5bwDjnyEQW8RrPBFQEPRxrK\n",
       "N36/h36hsIS6JMgkfEk+6Ra7sy6Ph2l9AF/2XXqvt/igrXGv0wnFUyJzU5gsRZf+cDMVor3k5fv7\n",
       "E2pjtkAr46Oa7ct1bhodPuV7NowkJ/tulJEk/48yKfzy6RsbWJ7ymG7b6et2vhsFuj5zK/h3UE+o\n",
       "S8W4cHsEehGDb+21Fc2WLco63reRDlRJ333ABYRdlnx0j6/+83buxo1yUqMMiHiNNpW8nStwBtD6\n",
       "qLQ+GJ3wTF8fAVmzhkqtmojRESUZJNS1ecGMM7ntO9XD/8FqWNc/zgbHIY9r+sS/iWg/2Xf2Rs0f\n",
       "Xun4jhqZua24RfxG+1HKbhFtbKo2SN3uXZ7Td44lQw6TdH7khBO6xvOsvOnYPrNp1CZIUnyCYd3i\n",
       "QBT+OpyfOGFF0MaQsW0VNXVMHY08OqGQ+i9TOK/706nmaui1PBZgX4RGLomprRwXXWoeK4Vqh3oV\n",
       "LSg3t3l6sjERnoOtwaBCqUhciuoxKUOizlqrkCiNtz0Bk1rT8M/RYtpFUYAicbQi8kRlAF4pujAN\n",
       "yFw6zpmM1tYTJ48OWwrxQpda+L4Fk5TYiiIb+z4BqmmCDPqcfBBhRGuk9gwKWAYxtnoKRx9B4Usj\n",
       "VbHSHBgYVycE0/dkvMUgcuQdaZG9AAAAXkGeQniEfwUz3hfQdMAecQ434o33IgrdC6pI0LckEF7U\n",
       "RRDoEir3JxzKoi+aYQqlUX9fm3hzlhXD4eZ7UCkbl5zHACWyMHTek7+YOl+7Rv4waW3/fYlSvGZt\n",
       "JRT2RcEAAABGAZ5hdEf/B+KVJmkQ4xbq6YSh5dinFrEAtlDKsjKz8bhF/YomyDjmM5RDZ/taABMu\n",
       "nR9oUExxqGqGln0Tp2utzbHAbi8iwAAAADEBnmNqR/8H6jSmlFzOsOQrAgBTOdlLDpA1REX8z7PX\n",
       "KACc9xU4ANAgq+1/6vfyILGFAAAAmkGaaEmoQWiZTAhf//6MsITicnOfAD2SYdrKr0DLjB2oiTTu\n",
       "z44eEgHiF6PgAnTTlV6IWI8Tt61S9Gbpkx1K+YRX6H2RJOTeSdCAiaRLbtyC4U6v+pudVHkpKX6K\n",
       "93ndLdG50lwGLZjBpcFHQckNHsUcrzK6wy8Btk8pXKEMen+rhPrW73I/g3gRpI60xSJjp/q4EoQ5\n",
       "hJ5Q0IEAAAAuQZ6GRREsI/8FVTViijVl/5/2uNNE/Cbz6m2fBmNZf2Q+QQ3jH9xWihcRi+4VCQAA\n",
       "ACwBnqV0R/8H4n6wpmZ08gNZ/pLAgZ4PqDNEHkV8GMwyABLF/FpdupVSZeFigQAAABsBnqdqR/8E\n",
       "M+RCGaezxUJvqYj9/KOg7BgxDEAAAAA7QZqpSahBbJlMCF///oywAABqQ8/IACdzWyMuNmGnR3Ru\n",
       "x3eyYwfOaHGSKyUFS+3924zXC7mjvTUWKScAAACkQZrNSeEKUmUwIX/+jLAAANQ7tsBQTQye3rZ9\n",
       "jAKsY0jn/xBz1Bxq7tvoBaJSX00ikepMkdrzXzLUzZRh9AExaceaky7VI9/ntv7No3UXxopITz8A\n",
       "cNE5Xhiz/UsSMAXJngr2MZl527c5rHlQ21CD9kjb0DoGj8D7CbuM8wwuYCGZYX+tSg8jyPgGTJKk\n",
       "4e8ZBJA4c8GmcTmRmOtkWU9+RPLWD3MAAAAsQZ7rRTRMI/8CsdTvZeCATCEYU/MArWmFk5aWwATs\n",
       "9JmPEETwKMJYhdwygsIAAAAmAZ8KdEf/BDGI4k8GTKYZhiZHPrOYuR34ALUVEgOWOUbnjTREqOAA\n",
       "AAAlAZ8Makf/BDPkQhmns8VCb6mP1tZvSA2wAXQG6YxUFxMbns409wAAAIhBmxFJqEFomUwIX//+\n",
       "jLAAAM9AQOATSic9ql4wksUTrM4hIJbu5wGrDst/DfjvzGFVow+d8EJsKfO5wGbMGlF8BGxlBlrH\n",
       "GBny2pcr3zIsz/V4TRDFXgE/RDzBfHrk8Eu42C3BSCh+bfvwubysmdurHhbBX751XVU53PVQ7vOV\n",
       "ODo/qWKbmrQJAAAAMkGfL0URLCP/ArIUHB6p+6au0zwjpNFBNpgPCrEK5ADbTSiAEC9N2D7G7ji0\n",
       "Gn8eVv6BAAAAIQGfTnRH/wQxiOJPBkymGYYmRz6udDBAAnboNWjIRPGvwAAAABkBn1BqR/8EM+RC\n",
       "GaezxUJvqY/W1RTQe7xkAAAAcUGbVUmoQWyZTAhX//44QAAGHY46AhVeoVzHSpyVeaEHtSnjUr/B\n",
       "3g5WU4NxMtIAt+oTlH0OeebAQwfOay/7xIisHg14Mq3AWhDhNj8aJS8+wZ28+Qw34DKgaQVUWD+2\n",
       "zMYZOshksDaNjYmBaByONWZzAAAALEGfc0UVLCP/ArIUHB6p+6au0zwjpNFH9L8ABuZjqO3cOB3C\n",
       "l2oF+EBm7IDiAAAAGQGfknRH/wQxiOJPBkymGYYmUCEQvAhg4IAAAAAfAZ+Uakf/BDPkQhmns8VC\n",
       "b6mSRgzjgAljRs3Mtht/iwAAAElBm5ZJqEFsmUwIX//+jLAAAYqHtuAF+MJsXV+Fc3gHzPcssyH7\n",
       "5btGIPUnnQaCF6nfh6tKEHOXNfoojwDF2PAaJfgqYaIBN3EQAAAALEGbt0nhClJlMCGf/p4QAAGH\n",
       "hk9wAsOqqvbNjZsxeW2ZKRSvhRBsUBvIIjSRAAAAZ0Gb20nhDomUwIZ//p4QAAMPDTY4BJCoF55V\n",
       "rIXRdGMgcQW3bt7W6RjeWtu1mzt/xRIpKsn4y1c0xLGpgYbq/ms0LIjM4CBCqrCHSfny8KzTNkgq\n",
       "Zm9vwzBaweGbCBTclE2HJiTDoEEAAAAwQZ/5RRE8I/8CsdTvZeCATCEYU/MCTjH1XMW/nACyQt63\n",
       "kIC0qrOL24hy1c003vWAAAAAFwGeGHRH/wQxiOJPBkymGYYmJwsnNxHBAAAAJAGeGmpH/wQz5EIZ\n",
       "p7PFQnC9WntwW6gAeL/AbbXsssEMia4F8AAAAHVBmh9JqEFomUwIX//+jLAAAxTu2wFDNp6EkPFi\n",
       "Gf8uL2QN5V0dge+VKcXJAtAwbYaZFs/ic366S6EX0gE4gPFpDC2n4h06qw4XUVsgVDvN6MROFS6G\n",
       "MlD92/fOxy/dJcs3fs2MbtpYXzl8+GYENZqKxiTNz4EAAAAoQZ49RREsI/8CshQcHqn7pq7TPCOw\n",
       "IMscjACWqyBg3qLt8xLeCWljiQAAACYBnlx0R/8EMYjiTwZMphmKaUc2AALcFPQ/mpCVWwYqTx0d\n",
       "0qJ8TgAAABgBnl5qR/8EM+RCGaezxUJvqOA3H0CKwaYAAABxQZpDSahBbJlMCF///oywAAMA7tsA\n",
       "mHCUJNuiSXttDC4XKkWMHYJ8lUEJkBwW/zhAkvsTRUq3Z0iXJebA2uJXdusFDxNaHJzcL963AL8z\n",
       "0XqpGidW44peh82X7wjYQiYWF5Eb6Km5HjWZbkjdU15TF1MAAAAoQZ5hRRUsI/8CshQcHqn7pq7T\n",
       "PCOvmK1RwQAF0A1yVqhSChfG9WIMqAAAABoBnoB0R/8EMYjiTwZMphmKCxgTYfHp5puKwQAAACIB\n",
       "noJqR/8EM+RCGaezxUJwgUXDAALiszRLiEKPE3COGHrAAAAAb0Gah0moQWyZTAhf//6MsAAF2x22\n",
       "ATDhQmUnpJom7K+uWG/OpacbTZQIE8+1Cvsu+MspgjsdDA6t7xGvRbV/SAvPMoRP6qCIIJBcG7L4\n",
       "O+vfUfN12Fyb2lnodSH5nXlFFuJdDTAGhZvHGiQrNVW/AwAAACpBnqVFFSwj/wKyFBweqfumrtM9\n",
       "1n/QAlf8Nz3Un2PKuCwQxDYI3SQuQOEAAAAgAZ7EdEf/BDGI4k8GTKZ9PPqm416AA/DtVQ5yH/ly\n",
       "0dEAAAAYAZ7Gakf/BDPkQhmns8VeeHZP+D5ccSzrAAAANEGayEmoQWyZTAhn//6eEAAFzghX3UmA\n",
       "DljO8/g/3/90c45MUg5CgAyBcVDGVWi9XtKJTcAAAABKQZrsSeEKUmUwIZ/+nhAABc3gDQqVuAHL\n",
       "G2AJV2A7GbW2KRn7niEmT3f6rlyfNN+L3++lPHKDRMzosp7eL3kvPLJI7i7E0ds/Z8AAAAAgQZ8K\n",
       "RTRMI/8CsdTvZeCATCEYVCxWj0Nj6dypQuy/YXsAAAAYAZ8pdEf/BDGI4k8GTKZ6mJpCg0Ltag3Q\n",
       "AAAAFAGfK2pH/wQz5EIZp7PFZaFWkoEgAAAAUEGbMEmoQWiZTAhn//6eEAAFzddOd7gBywIRReL/\n",
       "Z4s2AWc6bvK5vMxqPaVzxBuK2NyB/diX05M8KobQaGgRtfNzFq5iDzfFK16sz8cT1bXxAAAAHUGf\n",
       "TkURLCP/ArIUHB6p+6au0z3LPSd65yGElymRAAAAEgGfbXRH/wQxiOJPBkykBPVmkQAAAB8Bn29q\n",
       "R/8EM+RCGaezxV7/cwAJlFr03Dt8NZkLuIIwAAAATkGbdEmoQWyZTAhn//6eEAALVlhAABQR1Ixq\n",
       "nM7EWD4+K1lfFnJIlHavNNpRZLekEkqq24HM3i/xy4f4WmVMdeC1ATYn/K8SwnBHWv1JwAAAAChB\n",
       "n5JFFSwj/wKyFBweqfumrtNIHfnIASUW43+tIzUug72VBy5XpuOPAAAAFgGfsXRH/wQxiOJPBkym\n",
       "a09AkxcufoAAAAAdAZ+zakf/BDPkQhmns8ZcACkAE7bR4DPrtMPdqzAAAAA1QZu4SahBbJlMCF//\n",
       "/oywAAtuXdsAUzJyS+xbBt46sdeP32QS3Ie0v5gGO6ErwoUoCxjfJN0AAAAmQZ/WRRUsI/8CshQc\n",
       "Hqn7pq7TSAhQ2AG66kl3okFfCnJouFYiYEAAAAASAZ/1dEf/BDGI4k8GTKQE9WaRAAAAFAGf92pH\n",
       "/wQz5EIZp7PGW91xtG+RAAAAMUGb/EmoQWyZTAhf//6MsAALbl3bAG3kpeSymdxinDSJtVWIxuZ7\n",
       "HzNARLQ4WnceSbgAAAAaQZ4aRRUsI/8CshQcHqn7pq7TNaGBovhkeK8AAAASAZ45dEf/BDGI4k8G\n",
       "TKQE9WaQAAAAEgGeO2pH/wQz5EIZp7PEYgtH6QAAABNBmiBJqEFsmUwIX//+jLAAAAdVAAAAGkGe\n",
       "XkUVLCP/ArIUHB6p+6au0zWhgaL4ZHivAAAAEgGefXRH/wQxiOJPBkykBPVmkAAAABIBnn9qR/8E\n",
       "M+RCGaezxGILR+kAAABCQZphSahBbJlMCGf//p4QAAtWTowBVuYisEakMMePRPNtqLk6mZ83A17a\n",
       "2yLDJxJ9E3E7aMlfmP8i+5HVKzOztRFlAAAAUkGahUnhClJlMCGf/p4QAAtWNxwBsk5fvubaKfSO\n",
       "c4qF9G34qgKfW5ngETRShmxHMw638Oa4Deiqw3VarTuzyxP+dmlMz+50vybxAnAelCatWcEAAAAn\n",
       "QZ6jRTRMI/8CsdTvZeCATCEYVcwxOAD+dxlnqkUgGT+d285bNWjAAAAAHAGewnRH/wQxiOJPBkyo\n",
       "20bgAmjEgkDpQcO9oOEAAAAVAZ7Eakf/BDPkQhmns8ZachONzs1BAAAANEGayUmoQWiZTAhn//6e\n",
       "EAALDlfHAFM1pJJgCN55FuKNfPNUZoyqkerHBIpzfb3qCuiItoEAAAAcQZ7nRREsI/8CshQcHqn7\n",
       "pq7TR3QOHZBexDXfKQAAABoBnwZ0R/8EMYjiTwZMqLONIABMfbqJQm4olgAAABIBnwhqR/8EM+RC\n",
       "GaezxGILR+gAAABTQZsNSahBbJlMCF///oywAAtuebwAdI9V+PvXNw8Ke9hIi2p0ynBhTGCZenpd\n",
       "7+CtVAX1bLIB0FODVGWyYAL/xc+FNRVRCDHLEO6B+fGLIL4aNQ0AAAAeQZ8rRRUsI/8CshQcHqn7\n",
       "pq7TR/qRQur67dGon3AeAAAAEgGfSnRH/wQxiOJPBkykBPVmkAAAABQBn0xqR/8EM+RCGaezxk99\n",
       "uKx3IQAAAFxBm1FJqEFsmUwIX//+jLAAFtx22A/z1wFAMkcA1K2YKG26xq6+/RVe3RtcNog9Jtw8\n",
       "Fpxj/tSiB2eCXhU1zOOOcLcu7eYFJtV0oYTT6e60Em5sf8teVrwXM7FUDQAAACdBn29FFSwj/wKy\n",
       "FBweqfumrtNcx/6Cxx8AJlsOHU9/yTs6i4Wb0D0AAAASAZ+OdEf/BDGI4k8GTKQE9WaQAAAAFwGf\n",
       "kGpH/wQz5EIZp7PIV0a36U2BuO6AAAAAUEGblUmoQWyZTAhX//44QABYbOOgVPnR2Nry250kjvMH\n",
       "eUyhX/314rfPK/NFcV74jV1L3XT/2CIyU8vs21QmXEeLDJsL+NpWMCtd2WE/jMl5AAAAKkGfs0UV\n",
       "LCP/ArIUHB6p+6au010NH/XcK6AGi6Ecrw6GTA/fmRaJGpmjwAAAABcBn9J0R/8EMYjiTwZMra00\n",
       "3GIjj840wAAAAB4Bn9RqR/8EM+RCGaezyD95IABtlBzOqg8M9dg1/TMAAAArQZvWSahBbJlMCF//\n",
       "/oywABbcPsBSLKM0271tIU8PcFR2WVphB3FV/EzRvQAAAHNBm/pJ4QpSZTAhX/44QABWLbZgJ4AT\n",
       "xAUU6hGd48k1xSkwY9HeM2mN02PWHS0jqOchJFXrU/419eVqMgjnnmKYJWgGzN2F7oUr7mpPuVhU\n",
       "29YNWrkzHoYj5unXkcJy76g/HKa2z5AK+URc3id01lw654RNAAAAKkGeGEU0TCP/ArHU72XggEwh\n",
       "GFjwbIwAXCe/2+rtOdaM47uHHTtpgWlMRQAAABgBnjd0R/8EMYjiTwZMrWMZuNciauMNIpAAAAAZ\n",
       "AZ45akf/BDPkQhmns8g+06Wch6liVIa9wwAAADFBmjtJqEFomUwIX//+jLAAFb1pIAB0j04nAOty\n",
       "PtR3S9GZ/FGZPY2hz5tDnC/FeGMWAAAAVkGaX0nhClJlMCFf/jhAAFQZAEurOgEyEni0BDoQwjZf\n",
       "8SGFmX8MRuBNnshA46D5A6EwYZkBvh1pnbl8Eod1xrQRWAQrbs+o1oD0RE/Ye5agVimVyQz5AAAA\n",
       "LkGefUU0TCP/ArHU72XggEwhGF8J0E3A6IAVn7VAj1tRSgfN5uNJNfUIS+D4ox8AAAAVAZ6cdEf/\n",
       "BDGI4k8GTK0XHQwOHJxAAAAAFQGenmpH/wQz5EIZp7PL93IvFf1fIAAAADpBmoBJqEFomUwIX//+\n",
       "jLAAK3/MIhOOloo/cJxD8uB6y6PXJEEdumv05akBJbvfF6wuYGx/9EqFgGDBAAAAL0GaoUnhClJl\n",
       "MCGf/p4QACsvVYnKAHHF9+SCXWO0dvCjKEFVYzdZ3gbj8zkGKoccAAAAX0GaxUnhDomUwIZ//p4Q\n",
       "ACtb7yfGC+2QAWH14LOwGuKc/RyXIPmd+8DdNZY5dmxBzrWqQIY9ylPSsniKLaw6XObiR33E3Qe2\n",
       "v3XOgPtvADvdqzVvdFHNtWk6A/LRsFlBAAAAKkGe40URPCP/ArHU72XggEwhGF7xxl6jxsANtMx/\n",
       "bR8UqjLDu5pbWvfHgAAAAB4BnwJ0R/8EMYjiTwZMtt21fjKkAAOPQ1NB/iCUI4EAAAAgAZ8Eakf/\n",
       "BDPkQhmns8wdruv/z0AG0TGNOdghQwOGgpEAAABtQZsJSahBaJlMCGf//p4QAFa6P0f5TPKCgRxE\n",
       "HTrChTHny5sPYAjnsjqwAgj4qVN8AWZgrq5AhKHMGSzVnvfvi/HDLBH/2Ze4qKqryZT9aiLF4vAn\n",
       "dozgm1ftKI2S6voFCMCYcajiFgqcAFj+rQAAACpBnydFESwj/wKyFBweqfumrtPSyqZggAXFqakt\n",
       "Jbbhl+Dxfkg4T9YkIWEAAAAgAZ9GdEf/BDGI4k8GTLbdWHTQM+1gAAtoxFO5U848gQ4AAAAaAZ9I\n",
       "akf/BDPkQhmns9N/AlATa6Eoc4A/OLoAAABYQZtNSahBbJlMCGf//p4QAFY4Y0Qk6WNgA5jV+AMj\n",
       "UIjz75m6Bl32TGDJmakRC9h4q7Lr5y5+czM56Dx9NjC0Tpu1NNF5qCuC1jZds44kSlugBrQ9rOt0\n",
       "/QAAAB5Bn2tFFSwj/wKyFBweqfumrtPOug/oUt8jrWchQeAAAAAXAZ+KdEf/BDGI4k8GTMi8kzOS\n",
       "1OEnmccAAAAVAZ+Makf/BDPkQhmns9N0DQEAP3rPAAAAO0GbkUmoQWyZTAhn//6eEAArGqqcAK5z\n",
       "gNF8nxTabT2BMgZp7YonVCE57kj95ILPWg4qHrXoyDfqLBdxAAAAJkGfr0UVLCP/ArIUHB6p+6au\n",
       "04KyagAFwULTdLPY78RXyKUrifNTAAAAFQGfznRH/wQxiOJPBky23iyoTE/5+gAAACABn9BqR/8E\n",
       "M+RCGaezzB2WlH0AB7b8LkAy6MsJhMHzoAAAAEhBm9VJqEFsmUwIZ//+nhAAKxJmxevfLssAXmlQ\n",
       "ZaPi7pl9jznSxuDPkPbBetibXxlcsWCdlETO2+Nz+ntz2qeo+kmkM2YWGzEAAAArQZ/zRRUsI/8C\n",
       "shQcHqn7pq7TgcilOaAFnk4CiMGxvMAo1rCafb2njFgAEAAAABsBnhJ0R/8EMYjiTwZMtm/w6AEy\n",
       "nJM8INf7UcAAAAAUAZ4Uakf/BDPkQhmns8v3dbX+gSEAAABEQZoZSahBbJlMCGf//p4QAFYxegAL\n",
       "D0MfRTFD/amuilqonrlBVgVdPO2YeM9hTaYRN0/ghmzJEzRG43+eDVd5+Qd84Q8AAAAfQZ43RRUs\n",
       "I/8CshQcHqn7pq7T0sqfKhEzUZW+6s5SgQAAABgBnlZ0R/8EMYjiTwZMx7yVkMdQGVy8VUEAAAAU\n",
       "AZ5Yakf/BDPkQhmns9N+62X+gSAAAABDQZpdSahBbJlMCGf//p4QAFY5AgAAENFuN3j7CJukl+Ys\n",
       "ZYzKSsal8wx8Ahnx2SJJtQu4CSZ4QbNkOHqgjx3aYywLuQAAAC1BnntFFSwj/wKyFBweqfumrtPT\n",
       "5uoAa3KXXe2BAxCaa/n+gwhYPMVw5iw8dSAAAAAeAZ6adEf/BDGI4k8GTMipIB/GADjq0zWjtDkG\n",
       "YA/HAAAAEgGenGpH/wQz5EIZp7PEYgtH6QAAADhBmoFJqEFsmUwIZ//+nhAAVjG44A29O5/KJqN+\n",
       "xiB/gxGxPUxxhcUrGT31qmBVzYFsVTSvRZwS8AAAACdBnr9FFSwj/wKyFBweqfumrtPTPtUALWsW\n",
       "F/eq+95YhFfIqn1L+esAAAAUAZ7edEf/BDGI4k8GTKQ8j3OB2oEAAAAUAZ7Aakf/BDPkQhmns8R5\n",
       "w6Tgb5AAAABNQZrFSahBbJlMCGf//p4QAFaLP8H3eAOYe63NQURAXSI0GeX6SjgKdD4PRx/Qw23g\n",
       "3Ad17jDbx2d8SLNWbIPGeStnNoTKPZJxBrHPgh8AAAAeQZ7jRRUsI/8CshQcHqn7pq7TznqOchWd\n",
       "qJhZNz7gAAAAFAGfAnRH/wQxiOJPBkzIvFfQSL5BAAAAFQGfBGpH/wQz5EIZp7PTc2kOENdFgQAA\n",
       "AD9BmwlJqEFsmUwIZ//+nhAAVEqxrSHAFYwPwgXnPuIfQ9IMpYBR42x6vzianjdLD2ZJXaNHs7k/\n",
       "eMSMussWDekAAAAcQZ8nRRUsI/8CshQcHqn7pq7TWY6Dtt1c1uIkPQAAABQBn0Z0R/8EMYjiTwZM\n",
       "x7xX0Mi+QAAAABQBn0hqR/8EM+RCGaez0xvtiSx3IAAAADFBm01JqEFsmUwIZ//+nhAAVEvcwykA\n",
       "K0Z5Z8zqdMM6tHX8IlJ1eFd8hCA/fVok4JuBAAAAH0Gfa0UVLCP/ArIUHB6p+6au084eAoOYWrHi\n",
       "g+hH0IAAAAASAZ+KdEf/BDGI4k8GTKQE9WaQAAAAEgGfjGpH/wQz5EIZp7PEYgtH6QAAAD5Bm5FJ\n",
       "qEFsmUwIZ//+nhAAVjG44A4oxhKD5zYyo2PI/eZk6UDmXR7q10x48KVIfif2wP9m0Y9NbtE3q58E\n",
       "PQAAAB5Bn69FFSwj/wKyFBweqfumrtPOtx1kKzf7CBRuJIEAAAAUAZ/OdEf/BDGI4k8GTMi707Ac\n",
       "3J0AAAAUAZ/Qakf/BDPkQhmns9N+62X+gSAAAAA5QZvVSahBbJlMCGf//p4QAFawIukkfAA6L0vk\n",
       "sbpDs25Lvti0vXCJ5uAtez2JwGvc20I1t7SOTBQRAAAAIUGf80UVLCP/ArIUHB6p+6au09GDTD6d\n",
       "6ZAoZ2qJ9UOxsAAAABIBnhJ0R/8EMYjiTwZMpAT1ZpAAAAAcAZ4Uakf/BDPkQhmns9OPLoACdtyL\n",
       "Clo4BzjgIQAAACtBmhlJqEFsmUwIZ//+nhAAU91JYL1SyACwUDrpJB4hHLRHG3FqI+N6Tgm4AAAA\n",
       "HkGeN0UVLCP/ArIUHB6p+6au0863HWQrN/sIFG4kgQAAABQBnlZ0R/8EMYjiTwZMx5glmJo4gQAA\n",
       "ABIBnlhqR/8EM+RCGaezxGILR+gAAAAzQZpdSahBbJlMCGf//p4QAFYdYb1TjAA6BtShBeZ59QPi\n",
       "V/nfXs2wwqal3LPda//0nBLxAAAAHkGee0UVLCP/ArIUHB6p+6au09Mg1+QjvlD5FY4kgAAAABUB\n",
       "npp0R/8EMYjiTwZMyJOMpiOaY4EAAAASAZ6cakf/BDPkQhmns8RiC0fpAAAAE0GagUmoQWyZTAhn\n",
       "//6eEAAAB0wAAAAcQZ6/RRUsI/8CshQcHqn7pq7TWY6Dtt1c1uIkPAAAABIBnt50R/8EMYjiTwZM\n",
       "pAT1ZpEAAAASAZ7Aakf/BDPkQhmns8RiC0foAAAAPkGaxUmoQWyZTAhn//6eEABT9ZPcAIv/lVJw\n",
       "cV5gupkRoJffetX2aY6jUrSrGbgYvN2WBWW+NoLZaOFbpG/BAAAAKEGe40UVLCP/ArIUHB6p+6au\n",
       "087a5sANzMapWyzYQU7xCK+RTrM/FLAAAAASAZ8CdEf/BDGI4k8GTKQE9WaRAAAAEgGfBGpH/wQz\n",
       "5EIZp7PEYgtH6QAAAE9BmwlJqEFsmUwIZ//+nhAAU/K+OAIkN27gxM+Uc8ow/jYEA3PHeS0P7IGx\n",
       "HkKkdWJPv3h8F+4RmlGhJ94ulQgJPOixvwwbJSRBjJhH8Ab1AAAALEGfJ0UVLCP/ArIUHB6p+6au\n",
       "0864TkL18gBUlxx822iyYjTvRw4dtWejyu+5AAAAFAGfRnRH/wQxiOJPBkzHtPDEkjVgAAAAHgGf\n",
       "SGpH/wQz5EIZp7PLzDUdADbO0xLszlh1iZBmqAAAAGRBm01JqEFsmUwIZ//+nhAAKgxvjM6uAKDa\n",
       "4PpriYZiqPcfgbxjsR3fDBlcs0A0SWuGaB5RKpW4gf48JMLbVpunyZLxO4Z90k/lf6zSiuTZ1kcp\n",
       "dFlr+TH6bjK0ETnNil7uibKnAAAAKUGfa0UVLCP/ArIUHB6p+6au04Cu3QAJPmSnCDv/Ta8JsFb4\n",
       "XiK17ilgAAAAIAGfinRH/wQxiOJPBky14ApgASOpVFZgUnfUYuWo91mYAAAAGAGfjGpH/wQz5EIZ\n",
       "p7PLxcNYyn1/pBX2oQAAAD5Bm5FJqEFsmUwIZ//+nhAAKfnHuAHSPqKP3ScUhPb2jPcMZFYv6z8s\n",
       "9cLQvyiKCE5EB13p55q4QwaierRgwQAAAB1Bn69FFSwj/wKyFBweqfumrtOAnMINU76JhJSwkQAA\n",
       "ABQBn850R/8EMYjiTwZMtUwS2To4gAAAABQBn9BqR/8EM+RCGaezy5n2yWx3IAAAADZBm9VJqEFs\n",
       "mUwIZ//+nhAAKfnMpAClXfjdDg+WgRJKK4mrauohXeRJ8si6kvhyDMCB+95MKSEAAAAeQZ/zRRUs\n",
       "I/8CshQcHqn7pq7Tfp0G3hmvkdazjqGwAAAAFAGeEnRH/wQxiOJPBky1XivxSL5AAAAAFAGeFGpH\n",
       "/wQz5EIZp7PLy3W2JoEhAAAAa0GaGUmoQWyZTAhn//6eEABT8nRgCHxDUnjw0mW90eObQ1eY/efk\n",
       "sbzo4LW2K3EChwb5wEJF5dtGlkjvuJugzCMK4njwddACDiUNU1fcZHEWPRGequVkTtYMxzb0t6Zc\n",
       "iP6/Pl5rozjZaAN6AAAAJ0GeN0UVLCP/ArIUHB6p+6au080GPnYADafJceP/v+ct23qyzXbSMwAA\n",
       "ABUBnlZ0R/8EMYjiTwZMx7wwEaHhlMsAAAAbAZ5Yakf/BDPkQhmns9MRBukAAhS2tZ30NoJwAAAA\n",
       "RkGaXUmoQWyZTAhn//6eEABUF47OAKY8neIc4KPRf+FQwaytfgOc/d1Tj5diSfZbhBTWwMDoPxi5\n",
       "/tKnX9OPMPT5OHXCw2cAAAAfQZ57RRUsI/8CshQcHqn7pq7ThH3PDYEp9vgy81gHQAAAABIBnpp0\n",
       "R/8EMYjiTwZMpAT1ZpEAAAAUAZ6cakf/BDPkQhmns8wjdbXYb5EAAAA1QZqBSahBbJlMCGf//p4Q\n",
       "AFPxuOAK1SzZWO1YFdui9I3h6QgBR8x05bipRTLmhVllXlMnBNwAAAAeQZ6/RRUsI/8CshQcHqn7\n",
       "pq7ThMBH0hUNqJhZN0bAAAAAFwGe3nRH/wQxiOJPBkzHvJjLq1P1lindAAAAFAGewGpH/wQz5EIZ\n",
       "p7PMI3W12G+QAAAAQ0GaxUmoQWyZTAhn//6eEABT8cgAA3SQpKnvfiAguestulFicYae/duJZ39A\n",
       "i5AZlYUvW0yOgAkDeE4AZKiavOhpAh8AAAAeQZ7jRRUsI/8CshQcHqn7pq7ThMBH0hUNqJhZN0bA\n",
       "AAAAFAGfAnRH/wQxiOJPBky2zBLXYdqBAAAAFAGfBGpH/wQz5EIZp7PMI3W12G+RAAAAUEGbCUmo\n",
       "QWyZTAhn//6eEABT8bjgDmH3CPzdohgKsYJp8qY8MEHQuPsnGdvnXW87A3LmuhBIvnue+/gn2RB7\n",
       "fkE+DGKdabst3VVpYoRq0MGBAAAAIEGfJ0UVLCP/ArIUHB6p+6au087MOMSi+GE6BqaFuQTVAAAA\n",
       "FwGfRnRH/wQxiOJPBkzHvJjLq1P1lincAAAAIQGfSGpH/wQz5EIZp7PS3ryoACy+7yUvfhz7j3He\n",
       "CXnp4AAAAERBm01JqEFsmUwIZ//+nhAAUbJ0YArfriCEvfJ8W/NeB0BOC/YrUDSbrP0u/90LDAME\n",
       "CWEpKKAmt+AMe70HHTE5fOCggQAAACpBn2tFFSwj/wKyFBweqfumrtPK1zUALeNhW/jJ++UYyN0S\n",
       "LXn0o6Ww3qAAAAAYAZ+KdEf/BDGI4k8GTMaMZA3sm24uJI+LAAAAFQGfjGpH/wQz5EIZp7PSa+32\n",
       "qagg1QAAADpBm5FJqEFsmUwIZ//+nhAAUeq29wArnMQOmHychqW8I54wq1c0RpQ65UjeyM4TPmc9\n",
       "k7Dx/7pkUhdxAAAALUGfr0UVLCP/ArIUHB6p+6au08trGABLVZyJrul4G3dFAqb+ZQggvyGQkIqY\n",
       "MwAAABsBn850R/8EMYjiTwZMxpexl+8753eI+STnIPgAAAAUAZ/Qakf/BDPkQhmns8t3uY2doDgA\n",
       "AABPQZvVSahBbJlMCGf//p4QAFHXilABW/UfNwddo53aVHt7aG9rILR4//dX1mkZSgtYckfF4XXE\n",
       "TcIfqEB3x1/4O59L9EEnVW+KvagC+RhdwQAAACtBn/NFFSwj/wKyFBweqfumrtPKzDjvJMRPOAGx\n",
       "2vWrBY6Q9RdFwomLwrCwAAAAGAGeEnRH/wQxiOJPBkzGmInkYi4OEIY/1AAAABYBnhRqR/8EM+RC\n",
       "Gaez0ncFt2cQLljHAAAALUGaGUmoQWyZTAhn//6eEABPe46cYWALAB2b2JbDkcr7crrEe36Q7Zh4\n",
       "z4WDpgAAAClBnjdFFSwj/wKyFBweqfumrtPHcg2AIkElLgjno4SVDOpCsx0ulPc77QAAAB4BnlZ0\n",
       "R/8EMYjiTwZMxdxJgAi93G5SgwhVvGCWIHUAAAAUAZ5Yakf/BDPkQhmns8wjdbXYb5AAAABEQZpd\n",
       "SahBbJlMCGf//p4QAFGxegAIrGzlDswxDbWr/0isjdimZBt3pk6NcjSuoVdbFBwmySqrcQb1/m3i\n",
       "1Ib1ArPwdMEAAAAgQZ57RRUsI/8CshQcHqn7pq7TyoSs+KMIYToGpoW5BNQAAAAXAZ6adEf/BDGI\n",
       "4k8GTMW8oRP//lk80bEAAAAVAZ6cakf/BDPkQhmns9LEEyXYL71VAAAAL0GagUmoQWyZTAhn//6e\n",
       "EABRsbjgBtruFodHIRIfExbBSBTKTdApXkOCqwOufBHwAAAAH0Gev0UVLCP/ArIUHB6p+6au08p8\n",
       "JckbNGms/ZI0c6cAAAAUAZ7edEf/BDGI4k8GTLbMEtdh2oEAAAAUAZ7Aakf/BDPkQhmns8wjdbXY\n",
       "b5AAAAA9QZrFSahBbJlMCGf//p4QAFGzQeAIkN4CgPTA8IhJoZ5Ne0tTPR2ff6kgkZUGD/s6vnUZ\n",
       "YCeB+m0oUWLBxwAAACtBnuNFFSwj/wKyFBweqfumrtPJcHUE4APfmtOume8qco/H5plbb6Xmrn+s\n",
       "AAAAHQGfAnRH/wQxiOJPBkzG2jcAEwdo7IBnW4AS9BSBAAAAFgGfBGpH/wQz5EIZp7PSvQdNQuC6\n",
       "Mj0AAAA3QZsJSahBbJlMCGf//p4QAFGd+VRl53gBuJ0PnTI4HD9zT/8xorn+jH12WNKZ1T9boRiY\n",
       "KCnBQQAAAClBnydFFSwj/wKyFBweqfumrtPLduMALSy4rU9Em+cUg7fItcdLpT3O+wAAABQBn0Z0\n",
       "R/8EMYjiTwZMtswS12HagAAAABQBn0hqR/8EM+RCGaezzCN1tdhvkAAAACdBm01JqEFsmUwIZ//+\n",
       "nhAAUZ1058pABt+qR7M1jkDb8mKt/TxYGLEAAAAeQZ9rRRUsI/8CshQcHqn7pq7ThMBH0hUNqJhZ\n",
       "N0bAAAAAFAGfinRH/wQxiOJPBky2zBLXYdqAAAAAFQGfjGpH/wQz5EIZp7PSxBMl2C+9VQAAAEJB\n",
       "m5FJqEFsmUwIZ//+nhAAUZ7oEc5UcARMerCgeCqnapXstkeOh5SPXY8cXuw+Be62vG1WMqvOMo/+\n",
       "dZ9nQvWFgYsAAAAgQZ+vRRUsI/8CshQcHqn7pq7TyiYK/UUP0aaiAhDFPy0AAAAUAZ/OdEf/BDGI\n",
       "4k8GTLbMEtdh2oAAAAAeAZ/Qakf/BDPkQhmns9LF5IABMprT+bxjutIHEq4gAAAAPUGb1UmoQWyZ\n",
       "TAhn//6eEABRnunqLfsABYVkjGbnfwTKpGL9I7tETD1+U16io9O3UN15eZk8gJauxwiwccEAAAAh\n",
       "QZ/zRRUsI/8CshQcHqn7pq7TyXKXTzemjYe+firddAFgAAAAFAGeEnRH/wQxiOJPBky2zBLXYdqA\n",
       "AAAAFQGeFGpH/wQz5EIZp7PSzwR1gBwtiwAAACNBmhlJqEFsmUwIZ//+nhAAUbOZSAESGY7SI9zW\n",
       "RDCuJCwccAAAAB9BnjdFFSwj/wKyFBweqfumrtPKuk2SNmjTTKzekpStAAAAFwGeVnRH/wQxiOJP\n",
       "BkzGmInZ9zlxPNVRAAAAFAGeWGpH/wQz5EIZp7PMI3W12G+QAABBBmWIggAO//73Tr8Cm0WXagOS\n",
       "Vwr2yqQmWblSawHypgAAAwAAEbCGP88XdhmA8wj1/5TvdVNMLQ4YdbOI4gE0HcqTKjBPE/Kdu147\n",
       "4g7Uq6IPGG/MDq3n2mKsKvEjdNgAAE4HyNDjURqPpwoVBcKo18CTKy6ywGC6PlUJA4JVLXhNHMZh\n",
       "MGIK3mbd8ZlCCF3DliewesozlTuKuJbZ1m7Ja1+2DkEugkxQY8sPCNiF5ffzsQudXFiTExlgY96D\n",
       "RFogBGcG9QJFrDloOJn4uUA4d1J6EBOsrPlgl3P+6LuVD4usDQIcq+nGXy2fYoqQjhhUB8+5QAOd\n",
       "ADiMyUh1Ct+tKkLxSxPFoV3PrfcdPb6p6ttCj0/gqXGFT8Y+1RizDjvXxhNez6q9k3M1aP7dGDO7\n",
       "1IERAwrBhwyvMp1R9k44JuSpfXC9Xi2gX64TyBkUjAq/P8LNJ3JFE+Rz/6ZDcRYGc+vxAYqsC7ft\n",
       "WsOCSq8NhJizOCIxJUSISZHXVWF0zVUVUpUZRH8xn/o392q3kzXCJTTQeie+Df6/g25tvNwPVqGY\n",
       "W1lwFUpw+JIEMtnNoT8v1pc+gECzNZNS3NpkCGg8mNG6LKBH4fYeiEdABxqeArw3S/51rLT80r1f\n",
       "M658ITGL92Cr8WvPLQnTNeCVzLIErqMD9UI53z/Ma7AXZjdos8iccl73NIXBA14mAm5QcBXAbJh/\n",
       "/Q6HxC8KUEHkkUzy0PSlTdzKV+wAPpPDXS5wmJrYpanL7pu1zKluD0fBHuERhJvAYXGdGdWIU1md\n",
       "zrjlMD+yozoGzvfSq5Otz3dNmXO5jd1DyByKFf06NaLNNccsCRix2c/p9+6Mex3JqMDgSmOtAnd6\n",
       "CaSp620TN9O37BBwt+IXu/uKRi/ejcN4hzmvML3a0ntMRUhCEun8OILJKtaJHFW1SYq72uXnrdtp\n",
       "5qfd5z8R9EckDrsGuWclFZTHfDHVvbWEtseKqRsVLmRPFnqAqFTngZMBXifGUk92bEhDb8DRvmtC\n",
       "rZi1IkM1Y+QaK+nVCx2dx0+Zh8BFzvE+/FurrAv3BDJ+zZ9Ps7XKU9cWd9tTlM93YVJ/qzgPQJU7\n",
       "KYbbSIedKP7e1mjextY+obzBzBpHu9Kw3DP/cGx2ZnYP0C71kd2koWVamqTi0LHWA6SZSrpiYGzf\n",
       "c/mXCNccYmBRREHBSOZVBu8SPdbY6pYvSn9dNFHEtTrCYKegsoJ4YPHqDiHSCWqeJ983qgZwfMdn\n",
       "CQqaodCGB5mgrIW/Ex2xKJV2qeKKZ3AccW6lQKtvrsh5ZPqkLVRGfP/5uEDeVvDSWxlIk5DUmyQx\n",
       "qmpoitPwLIO7vV6LRF3QpTj2LYOi882ADJlMMU05ib4lAiaUYdT6VkAAPwh24LH/DJu/AuIwgXGw\n",
       "R1Hr9smYHeCAkSMCRYXeMKsjYoNd3Ntm7mFDCA6KMc/UHS6srvNGOfytWj6QwuODiaK0mD23mwuQ\n",
       "PqpGWI9Na2pTAgpi2CPhw3sG237TmPFYRlLggVvyU8Kg3/pusRQm+COJuzVLba3gYmXdFWi4aMO+\n",
       "DB0CAe4lcjQW66sf/z2jVnS6Yr8kg1e4LOaQE8KHKTjii9uKk6rV+dE7fEGlFDXuz91ch4RVFzhd\n",
       "OXcjIjS20J+z8i5UQ+dmKk/KEJy8ZZDTXt9Mbtoja0iv71zd/OI7mExfDWfYRXHdoJ7rywNsFcB6\n",
       "QQaf/YQGZKz6AWc6RTvP5XEb+Go4zvOqgzVIJrTHtIxnqdICTKbWSqyND1Nzzkc8qPaH3SrQkq4u\n",
       "kpfb7k58d0jTyyv+bWQJQx/RsRAHr+P9umkqAubhSUGP6heyGIJ/HRF9yr4asGk76KbMu/jzbIHt\n",
       "NYpVjClohct76v8Wl8gixQFlzudsh/wyv5qCHPRJUIUNUIxmoS49hbZvZ0RZ8Mn7N8BdMnt19gzT\n",
       "pQBumc2gOWHpIw6b4JzDfJ5jki3yJ9g7ZnDBualGIxIwEQOU2Fmb1Vu5Vvg4UX+AyGHisOP8xlyv\n",
       "U8a95lNQFfFZZuhFpTYe+dO3QUANPYgBqslg/TMQY9hl8AzwPAfyKB1W/5Y3eNOLJBHFYRh1rJnR\n",
       "yPTeNSTnjA3XqY2SWZ0HzkLEQPoHHjVeOYZZvhExi7MxTJAua6EoLpOevQCN+LijA2rGP6TgFkIR\n",
       "J5AvYyaFITWQ/+KudxNRldxa42lDQ6FIeUxGXQm4XO22CvAUNcSjBh2DPVd8hL0uJI9D1SXG+mdM\n",
       "h88OC4yhjaKfPNdxnnbLiQ9KePYaXtOHeBc+IXZM1MgZOAG4S59DALosDgtHRh1ex5CFuZ/vsVf/\n",
       "fECCMtCylQ4Ll8qRehzdn43DjakAbRc82HYWQ6r8Bno0ngszYDdOXWD975zbs6B2XaHrxmNXmTq6\n",
       "MDWDGcLmAtat9HFZtGXaOoRaBaDDUPVHy1ZwY8njTnr0IE4bXzM7otNowWz0ZsuZh+oNqRsIf0K1\n",
       "sqX41alx7YMC34T3zOp9kMMmkgtNuJX1748zFwMkBMe1ZmdWS3PcMqTBcUhgvlWIZda8BZaxalF7\n",
       "Hiuea3ZMErOc2nl88tzMeqeZur3xLXmu9ZTu67UjVWsKUNxX6dtrlY3EMOiZXH/rEcSKoo3RLQRV\n",
       "FRhcGCIqXHYUzpLzGZu4GmMDrjVB7hq6h4WFTn64ooUMNqld90wiV/4MRHCv7W7cuq/0DPHe20c6\n",
       "mZu3b8jFn2BDD11mtWFg47VT1mIcHMTrCwAJN3SvwRyJ9728e27+tyx1PxJuwwMe9re1b9thFm9z\n",
       "oBaWVj2DS9KSXzS/NMtdL8niP1p0a7KtHDTWb8bcDtIcz4ErXdSRITMpUztfACE5BzwGeIyiEiGE\n",
       "Ni3fXZzI+PSXJeU/HlqML90Ykp1JWwj45W2MjpUyVgQl3A2ZtukI5a9NQPTn56sOOBgQf44ZG6v9\n",
       "BVo1Ee5VPIVuPV5810YZT3IMcvXD13BQi2TNmoPlf4kVCboImcj12lvzNAUGkYr6+yHnqeJxFBOL\n",
       "B0q6VP8DG42/9YHo70hMVV7xJFjBfZwiheIzds+C40Wf24ar705lllVDe9EMTtZsguUfJYkRBaXb\n",
       "qZFPfgcns/tYqsmQaMhHj4d21eEerSTcdlFEfxGFSv8W4U5Ut2QzASbPLVqvHzeJgbRz2ay0exib\n",
       "iRuiNCrIemZq4J6v1ooQ74fVCAFSIKBfUay2gI+psX8kynhKQw/FdQe5vxLtwfQQAsk5qh55SNVZ\n",
       "EvrG541lzyzBWjgHcrnfnkJTL28HX6XZrLjzibvfQwiCxKbD6zndpQKvkWT+StJY+uyj56IRM9Yd\n",
       "RNqkO9vl5k6vomxgGOGWq+pxMV/K5lrbIc7SkktAJTn8PLl14NT7Zdmhx9Y7a4DA2TG85vgZoiQ1\n",
       "PG7qzTJXGasIZDHghXpIlEpFEBhKgsoxMCiTHuOXviJPhZHyajjOrjQy9KaxoYhfd00k/do/Y367\n",
       "PWPcuJNvQ+k+933ab+SNnuu8CVehcCQUqPwNBeuvXkL0vVjTPzv3dQ1KHzuc/nix60XJ4gofa5LN\n",
       "gh3samoBL28AthsaSf6cW64r7PpTyfO574pwV5aBCcWQ5dArjYde7HeE/MSCNm1fInrQuh56rVGy\n",
       "5xEa0Fda4A64T6DMX+gQoXCz3FuVjrisEKrtwTODBrIpf7j1oMEAHI10qFM2lLmH1IIOM/u1HeJ1\n",
       "DaQ8swp1wXX74Za/rDO2MZnJHv25V69cbasqmOVBP/i2dFV8iGm7aeIKdhzdbzJ3PeIunMIpM95d\n",
       "cefa/5hnGEeiL849Qau3GsL6SUdFW8AgC0rcNd1w7v+FVyPA6hTlJ6wriSkk8ldIzl8MYqWFhxVP\n",
       "wUIxGVelAGu3RBa+YHdd9any7R7IUvQVvsc+3jmYRPWjQ5vl5I2lJ7YLT9paResM7psLdGSQbAEN\n",
       "hH2Y2HvSWlfUf6AI99nXyoVPTBFI/s1P/qdZiSm2Ptw5/puNaWIzSDKDsNvviA11UNYyeYNjSWj/\n",
       "4lkS7jlb6GBnzu3zgQCzB2uiPkvld+DefwgyNtluJkaBfGhmPuPNT0A8w3/rsngKMsLUkqeUVhtR\n",
       "+ARFiv/1FkfkrY2qkDQrUDsIJpozPeUG4KeiRywkvr5DZS27OoW4kNcuMw1Gh4bgBPRuwYAHuOyp\n",
       "7Xd310FLftTfwVT6Tgy6492sA82K/X4xaHbPM+Htk4o0ONgz2O5YGpcIyA9iTQRC0gtCE3iQ8YFw\n",
       "HHTop08ZS25jAWT8NyDAWmLALxDgB6ZbINLc4k+cgx4vYw7w/4hEzjMA8jCXyHTXzg8pPVQEZyPB\n",
       "TdKdIw22FK4/SE5TLzJHQEJSxjY742fDnALdDdnJcQAl0WYopqcwjIU0s0maCy6E53GWiL6Ti+i2\n",
       "nWPwekcPFGQbQ7FneDCNak2eqAdRr/YXwQFZqL6X9eTtf7W/1LYVT5nY1vzS/pBCDvoRcZ9bcQre\n",
       "P4yfJja6mxiiby2dgbW779nQnkIIiHuiVWLxyt1M7fvILVO8do/jjuJwBqF7qGKbxCKkRjrGgTz3\n",
       "0hodSVnHjvmI/Rufd9HCai3IFlVx/9du3Re7vY5PYAqeYRU6yIueoDDddHQOf99pElt1FJbIiAB3\n",
       "ToCnhsIdyl1A0j0ugYkJ385Hh0g6oKNY1kz6MV4slsvlFgpfZdQ3+1WwWV45CEir8jghvHwVJp2J\n",
       "VcQs+s3WmRKwwUzld55uDs8rtlDIcenDuJxhnEc8oVefdu7sY0cJp2fs8EQFGJStqHHLY2ZTeFVK\n",
       "Ibg9OTbqa0eoZBN/m2IBdqbf6KYVdzsSjlawfHTMD1tt8po5XxECxJTwKbSEStwQPUhLlwGGBWIW\n",
       "9qxQ57jOzDK8JOg4NdHzLCE3LFn4DaNqqOh9w61WHH5pAhnKXhJeuwA8h2EKtgTVVinm7nrGkQgE\n",
       "IlIsJHfA52Ab3JkbjddOZ4E8JXe3KbUpzlJx/l/ixLF/B9vnOiYZfxf8DTK9Bn2lT9u5/Uk5vu+G\n",
       "5d0qWpTDgKamiuar5DeyGiNRvEnoi1mhHlQXpihNfqixq85HOS8AiBJq4lXTEZQwJNYzBa5pzIOd\n",
       "hmXUEUwgQOQPfIxfP2oVGozsbYlaN1pMS2XhAcffpNkP8AnRMKtjEpLy8FMNK8Vv4JLvrFgvnhqp\n",
       "1jOo9dFopDFqy7lXZfKoaMf7EFD/sG4wnVsf7YQlElYuGff89+whjyaVKx7yjjbdU6SBTr0F2mJh\n",
       "DD2pSqIDIb0X83OHC9NyRgKUdKykCJTBw06cP575Xh193PIuqbf8aXk9XR4u0RQmOAp7uW2nb6yt\n",
       "qn6JJ7PTPSMo8vH9jCezSmA6J0b+NhJBHfRH/5vLA4LRL8ThRcb7AiDULOTEAthHd4FYugjhD/Y+\n",
       "g6FvVHbhTak6VdRnNAJgwT59Vt2eE1ZE3Cxv6j4hpyHGn4ftM854OZe5mVEBvg8dnL5c+h6fDPlc\n",
       "JRXUKLDjkwCdM4lmMO1Z7sPtzFgg4+yLGhzOMcElzv2ESXbU2FWIarcIjOIFxnm5mtnAdEaCkiUK\n",
       "5FVyEL/LdMpTFrCKbZh9EFXKc9mFMTzEcO6QZDJHzcp2fz4xos5FYg3i08If9h/REGiK4i/Xe2Ah\n",
       "TA627a7NSDeHdUjjtBF9ciNA/5NfaUUULvm1dRyy/ffJgoNcjYms4t85eysyTeUc7DrCcr+cbfy1\n",
       "rxJQz8nRWSrOkJ93Iu6ivMF6uS3Fk/gKs8EsO0WM7O2WrVVxNJn+u1AWJn17T9ppuwc3RQJO5Blh\n",
       "y4KpB9Sf5JCS9rsUsrEVG/wqPDNUNfr3vhe1joeS/HGiL7xHAEgU2GqMyM8A3buWP1POEiPWNSyw\n",
       "Vue1ktYAUiKWA5ayvRvZQFIfNtuQ/y3usUVRmUdL5TswNwaqRszNxQdAM/tzblhuH/B1BtKdOsrE\n",
       "iwsxB0iO4BdGFusijnvwI2lCmk1shStHJ1TxTqzbsOWsKP/o0zCuuT0LmoKfERqG6c/ZERZlJrzy\n",
       "Kf+BSGf5nwjfKuhw4AQCqLTW02ayUueF7c3h5cH1fXpY67w6BUtG+pzff8gRJy1j24NTKyAZPtZI\n",
       "VB5cEk01DsFKjX/26/d+qhg+lD110AfVWbAhNkop+V0NZPmtgvl+EoiI92AObsp+9WRmkFDHd6Gx\n",
       "WDYXAhAQrmM1pll15Uti8drHUuckd3BWLu6ZWL1L6x31j95oshM4rjsJgWwa76lHa2xQ/c+tqeKG\n",
       "ihVbsWNOb2F2GPaUPvytaZRWk/hIAGFNmBH8+T3xvXb/Ph/w0Gs+ffGTwv+CmBX1qzSqIAMFILej\n",
       "CRoaHsaL6eywcVljbYG8ga3/6x4UB8puczv0k848XGagB1iduD8+YD/vF0NoQ9snVRrhdfYfzp6I\n",
       "L6SAoi7YeMMwkEIz+OJi4eoMn1/dohJ5h8q0DwjqUSb3KmAvRk8QELnBUfbahzSFCuenB+Yytvh0\n",
       "WgZJMTKuDZRzDivtBtqzPTFPznXI99S8UO2H5TB5EOFXaSBUe4yQ3G0yGKHpaSQG5SGa2gbzIUKh\n",
       "856CGnXS9f1tfvtj6JMI1I9AzbSXKg+SmJPbagF4xL+8kWOUzBvJJC8mjSE4BGWILXkjpsPrYEnU\n",
       "zedloC8rcuxsf1R/zJ4x360Vx4Whvf+IGH7ffR0zUenGMSRsHPPXhiV97xb9f0ObAi5aZUD5ELKe\n",
       "/EhpYM2gEcPro0cb8CN3C/8VK3PmZKKnjG5CbE9lCoQKTtH/1agSY5tTm2nAAAiKrOxjUQWfmgCr\n",
       "fhxM/dobj0o3xQBo5bizvKCOUKu5qeSxYcxkHjqsAS/Iv2ndSoXx/3OZow+VJFGUJ1M6CStMiKBO\n",
       "xx65AL22M7jXZShoYnLkHZGL/kSgLYX2H3lWgvSrqRwGnyVKmqAMUHiBwIqlNauMnAKh+0yOHPVq\n",
       "3U1uqiQrYouDEkJLzab7BI85WOwNozP2HE0XWbZfp6Jh4rbr3ZqwUxuhLM7l/8NBKxI4YJL0W/Ml\n",
       "7y8D1Qx+zcULzKOdh5ahKsaOWFIfMCaHmWMqdDAf6PlQnEESLbLlTePheVSp1bMDE3WSzSJvhAQ5\n",
       "1iW1Tlc/XUodk6dHJ6CRhkbil0H09cER+nAXRrLO1Sc6xHa9YL3qzaSSiMp8ob974indXYsO1o7e\n",
       "p+ZuPWUTOYmp5vz+rVbAYEP2gqaY9uCVH6vnF3lJBgokdnwUlejN7CMVUEow6Uv83z8uqaWxBP8i\n",
       "1Bz8SyaIWLek8B6JpRkenwxOcJRGpTSdMTVDGLNwoUvoov7UlsnfBR3/6S47pRlWBAw/8gyFIJ3l\n",
       "I6YehORtMKUp0EXhktgJk6Dar73t1W0cjqgBiDx6NgENYzA+979AH+ewlBz+XJbO/Csb/THOoTSf\n",
       "YaYUFyWonuVwtP54qdhXDpHcb3YFHG+69hL2fLsEQloL/sHzpj/prIHYzXmbv8NZ+fcI/V25qVov\n",
       "0LeRYCi872nkLvfN4z0xJnffg+F7m+HUr3v4CJBw63CgBETpl2GcE8nQFDBrpz4aDzrECDgoUrhG\n",
       "3vha/WMNo0pcvvbPD1mv0ZJA+DLfhcCT15dkpNV+wIv2Udp5yp3tD9gUlSb4nsjGnelDHzf2b0wK\n",
       "IndhS7FFDfaxblgkeOyKq2GcXq0O0/BuGQo6mvERPTcWLMmOiHoZTkRON2U5MGKxoveSHfloEITT\n",
       "6ZU90m4Af8+e9sXKhPkk6EwnE8dJquSBLJ7XnVkTIUYAR0TCnCpF6x7Z6sGgYX7c4R1u7vV+pfBR\n",
       "p6xOLiNLtFW1TOfy8j3gC4DgBfCTVMqV7lPQzBh3bgbX8MwsyhRJDkiLCd49i9DQohsHjmZ1EkEL\n",
       "Ljc0ZCxuDkRG/UyjLJIX30rp2ZIamKnU4RhF1SQz0CJ2z7PQrRxCjtx3mMRA4ButgwzRDX/Srtpa\n",
       "6IOaCt+/CIzCCJlGnj4nk5JnE3Cy/ttognMB8VaC03HvKweplIejbW47oI7pzOk5hRCKuUKBdwSr\n",
       "NVkTYbXnyLc8uRHU/Yj/3ie2b33t9QQi+rJueVFA/n5hbZ3p/06OyaTGHKVS0OEwb9piqlhuAc+w\n",
       "bSXxfL7A8SHG3gl+2NHOxSSN+KF/lVtR+VG4XMfM1vHx56VSFnrRf1gxWnqyXecAlxd8WykeRvaR\n",
       "eSJxWfW2u4deL/qeDceyUgX3HtM+pZkbDhRdnPm7is/LVVMIcmxAQk6l3bfLHG/N1QF7VZzZ8Qas\n",
       "Abc7IIBbSabrzsQ1JICmzuqTkLLilbTW+zziN7D8fW7Raso9FvzG3D2xx6LDpQnOLiIBLYPGaAZh\n",
       "zimOzWmi35jVU3SsT1yTYl7Sbow+kbyEAZ65juwLNuJM7F6XvXAskIpswPq//z33E5K+lrVgCyLq\n",
       "iZPGA2XwXtaIJ3TZPGQSNDTlyJFijDJzPut5kHpeG4yR15pDlH7nhyPFl2Xx/ECM4m4ZX32nb6aw\n",
       "14EV5jYASBq3Vi+DJYu/wS+ft5TBg29muI6ubYmAhdSC5G1iy66AUGZwQDKO4Dykeb48OHaQCtsT\n",
       "YRse4TZRDSMT5nYcvtfVAqDNfj8vxGuUBR5HKhgXO8MJpXsgEVAcx9Y/7bv7kII6+I7Yvsv8XCY7\n",
       "8NbFO/v+WwkV1p3rV1KgsYFYilgeqndUGkIQlhV2/299rcbW7HvhYpwj2oZgt1rz3s4+8KD5bMya\n",
       "I0fvPOmaeV/ab8k5jxUh+o1uR/SKJk++5PWZBfTvz3Q7zC/zqobjkLG0rsH1xwtpVKkRLuHhpiMH\n",
       "QzgNm1gkErWVNB2j08hE+gCSVY60bt10mlw+kpeX751wLuZcwRiV0moUOpff5f3PwuXC8E2MuolS\n",
       "JZRBuofylOJg6UbzEMY+ITWkO/fARE8ybzs2+bWocZ/ldbeSE3i08gjri5SV5i+swowgfiqsc+06\n",
       "7gDAeoGmjsr6EIAy1EaTiq0pGkohg06T8HcamEenAQRSyI0Xidz5ePZYxNMW4qiDvE7LOOIR1FhO\n",
       "zHZpZ/T8OEB9uI4utJ9iBgAxwJdfs9FaNlpSqKyz+iCoLfnB8b2IeEEL8WjICLZ2/YdQfr3nigzW\n",
       "RP+eTcp01ygUzBgYBgWhLWunFloioDWY66bWzyj9+3iK9dXKkW2O4DWri2+uzJ4Z/g1kMbfYgt7p\n",
       "L5V+Ke6TRuk3PwRYZ/1kUD0tioXLPHVMrKMyBgXiM/mO11ObGhN8bzemt1jGn/BVTo5DZ1wzQVCZ\n",
       "1xRS4t/J8h7Nb/FDmDl82LD7PGolzoGKsflljSzUwY9Y4Xx6qDRXzLZ+V9usAZ8KG/Qx1hSiDRrr\n",
       "sM5gdRKE4dgELas662f+xayxHm0Fn8m5Lli1YD17f2ULB6f1PD9PE34jdQLiqUjO6MzgpqAypMnq\n",
       "AqV7fXRdB9euEUkSkl7vGD4Gh2dX12pDd1Jd7oBgQXRGh9E5uTfNwgqhZdeWDj+tThCseKUvHsj6\n",
       "2/RCUlC2lt4CITjrfy7tzgi7VX0UBaauJJpfX8WwZ3cNcXyevZNytKkjqWCWeTBJCA2Jv+V2dwja\n",
       "qNO5VoFJ9Rjrtx3wZUZLFUzepdU5YGCf12p+cDS80mjqH7e2MHJRKc7fCbkhNlxc197PDOBSTVVm\n",
       "Ca7GFvFAYF4i2XyG061W5O15OoPpCGSkAVmr3m8/anUqSaPviBh7LnM7ofNEIzoVHWigwSs/1WRn\n",
       "y4G6vsAhXCtb/CidCAMZ2Xy6xNU7ZxGRlwbUBm9PLGuwScdGtmQE7+4KaRqandauF1z1woacFVSg\n",
       "bRSHRLLs0SbyR1I/eqA3DJN7VoPjTqLkBsIUYarUYUL2vts+7sjuzqO8XIgYBJWPBM0VU6nnW5Xh\n",
       "LSlwAvlMbg1ch9y1Z3J3/rsWzbcVu/7IsdZLeU+xHrDd5Wq7M5dgBXEvGvjQyh7Tdfb8bH9qHlkE\n",
       "ySO5AylIicAEIg5Ui7zd6HlUsz5XGY5QMS15/Wk1IK1f/1VGbC+epktU9Mz1HgkWe4bGlYUCf6it\n",
       "EJoG1sPKrx9FfCL2C9tEnS8RkDVxJxwT4qfICst8LtFxgI0eHXfD0H6lU51k3z9AHE+CG5h+5Bi9\n",
       "3ZtvCXhg1VvNCNQzZEPMrFOPmAu/lKWUXPBuZRbZcHJPQy7+Cymtpx+5Gs/OUCSNGLY2I9r6DFf0\n",
       "R6uN+PvjJ8uj7BbgogUTHt8h7EpPGxFCzCOLq0hs3G/oyeZTKLeQwO+/DsT0lsUs3vC2rB0Qb4iw\n",
       "YrFmy3fPmCmVGzpxjOnGvANF+JNtmmMqUgp4m5pmD4Ret/EXqQu6sNj7ns62hVrfsG7bnSWZ6A5e\n",
       "9yFDKkBq5QHA+JxpIpdnyUQnIeMSQekhIbW5y9rmh973VStJoWjN4Uuz9C4W8kkNXgnR/N6ynB9f\n",
       "Gq9SncYyTZQUg30uUDuIjCaNjorjlBYo9QooGdlUui3So26/XurWFSeBTQ2A7RubI3/Zi82s4zpj\n",
       "Cc0YACpmIM6KbKx/jXPt9T/U+Dn63JWnFn/jp/VqQYA/hQfpqG+fsyDEZSE53MJcZ+u72GRKNtOs\n",
       "Z++bkUwSQPCDnfxQdp/zXLsEgh3CwD7+cAnHyvf/du0wSN2XbEFpCPTVXD+7CeM+26R5BAxt+JhQ\n",
       "ZtmRUkIAEAh2HJzwQV0ZQdb5X1sfWZwmXB9ncD/YyidAo8sFsC2ojPDkyDiSvV2Q1jvDasRWWAe9\n",
       "r5yYBy/rIze+z4ZFJQZM5mwg07o2N9Vu7tkH6EhJBWyJ+gSQ2R8dGDdC9hR0MxhyJhPvcfRgCWcW\n",
       "DlqrH/UtFY9qSYe56cHBmJnt5IptTsOLHyBntLcacOQRwe4LQaR+/bgepCV2qu9ZBOalvjA/+6L9\n",
       "a0wOe4j5oQVliELuh1UnDhVDGz9+s9AZijmrts2tcf5yzTNNMmDNO3XfPuKnCKKQnVjd9dfKoZ48\n",
       "ATlrS7nhiVkIpyj+LKEFosyMipdGgDIkWfmpuPdG95T4YPpvwDo9Gf4H0CsGF9YtfU2SnEIqH2PB\n",
       "wDcEEDZ9VgE7iaBxaZbkjO74z7gJtXfz+EiSZsWmPahAoRB0qpj2XBRdQxEfxBS2VkGcu1aJMKuE\n",
       "zrtK7izD2MEVhPt6CMDaAjNY3cERYRDWUXK8cHPDDwAclfERuY7Zb2WLt1Sn4zHXREdLhUluqnZ+\n",
       "X9SeOKyySKEO9GITl4F/zlmG0emB+IYRPWc59BWlMrpCvy2sIGgBv/FNml7/qTPVMn/mmkap2Mdp\n",
       "1P7SBXzD1cioipg+skJ+MOpR0/fwvnqEHz8Jw3vpdKB7w37+ZhQTxeyzQFYztB27POA3v3+NHxQa\n",
       "KFJfEQ/hxAaWJc4H3gbYUvY7jTTAG4qPhXz57Pj6FhJryCWflhsqKM6dzUQK8pXV0YrAXnranYe8\n",
       "2sL7tZQvyqBMWCM0z51k9xM+h3jXU0N9L2H7Dfv3i49J72oA4jQLaoXxGXL+SXe1vUw2vofOluHd\n",
       "HO/gH1prTkZYwaf9JTcM1l0pMLzasgLJxp9iJ20gBa7PbrxNCw2KEkSj6RPX8ofqNmvEY+d9Pv/m\n",
       "ITXMyf/Oq/05XaFFs/xTKc+zJK9rO/0Ddct3JDHfvT8kxJ7oukezuaeqJl5RVw5ZPrf2cKx+H2ZW\n",
       "OGDcEwXoTiyGsq052QoF55TVefVOQ5DunGN9Rorayy8OSyaapgMyS5nHUuCeV5hgF5MQYsw2e7Fw\n",
       "LHnmFKxNgiDqhKDdyfB6SGlEkBa84ATX4dfFea9hD6Thf8uTR3xuacIuSAV4DxqT0gn8HbBepAoO\n",
       "252mNF6eFeJ5nPyyW07Uxsk6VPdsmDIUWN2J+DCoKryUWYYJtAqNiRhSrvwoAU7XVciwWwgyXAZx\n",
       "Vr3NepTt+zcM0BAHVfya7uXiSmDueG6JSqToypD/xVo2s+jb2VVWUAZs9IADQbmvUUBnwbPIzgWL\n",
       "1kO+OeDhN3s4DhoWAc1Zh5SXZxuiMmyXQjN1FkbI3aypvBn2WHzmV10i1Cv9Vtf8d2FGfTqvm9gn\n",
       "6ATmm6mfsryX+uh38ToRWmNTudtr05sHkTxKM7iPG39qntMkNN0/Z2iuFeGHx9u2k77CYb9sAKW7\n",
       "fZGS90nvBGlLtqo+vDcp5O+NT/JAeJ1m+mcMKam4ky2p5107/WSIfa/lCuetIIwdOIm6h2uvtfXO\n",
       "plH30O/eQm368W1PcOK4ekH6vqVzBSVuHDaYnmn/vq9JV9WU90FYcvq39hkijNbHROk0BZiiObx4\n",
       "vanzvYp7ANbPfwLuRi+PBJFTZYnWv9BXXHI2QOcQNVNfWAH1s3ty85kDKBDZKWPZ7bZyCZn9uW9s\n",
       "yL1Yo0dfAqVR+LepGsUek8biFqJv9rtcP/4Gm5vmzPaju9MFOscNw21UODH1YRWhFZBscKRIGvzQ\n",
       "VNg9YxGMRIXSSsZdt/SofrIJ7061/TjBftgN8m1/KN5/TB71FdmGCalh904tDvOrPdm8cXp3dmU8\n",
       "HhoOOlg+XWzrkusZX+UUngDhQCEFll5Tpt1CTRlj+40NgII1e47mBgl7/qS7Qoc5PyfXeyIqhR2U\n",
       "ptT4DkuvxTPqS7yby2If2wnoYhnXRTG3opL4Rff6/+1t5EBCJkMwfv1QRAEp2F8O2Vi9pNUbhJJo\n",
       "ZyVEkJ2J8mEzfeM0PUYzw/g/BsHvmOUF6QxMOEUHz4Kl95GoaUkFLQ08G2tHE6Kt/1ylJJgqXLIQ\n",
       "PNMbNvMBN6a0Gx9QBZtUZuCiWTdpLgRKW3lPE1+bot1x5B5ZQzLzzlKSaukKB7aIY/L8EU3xLONv\n",
       "3svPRy6UfIjtHnCFmK9D9EOvTjuBqzNOKcpg/y8zfZZIXg8OkM9nbkBRIz0wFKYGCQeQbVWWRbr7\n",
       "RtFHej4PXo/bcSwzxc3Es3TryzlHSW0RNphgvK3no74ITFEPjI0QAkWQv+IUe17f/3Yq/G0qilP1\n",
       "NgdaH8gvZ9Zv/OGyLW4O2Wg1l05zuBTRXtQPXbX31XmXddRpaFDU4flTdKm9yecgQn2bCgPhTd7h\n",
       "SB0Y75G4tjymafoYFjLKBTG6WfcdnQ3QrQU4xPL/LoLvA7so/JHjcQs74ZSMkAdqPDiu+kyI10Ol\n",
       "yRNDZBjFgJoHZ0nKGvS+qm0u0Ms12onv2OG9tLYpL/BOUYBLfzmvxreaiIDj2oGiyhFdz7nf+c30\n",
       "rC4VQZN7PvWXkkDpaCoBTA9fN7EO0yjCcLZqVPXNMt8Kw+mPSbh9XCoH/c53e5pGzxvGgq9eudtq\n",
       "zRE6u+4f0IIhqR0hYocY8PJeaU9DRwMS3Bf4Fp7Fk4tECsxaABiqTiiFgwrucFCLk3WMJjP9+bIG\n",
       "wuyL0dMeIr7kzPE+RLd2JchXGSWKf4RNMnF56rh4gLTHF6snzkzbV3pMyJFOz2i0UB4ZDDrvDAFF\n",
       "g1FB5PikYzv4w50bhJmbEmnOdADkCghFWDOtVcQSsxTVfpgI3LsYhh0opV3JPdd+1mOwO9AOkCg1\n",
       "3w3GkHypwqoulADAl+Jl3H14atuPAtfO4LdIgpw1Zz1vd73T8N50qSwzxrheaOOmSRoUfAB+xRqk\n",
       "ke0PFRgUsZqMM/IK7Hu2Ae+nY7Q5erBkLvJfXIqbmngLRY69RZXeq3DjKazJOsLhOslBl1U/uOlO\n",
       "x2D12YiLZ1RJR/kjfHjcCDq/46XuuO4HItZOltMoaaPqBOre+/159cs8vauBQ6JX4JjVz8bsixsr\n",
       "OV/MnD2WRklpsOAX1Dm0BD+G66hXFB9UGlF9OtP699/x+wYsESTbrpzVp+Vnquz2dioiMmtxyoYu\n",
       "BA2Mh0j/3LXKdsbuanINbLFbreWJQIT8x1a4dJfK1+OjQEai/VRzw6Ec2MkYSmTdcL5Z2qDmAv19\n",
       "LE4kHhKDmFq4aa4gfNxEV+NvPXdKiV552faTasYs0u0KMsixuskodOPFjHCPF4lMy2c0KNY79Y0k\n",
       "cdEs5vu0ZCX5dnJAKVFXsP27WB7vy+PEnagJhRNVFQefnR2cgx3FN5E8D+LDpx5c7+RWuzLFup/6\n",
       "rm65QydZXWGYunNDSv0ChIoHLxrnGk0QgPc+2GUlk0uD8rfeR6Ec9PlsFifXR9Pzeqd9PPRAqUvj\n",
       "/nL4VTFEbbzw0XDQDoPlAo2JnqKhWZJFYDbvXRO4V+oPRNrEg+Bn948kV7tXOVCylH11I5ysRzzA\n",
       "cjtqLBCOKUvgz8Je7+Vw7Xul4dqBv6ATgtcTADIYcmqaJKdACfVUWgkUmqhIqNyg1ppfmnFUGUq1\n",
       "YFQKv/6lYzXAdHbjD9EA7tZxFZjzrr5M9LFcyuf3L9IduNgGYdCcQkjkxtn/Uu37BvXLVGaodHg2\n",
       "g+JMy5mFEk6Ti+6naqW5vuMtQc3NTrPnlclD1St8MyZIJhGyLHDO1pHIpP65oLib/oecTtRFo8c5\n",
       "Bi6zrUGSNH6upDiibsBBg2RluD6CCJeP8MEK9Rc/0gqJECfqDOkvzM+7P8a1WEzIj2AvqsNnXX7W\n",
       "5GrqjZ/6Q4T8DubB3xwaAbXaB0LCKEa8VLaVmgG/WP2qCFmVsnniZF2xkOH1Ik2Ylsr8UnAweZ5j\n",
       "vn8Cam0R5/GTdpNQFfstjr181yrth7zoLMcg9QOWjucZymS/ans5FCYBPl48qyLUSIoxuH8lI5iw\n",
       "uehqZV0SP1ea4zE4557vq3dpu5dtLpDe7YYs2stNI6WbZ3KOHcbPV/hgb7o0oBFoaxpKkCecM1Ke\n",
       "Y79uZdjsMu2naMW5xa7YX4z/i5YvhdM9HOGq0X8y02gnuxRMwMBlJJGKzXasOnB8Jt4x3ffsXXHM\n",
       "gmqyVmA89+sxcZ3cJhgSzC7g6Dsc61blnHlwQKsyzMncs0fsBZd4X8QwoplRUZh4G9qIzN48I2X5\n",
       "5f4683J9b5EmqlAIYmj2/0+65RbCfx7I52IwyjC2hIx+92XroC9PbTEBjyGHE43Xd4IxpN6mTS5b\n",
       "+p0FWR5orib5qCITwJoEN536TXMED9Ta7AeTJFkKjqaXEVOAIaKjT3XhZVGiTM3B0+4hGE5GXAdi\n",
       "oPSoE/cSHnGMdvUiw0ZbkRLZcXhKZnewWc2IP1Kamvf6WASnHq+AzZOhRi0udsOvY0+fUlzi3jkf\n",
       "Amil0qTINorcJ+HB4TEOpCZ6W9CHdPevG0ph3FJGQyYUQzArH56u8ntE1Mhja1haqjvsKE/DXiD9\n",
       "RS5YPN/l46Gij1JSGPJVbVnQXbGMzd9Johr6jGAAaWrTi60m20OU+41g6xv9+g04e71p1w1srzcZ\n",
       "FNDIQ9ReNqls9ERpLQJQTl6xD7En94heA/wjY7Tyh8fkR+/fSKq7w977x5KSs5zU1RrwxLV8glX1\n",
       "prh4FwP+2WdVM8FrHqHVagNFd5Kx4ImHCycN3MULplw/US5y7VStFBbbUkTXjLyZ3JqmZp+fJSl8\n",
       "+u9qzz7Wt5ggi7lut/TIC026MZAEsEyI5DEm7sAtNVeOqb5ZzqJ2IxkfG1OhVoju7Z2aoIjol1MU\n",
       "3z9Us2LaAL7yVwiEzZZ8GbtdR8tBevghJF4k7YFHq7gyaTTqKKOUsIT8QHuWlefct2rP3JipaNGX\n",
       "95fKTMd7shbF9d8R7v/odPDGTcJ8XWUQglLvTBv6xKQRirP9s1Odv/sA8NlOGbWIEqJHnA9VZjKs\n",
       "DHj9RrocYzgx0W4Lb9tlLvvFeTE7azTt1k58GuWJSgzgCE1WnyjyMQ6emgGZQcmGzGgEiVhHhKWk\n",
       "y6MP0N5QaMIhL0JPgeHGSi9FfYsh8x0hsRinPzohjmFmaymxWibrlfSoCjAaQOCDYtH96tW+uMgY\n",
       "cDdB6oqQ4aq2aTd7v+zeINTydsJlK9D0aq0PCLHjNMAq5ILFOnWCNhMj6+rLSHvc+ON60+K+I8uS\n",
       "ChYLp2E13aO9ug14sC7rMo0bDFI2ZcnUKIXh/2FLVOxGFVX7WJ4Ehrme0q70dq7KRMYl9fnszImt\n",
       "n0dkK8Eqm8VmIN4xySopRgagjoGXrNz+/7QEuC7etLOeFwYe0E4gZHeG34Yw8mcYXFZ/LUh5pQXr\n",
       "mlwNHEKTqLhHSIXEMrg6gZh3eBpZw/+mHiIKMxBxb9mXnbJlBhRo21GIuHDJoPJh6cQThgy9LbQC\n",
       "RNirFmRNcqE6A+wcLiW7+ISGP9tv4giAA10/Gp9ZXzmF9vOC4tgdHJ9kdDgwmbFJZkaV9tNWEUu2\n",
       "WEKwWH6uhjQu7QIN3h0Q5IqhRdTx1cHvb333CzZa8SOF+IfTkd6MbranpGiqP9BGpXuY/UWL7sjS\n",
       "F2x7CQu5D1tsr4BvbKQ7UgjQIeV6Uuy/tUrG/k0WPEo3Mcor9OCthUpPm1rO9s4TxkzRrUXpWJbX\n",
       "YSN7R5OhOg5ANLUl5SSNggu40XUXWOJkbYKFGiH4dxiQLioO7hqCAn2Cm8MF3YegqIiSjn9tzIHu\n",
       "Ky6xjiyd+JUkzJlX/hTXWRy8XApJLbuDhNRKCq0taBv/Yg+0FHl55i6bX2WMQYfTQMsVb+X7XcmO\n",
       "fb9t30Ivg0uYm0iVfXhZlNF+SFRjtFsqJMzrH2JkX/U74tpjvMXIMlfaXbK0oKBQIbiY9yG5b0FM\n",
       "IkPRrXS0MSQHPuQUsXO6IfQccQ1mSjxlcdHeIM0as8Uvhq4GHw4go363OCuFpjgd557bk5ckfox2\n",
       "MzLNCqymcHDzl5bzi8nfUgGbuYdMhEBQ0P63A/3S8UrXUuhmVkR0Qj1CywM+Mec+97UjkF1pp3ko\n",
       "heGPUz5KYZ06qp1gSXFcAubmZM4b11HIyEbjqs4wjbZKzWDdHIKouwGbsbn9h+WMbNK8SP1brEhO\n",
       "JJtiVAXQ6BkFVYO0N34zFK3WQWVzb7e67p0IF5U8dW+CCJsDl+XAs1JmccGZXyPLZBhKFGhw/vjQ\n",
       "uYYpeka7R9jPhx3sEXbS+Fqwt8bBa50P2GcCRcCf+OlMJfJOGH2m2ev2TWOo6tFn7pPdIL13prGu\n",
       "B9QZ9cuLQAG6ERYjOiscdKMXrT66YR5GE03RlRMWSPhZ1pLKzO5/RTe7Ra6OoosfrKvYXiiNYvbE\n",
       "/zVR+Eu+F7S3kfz3pg5mip3iicH9neQ7lNbVM1nvX0YiGTUuWblFaOtrwKSYXGdLBv8ws2ynsXIw\n",
       "qA81qLqtXj2FaMYjViX4SaIrFZPamqxVbebcaGb94C1uHXpi9TCXRs9ko2MKqS5pTawe2YPOpdKV\n",
       "nq2E2QZxoKt01HcThADaEE2fM5EX7UzkKZQ7Zwjw2WMRK4/7B7bxDKBW2WVlqLDuZtQDVDStfxQ4\n",
       "LHh+7e4/RWkaXaooOtXHuiCU/+R1NLMXt2DAjEc6Wnv01qV8RsDfFsRQCAZyJn+W66qJfBNLZ2TV\n",
       "a2+vltdt2GTja5p1nb91MTTorfXj4c12v8hiQR3BZcQSOHeY6YXv02oG1bJWWl/VcncLYBlph40D\n",
       "OscgsvVjmYVbWU0V34/6tPWCutmyyXjDZTpsok8vNk/YyWrLembfH5kR2xbl9LHIATEkR4JxeK3+\n",
       "3KXj4Y/+mi8b54hQa3uu3IYpwCenuKqu6F190BD0iS8L2e/MA24eFEuhAG7clKJptaA6moRGW1xG\n",
       "UdETOQ1CjF83f1oFmuHNX+gHGhTOKHsNzZ2/yj8ty6KkntFa7vzPo6GLsHRr4pfjEbQizIio12na\n",
       "lh4IhRQC1fJCDLO2hxJC4Tf9C+1qF0GRWIY25e/Ay+2+uQNwBu3n7q9842VJP5/3Qvh/VoGcyutN\n",
       "R0XKrri88yQ5R/ZK0J+j6tcIyZ0EWXg0MJTEAHLxToiKGSqDQBylmJFs+YzpJHTRqjM8vvFXq+wE\n",
       "LI4sxwkrF0ami5gkiKnx0xZW+Y5MHkVDiSvQG1Yc+vfwOZK+oTvTcuhus5FqXHK+U2ITqmhi/Sbr\n",
       "qY74s7AhR3ea7OkZuKg6Gxvq/Or6WUluG7wxwQGBuEGqo6O3otbCkxbK5DmIeiz/01+btfl3vl72\n",
       "wqKucXWzrXWDxfHP4EPhUc0KMA90q8S/RJ8DDVgxzIt8dO9CtXOD1TYxKc+8o4KcUZHkmdhp6Stx\n",
       "hfWr761e7ZvbOOWy7+j04lDVkfli3DyjGYlkqjAi4COsgLsnmOJw0oGmzJ1ta5kEArO6L4g7PMMO\n",
       "dmoqDgzRn40L06XE+8SG3SIC3QbHfYWiajVT/3lLNROHdqG03c+il3rxw3Lwjcd5IRcNOWdXnYEW\n",
       "kdAls01h0OfhIEUR2UXT2+pEQGRZhSyfeBJNEaoYFXOIfBPaLCtU0nOMPLDyads1qM3PU9GAcEDi\n",
       "DzOJcTOdnHURcFDoPTuTubMIygBWU5jjqzFg/xWrkJiC07pmtqdrgMRE/dzf0CnQUw8KjXbxsU8J\n",
       "GBWoT/gzJnYpyf34bwXVh3itTQfDMhfWcQXoHPFIjuaGu3c9cdV48qSwsMANelMRpGUvHZez3bsz\n",
       "aqWhGYDHT427FVR8LcwcuNp+7FhQ5H3avQUJt6XhcL5px7+IInLbzUhdBwB9YoOSgJBErO9rp/1T\n",
       "6+01PEXY1490fxUvW7Ur3TbZ/NQ9zokkj1twrfjSGbhRzGflhiHtThTGi8KdzLNmQxOCg+iHkLfh\n",
       "+3PTkOumG65lrRww5LSAQzTmoZTpOZBs2VzjDkv7T8J9Q4Q7dErgHEif+MaQnXQYcco6+Qfr1Bn5\n",
       "nd1swDaKv7f/JR4L+1Dy9h1zYEQuBx1tE7N+iI+YR9Enb1ATnN/0YRpqvx3EDFWPOVnz0/B8jJXP\n",
       "WalYJJ2zf8wYTKaghVGpJnF9ANmfz4o1cCTf+U1FGII1n4x9igoLnbzZjgO8RV42et9ZTY/qngdE\n",
       "3klPE/m1oal27V19X9PRF2nO5bT+u3vtzUXx70uVu7t/IHPX9qHPyIbZpo8+LnsljPXEu6sY65wY\n",
       "H/5+jnrKeLlmHIEGtfm09JoRISQLbU0ECbqOlcyDLnJy5BxNZ5XIrYQbYNZ7fZDzdQ7RCN2oHf/W\n",
       "VAvyIIatz0jAYirWhtWt68wMUOb7xdERelnX1ueG5FSV4SiDnZysUwebDOa4zWK5gxnxB+n87Jcg\n",
       "Roq9Jg3mJjuuEgN4+0FH76DUGpsMTH8b19bLHZIS49NBgRQkDSRtQN0M/ux/J/rfZNkLsBh4K4M4\n",
       "mE9hCSoGZlAempRrZJDeTkdViMcbk7ugKgYefL0SbJEDzE8Ga5jrKP9B8dKVhS308NB1DXVSy7rF\n",
       "gv0Z319895VEtwbga/N1s5Osk0g9Xd4elkB40QIXKyoDyIVZC8jOWRVBPZd7Bxd4NnZZdqsgjD2X\n",
       "p8RYLtinZsS43Qajyl4XQiwCM/Ld6oNMvayGuC/i5QkDsEabfSWX9pErgqyFaefnSgjLqRpXbNme\n",
       "VY7m5yIpVE3EM37C9PQbh1i/YTE4XMrQo4BqvJm2+RzpKFLkvIJJaijQ2H7MkGTW7seJl9kMrrCo\n",
       "kE6UkksGA20ig7TSSy+zJIkrdtoywD1BHdtpN6WNRWcZJp75rhtQ65uIJa9wyV8iIAmzWsZUJmTP\n",
       "wlM2Pe0H+C2CnYEVVuyY+TQgIlWfWpx55MeUcSiowKCG4aGHPgY1GH/8ehabEw9oir0p+SXGIgu1\n",
       "r855r0OtSC7SAtgniv9oOO9VKTjbeGMvM+AY8jnUifg7VJmBEzxUNBbzhbDzulLBN6yqOuI5oKlW\n",
       "rk/w3+Id4C1OKh6yMmDf8g/8wCTOJW+j0qQ6OxZKXceyK2AgSccXqk3Edoc2WyGRpCH+rTlwG2vr\n",
       "ZL9OmvfsttltDz2UzTUqBNycWku80PHAxNKXATAAwV8KHvi3a8kdOOo4Zp/kZP//BOj9qkYnHAzW\n",
       "+4Q2k4aaEkHsZtLLCVSpDWCeD/7bxOQOMLl0p/7vpC5Y3cWVGV/pR01zRnWRHrXfcno+aWuVguDk\n",
       "cYMkxCjiIW+NBlTN1IoPtLNuuRhxII/1aydfR3U78+qoDQApjdLij7AoqLBJdXLjy1v40wXxvzky\n",
       "XfPO1oOwhFwWBRFG8Evb+MonOPEYyuyCdZ9UvfvFsCh/y3IkCcp/kaXMf5TbbuyM7/1k+btYN8jh\n",
       "6UYWFYUb1oajv/vTOKdoaEDwWUv8cGxYSGUkLHzZIHANeRWkVWKwyUbZAKcZLIGk7CMpIv6SAT/q\n",
       "UTj7+LdBU/hazouoi7SB9fVuT3oQcAUxIE8u1/lTk9y+dQW4/IsGmxSnYxqx8tzdx5tzN2ZNZx33\n",
       "4LXgGU7gj83WvGTgmfAcFYtjZEdEl5QMNHSVFBxCkCA6Vua0S3MiZVQkPz85Nq5f9jwdWPUdvcw8\n",
       "yYVajT3vZrOgqKNfG2uWdkbUo0FSAAFlBXX7SmJef9aHTaYPyd02Npea8WfrGjr6pgbe8sgpjwt3\n",
       "egnRurAaH8bJqNHS4pkO/nUmojSGjQDvUbSODctnW1+qnHyCwUBI7+6P8ulbpafs8F2/cUK1n36V\n",
       "cgnHFaTsJW6hKch+ZfRPfUlUCi/E5r2hhvTlMdspyCUXGF4jJTZES5caqiUZMey8o+CzruflMYPj\n",
       "nPp9Q/WlwuoXdsSRBc/KDc3tuz6pO1qkdjMf/6kyUNrCw9WikIPiMyirgWXfDZt+lzdjGc+Lgc+A\n",
       "OJiEPnw8KwLzuT6dJvhk91+PXWwhFsqGY6Y9ZkRBn9/YFNntRfHgmbU0RLkEtyUS3M5ggZGpLRtj\n",
       "xKXQtxfaBArmxfeJBvCwmKgC37KyfnemjbcQY/OUpDP27N4kw+pR1sdQa2Pf3wlUexzE2FGVUZKy\n",
       "gm4pkMbeMRnPsHF2edjSBDU+JtuMbi7M4pFRBu8E+dJ4a3w7ik1FBJ3UwingNnSYZaIaVSoZ3jXQ\n",
       "2Lxj7QKJitLxiMiEQEt8k3AQQJd+i9+Y0aowPD98tDs62PpWpsJ1sC2T4J/LV4xB73Lt+ScTNS7I\n",
       "P+FTV1VgDsVWlr/cdPNpsCQdSMgprvLoEICdmISLoFirai3WTl4Z7S2eGZwo1jhZtevjfDJBebGr\n",
       "+b4F1/lOcJ2JvxzL7PSAfXJTR7EX1UjX1P00YgqVWr9f04U1FMiqt8aojDPBoVJyi7lh02gOdFrN\n",
       "+NVrsuK/3UTmxnctQU3vfFJmlYaHPYjMvJjpN+sviZws1aumTEo7qyMsGXwkqL/UrTeohcdhRgW8\n",
       "8cF8kKhtLK3nWWteLJC9oer5K+t6EqWhhDHXYTm3FmXTQyq7B/9/7rLG/yzi5iCC4+b5aQnXm8p2\n",
       "mZ4hvNMho8gnUOjsbGg00O1teQatL1tiKPui7ObECO9FEyeXgUBy37nMLZlJCGVhrmwTwa5AhKME\n",
       "Pj3YQN3h99QEEyKAA6biSV2GHmp9Td/sScymas56qF/yPANZnafgsI+gzenjOfT3bfKttWFh8Cxo\n",
       "JsQyFIvjYDdoHHe5j5XuQMsZpOAQuWAXuefGxiljKHLNDWGL7MJn28yeSoI426uxFENTnVNoULDV\n",
       "ZS3QU643T3bVt6FTnsFT5f/ctfuH7K+hJoqImdy69UGIhsJ+k4o0oDB1gU96uw0Pvq0Hzgx6/Jbn\n",
       "ITcgUIAzgjUUzShsIah9omDVm7Qh/97L9Bi1STPDsvGBmygdimLj1PAOK2T8KX45Ng3maooW6xjJ\n",
       "48892f6hU/1TtI5XLn8Hkrgb8rT0V6h2nBDkiH0bpJUtaySAcDXzH75XBt5tJL470Q5y3joQlC5h\n",
       "0pdiigJyyUkuklBjnNZl0ag0T5Nr3L0YLk0a/Lfz9kiTfxZ94fzdrDGyYi6Ico0XYq4YVW9129e0\n",
       "DtM+TftCqOgr/JO6vPnbg9Boz2GKsgyr5oaz00kLK/qnFqCUk65yPR/gBrR4Cv6qsOpmR4jeyzBL\n",
       "wl9GsZ/JC7RIrEnEjnezOUkBKbozSrn31Jwh31l2DBpoX9qM2qlcBERaSu9puPetB9CPANZSF2G1\n",
       "JVt5FdpttV0uZ8Xverhg4qxVxIoIBYEwsKv/dRQkIm19eB0SnR+D9Ic3dkRdIVSqX1gvw7tYv3+j\n",
       "5LV/ZB1Cpm06GtspjeAlpEeKkgkxMG56YNxEAdQwVIqWlzRhJQPh01XXg+xeUGPAMUvWwAuTNp5y\n",
       "mNCBXEtGrsTyH4sMPpzvKxhV2N35pDLe4Q4MA67f3fWy25RBg4W05MxQBeSXHBvnQYMa9+/g58XY\n",
       "bko8yOsSj6CNj2N0scbNztE9mkd39H9f0rpjh+/EZYVwFmD8aD9XGQ1EUTp7CoGXJatWPfcDJgBP\n",
       "mTvoe3RE6UzeDWMVXDiITj0OaWTyAenqs9LtUifHr+tVMkF5o2+XLldvLI8hRP1bP+5dbXh8Hx+P\n",
       "f47q8lpeRw4wKGcivlsxpah/LdbtfsjBP18R6/Mt3naESV3iLCjEsYZbB6HoKwdT77xyvp9neif+\n",
       "2wQumAGsBavxTgy1l3FiXgBwI+MfugBqW8Phj17Hx8zT57ZILBV+hSo5d2QUnY9DDuPWa+cLlwIm\n",
       "uoErWBvYcQ5144yfMB0743jmzSk4/swkoADhe3uGg9gDRnFmGxCfdPaBAAAB+0GaJGxDP/6eEAey\n",
       "u2QAnc1XjZtslELv7FzjYKtzrsEDT/uqcz/5sa1xD4vEEUUoZUsGilBh84JA/87G8Xn6YuFsLgNP\n",
       "d6E4orUpqu9mXmyQZqrrpIZceeNHp9xZeeqqwQq9RibeenHQhswiteqOA1o42jowxYa5IoEvNjO5\n",
       "N7lxi6uEcNiT0OCyD2MzaUmgpYQ83IHQa5U5yo4oQBBdf9zfGaZ24Q6lJwoWBqQDB72SPjg2vILQ\n",
       "2+2nFuXY78Vqr7y8N3N54dnq4rYLlOXqkmJfQnBbplAAia+1h37KoMHG46hVUTp4s5angXBsRZQr\n",
       "uX9BKF0YtDp7GjzocHK/Lw7r1ahVFC1Q3AwVQ2kZ9thEawMZKUYvDoJ7DImEmfZ0pgQ9vhO76uTm\n",
       "Nmp9wc5ExmLl3o7TBOJM8/8KRpSymWLvPXVdDaTcNvKxqui+hZlu9bUHRKe/RYV5bz0m+Y8B51c3\n",
       "ZohVnSgU1zz7d5i7UiY8NIeg3H4xiosPfAwhDQbP7PfpssepjkChlRArfRSwfXk+TgepIXDjNzIP\n",
       "WmPKzihVQYknMxart/hb4yjEMJU4YFtdRmtHs9qjkUjb6mdaAvS3mUyDVDetejtpSIOQPL3FXeD7\n",
       "UQDWQNfwDVsesb4yrFYnw24Jx0jTfCG29wO+BdcBd5LcCcAujS5SEgAAAC5BnkJ4j/8ENHIOd3QH\n",
       "rqDySPBLHmDPmisXZwl9TTzW0OnrEelWq4lJzT6ycg0JAAAALgGeYXRH/wWv3OpxFFxTIggk0si4\n",
       "z8+1w1qldXc39a6w8uiFMRuMM+le6TQAyYEAAAAYAZ5jakf/Ba/dDpKr/odAdzi4qFraNe4YAAAA\n",
       "MkGaaEmoQWiZTAhn//6eEAHG9jUsYtAG0q0KgP1KK3/Dr/GxZ+d0TwQMipjlX63/vVGGAAAAF0Ge\n",
       "hkURLCP/ARpRUumiEJnPb/y2J1sRAAAAEwGepXRH/wHEirGocPAUuwnlTUAAAAAQAZ6nakf/AcWA\n",
       "AUI8Rfu4WwAAAEBBmqxJqEFsmUwIZ//+nhADc+x4VCIV8kAVLWmnXGHfKbYS3PhZW8ZwpX1E8kqr\n",
       "pxQXAKaX8iUMrLYen/zENB/gAAAAE0GeykUVLCP/AR2Bf0xM/qGPe7EAAAAQAZ7pdEf/AcSKYswQ\n",
       "rrbXcwAAAA8BnutqR/8AAOLAAyeFJYEAAABPQZrwSahBbJlMCGf//p4QAFPxuOAIfJUMvz5oe9W4\n",
       "Rz9+G89gPxi5vBaSLSc3Tr11mUO7ARm6xjQNG6N2Jpe/rPGeLiNQy7v54iobXPgi4QAAABRBnw5F\n",
       "FSwj/wAbAmtObeJgRPGrsAAAABABny10R/8AKgLkt6df9M22AAAADwGfL2pH/wAA4sADJ4UlgQAA\n",
       "ADZBmzRJqEFsmUwIZ//+nhAAU/J0YArfpjsaPE8zaq1/0DX3GSls9yyu7FvMEMCPoG6j5d4nBNwA\n",
       "AAAaQZ9SRRUsI/8AGucgvUADsA/Id5aYI3xPQy0AAAASAZ9xdEf/ACs+jLQa20q9s+NBAAAAEgGf\n",
       "c2pH/wArKgDw3BaVf8/GgQAAACJBm3hJqEFsmUwIZ//+nhAAKgfCbIAKfmymp0/8Vq4rBYMDAAAA\n",
       "EUGflkUVLCP/AA2BTvGXU0NsAAAADgGftXRH/wAVkXKNJ11dAAAADAGft2pH/wAA4sABmwAAACJB\n",
       "m7xJqEFsmUwIZ//+nhAAU/KtcAR7rirlSAH/emHScE3AAAAAEUGf2kUVLCP/ABsJkBFev45wAAAA\n",
       "DAGf+XRH/wAA4kUygwAAAAwBn/tqR/8AAOLAAZsAAAAqQZvgSahBbJlMCGf//p4QAFPyLIAcw8rq\n",
       "XR30odYIDcA7Z3l2ySRiwMCBAAAAEUGeHkUVLCP/ABsJkBFev45xAAAADAGePXRH/wAA4kUygwAA\n",
       "AAwBnj9qR/8AAOLAAZsAAAAgQZokSahBbJlMCGf//p4QAFPx2lAF/tqY2oFlSUEnBNwAAAAPQZ5C\n",
       "RRUsI/8AAI8VAFbBAAAADAGeYXRH/wAA4kUygwAAAAwBnmNqR/8AAOLAAZsAAABNQZpoSahBbJlM\n",
       "CGf//p4QAFPw64Ay0zYjP3PlE6kmN9Phfkxs8t0DB/Lms6pINPTEjMtk1wHoF4NotaZQ+4dIOM0v\n",
       "pLKhTPPusCrYr4AAAAAaQZ6GRRUsI/8ADY24oATD8iin5y/Im7DzK6EAAAAPAZ6ldEf/ACoRrj1X\n",
       "BaG2AAAADwGep2pH/wAVlQDQ3BaG2QAAADRBmqxJqEFsmUwIZ//+nhAAKNrP9wCTazyjz7WLr4LI\n",
       "pKF5DFO0lUYhccc/QWq89pghKBRHAAAAHEGeykUVLCP/AA0yhSYAgucb/bLSvrQXmx5J3JkAAAAR\n",
       "AZ7pdEf/ABUBco61i+W0EycAAAAPAZ7rakf/AADf+59JPtW3AAAASUGa8EmoQWyZTAhn//6eEAAp\n",
       "+ce4AVJqNo7vcKhlH0HM2ogpbA4LFWrRARkqoxiyGHX5k2lBoh3tPR1TVtV/yesr+m9JL4uXvhMA\n",
       "AAAWQZ8ORRUsI/8ADYS/XULiMSXDZF+ZMAAAABABny10R/8AFQFyj6eWG67DAAAADwGfL2pH/wAA\n",
       "4sAjIb4+DwAAAFpBmzRJqEFsmUwIZ//+nhAAVlYODz6wA4xg3K6mHN0DP4LVPJWbHT9d+NgKoFGS\n",
       "opweRZRffyOBXSXbk/+j8jZ7L/wttujB0FyzvYVB3Xbfr3aM8pmKvtqXpdgAAAAUQZ9SRRUsI/8A\n",
       "G6mPXeRCURjIKDAAAAAOAZ9xdEf/AADiRRtBLIEAAAAQAZ9zakf/ACwuqEUlD+lNsQAAAFBBm3hJ\n",
       "qEFsmUwIZ//+nhAAVjK+OAIkKYPBki5sqp7JD3REfM3cgXBfLxMCYMtJ14+FsqPz+XdBJdR8WUUd\n",
       "1+8BMjR9hKnKyGkdJfLhPJd58QAAABpBn5ZFFSwj/wAbuXcABDq8yk3Hvxr2tFryYAAAABABn7V0\n",
       "R/8ALF6GlFDrmoJaAAAADwGft2pH/wAsLjiBLmokHQAAAElBm7xJqEFsmUwIX//+jLAAV10LPABW\n",
       "XX2GfG/n9MgSRchSdNGWWs6HPypoA7lWOaaMRCy3NaV+aMrxbxg5CdNv3EdeT9JiciUEAAAAE0Gf\n",
       "2kUVLCP/ABuinZeXUy6DLMAAAAAXAZ/5dEf/ACv8OjMAB/HBEsRWVQFytZkAAAAOAZ/7akf/AADi\n",
       "v/c8lkAAAABOQZvgSahBbJlMCF///oywAFb11kACwSpQtIEn7nz7rrfI8RaK62k0gLtVv3uBzTj2\n",
       "+eFhSnAFSJxmvumIppDOKYRI7tGvteM6z+CWYcaBAAAAHEGeHkUVLCP/ABuJ2r2IAFxbA78vNgs5\n",
       "JRbqWYEAAAAXAZ49dEf/ACx24oAJtyDTqG+dvoVXWswAAAAMAZ4/akf/AADiwAGbAAAAQUGaJEmo\n",
       "QWyZTAhf//6MsABW9f85AE7LJf8cKcKPehAEWWwg+YfHVdVciUnHzin0aGGNoVyFCyEMUaAzrKp4\n",
       "YMWAAAAAGUGeQkUVLCP/ABu/y4ACWPlh98Ott6DoUA0AAAASAZ5hdEf/ACuk+ngR8Syv0jnBAAAA\n",
       "DwGeY2pH/wAthBEsGDo5wAAAAEFBmmVJqEFsmUwIZ//+nhAAVjVaJACHxs4GsdPDIpMLp/c5GOWJ\n",
       "SRTCxPTaQFgel+rvXrGVVWqXuV7pZSrYK/2OLwAAADpBmolJ4QpSZTAhn/6eEABWM49wAhlzN1Y2\n",
       "njJDGqyxguQ2Rl0lC0oTr5JLJtT+XYFFhqk/U6LnCwbNAAAAE0Gep0U0TCP/ADa/eXImmw5S3MAA\n",
       "AAAOAZ7GdEf/ACxC5LKnXV0AAAAOAZ7Iakf/AFizWJcwiOcAAAATQZrNSahBaJlMCGf//p4QAAAH\n",
       "TQAAABFBnutFESwj/wA3W8AO6JQm2QAAAA4Bnwp0R/8AWIXJAqddXQAAAA4BnwxqR/8AWLNYlzCI\n",
       "5wAAABNBmxFJqEFsmUwIZ//+nhAAAAdMAAAAEUGfL0UVLCP/ADdbwA7olCbYAAAADgGfTnRH/wBY\n",
       "hckCp11dAAAADgGfUGpH/wBYs1iXMIjnAAAAL0GbVUmoQWyZTAhn//6eEABWMnRgCHsTBnP9mViI\n",
       "Z6KMbB2hwSvvDpsxyakZKcEvAAAAE0Gfc0UVLCP/ADdbvo2XesAvTzEAAAAPAZ+SdEf/AFiFxHxt\n",
       "QlEtAAAADgGflGpH/wBYs1iXMIjnAAAALkGbmUmoQWyZTAhn//6eEABWSupIARIbwVQulMl1eXXj\n",
       "dEvc98moQFllWNlgXcAAAAASQZ+3RRUsI/8AN1u/sttr3cnmAAAADgGf1nRH/wBYhckCp11dAAAA\n",
       "DgGf2GpH/wBYs1iXMIjnAAAAHUGb3UmoQWyZTAhn//6eEABWMXoACMjTQ0rwogXcAAAAEUGf+0UV\n",
       "LCP/ADdbwA7olCbZAAAADgGeGnRH/wBYhckCp11dAAAADgGeHGpH/wBYs1iXMIjnAAAAE0GaAUmo\n",
       "QWyZTAhn//6eEAAAB00AAAARQZ4/RRUsI/8AN1vADuiUJtgAAAAOAZ5edEf/AFiFyQKnXV0AAAAO\n",
       "AZ5Aakf/AFizWJcwiOcAAAATQZpFSahBbJlMCGf//p4QAAAHTQAAABFBnmNFFSwj/wA3W8AO6JQm\n",
       "2QAAAA4BnoJ0R/8AWIXJAqddXQAAAA4BnoRqR/8AWLNYlzCI5wAAADJBmolJqEFsmUwIZ//+nhAA\n",
       "KiD69wMAQ+sbt5Sn8SiXMnaTfy209W6dthlfPGO9dwiDAwAAABFBnqdFFSwj/wA3W8AO6JQm2AAA\n",
       "ABEBnsZ0R/8AWIXR3kE1DUr4uQAAAA4BnshqR/8AWLNYlzCI5wAAAClBms1JqEFsmUwIZ//+nhAA\n",
       "KgsFitkAGtDCqUn+BcQprMKAEe5oWU4TcQAAABNBnutFFSwj/wA3W8EEXLlPVXVRAAAAEAGfCnRH\n",
       "/wBYhdHiFdvalScAAAAOAZ8Makf/AFizWJcwiOcAAAAgQZsRSahBbJlMCGf//p4QAFYxegAIvqOj\n",
       "wGDmFfpOCXgAAAASQZ8vRRUsI/8AN1u/sttr3cnmAAAADgGfTnRH/wBYhckCp11dAAAADwGfUGpH\n",
       "/wBYs1AjauzY8wAAABNBm1VJqEFsmUwIZ//+nhAAAAdMAAAAEUGfc0UVLCP/ADdbwA7olCbZAAAA\n",
       "DgGfknRH/wBYhckCp11dAAAADgGflGpH/wBYs1iXMIjnAAAAE0GbmUmoQWyZTAhn//6eEAAAB0wA\n",
       "AAARQZ+3RRUsI/8AN1vADuiUJtgAAAAOAZ/WdEf/AFiFyQKnXV0AAAAOAZ/Yakf/AFizWJcwiOcA\n",
       "AAAuQZvdSahBbJlMCGf//p4QAFPe9wz0sANp7sMC1RwHeRQN0LbhD0a4Nv1XxRYN6AAAABNBn/tF\n",
       "FSwj/wA3W8IFurGnnpFxAAAADgGeGnRH/wBYhckCp11dAAAADgGeHGpH/wBYs1iXMIjnAAAAIkGa\n",
       "AUmoQWyZTAhn//6eEABT8q1wAtF1PaJu7Mx29OUQMCEAAAARQZ4/RRUsI/8AN1vADuiUJtgAAAAO\n",
       "AZ5edEf/AFiFyQKnXV0AAAAQAZ5Aakf/AFizaE8RO3bWLgAAAClBmkVJqEFsmUwIX//+jLAAVL+I\n",
       "QAIpRebWA9hwyJwPk/6ILf1bt0DpgQAAABFBnmNFFSwj/wA3W8AO6JQm2QAAAA4BnoJ0R/8AWIXJ\n",
       "AqddXQAAAA4BnoRqR/8AWLNYlzCI5wAAABNBmolJqEFsmUwIX//+jLAAAAdVAAAAEUGep0UVLCP/\n",
       "ADdbwA7olCbYAAAADgGexnRH/wBYhckCp11dAAAADgGeyGpH/wBYs1iXMIjnAAAAJUGazUmoQWyZ\n",
       "TAhf//6MsABUmZJgHAAt0nQ8HiQgQQrezt25BU0AAAATQZ7rRRUsI/8AN1vCBbqxp56RcQAAAA4B\n",
       "nwp0R/8AWIXJAqddXQAAAA4BnwxqR/8AWLNYlzCI5wAAACRBmxFJqEFsmUwIV//+OEABRrOOgBKk\n",
       "eB9153YfyTZtVxNAFbAAAAATQZ8vRRUsI/8AN1vCBLljT1V1UAAAABABn050R/8AWIXbJCtL2pUn\n",
       "AAAADgGfUGpH/wBYs1iXMIjnAAAAG0GbVUmoQWyZTAj//IQAE1mRwQAQL038llYUEAAAABFBn3NF\n",
       "FSwj/wA3W8AO6JQm2QAAAA4Bn5J0R/8AWIXJAqddXQAAABABn5RqR/8AWLNoRkJ29VUnAAAV4m1v\n",
       "b3YAAABsbXZoZAAAAAAAAAAAAAAAAAAAA+gAAB9AAAEAAAEAAAAAAAAAAAAAAAABAAAAAAAAAAAA\n",
       "AAAAAAAAAQAAAAAAAAAAAAAAAAAAQAAAAAAAAAAAAAAAAAAAAAAAAAAAAAAAAAAAAAAAAAIAABUM\n",
       "dHJhawAAAFx0a2hkAAAAAwAAAAAAAAAAAAAAAQAAAAAAAB9AAAAAAAAAAAAAAAAAAAAAAAABAAAA\n",
       "AAAAAAAAAAAAAAAAAQAAAAAAAAAAAAAAAAAAQAAAAAGwAAABIAAAAAAAJGVkdHMAAAAcZWxzdAAA\n",
       "AAAAAAABAAAfQAAAAgAAAQAAAAAUhG1kaWEAAAAgbWRoZAAAAAAAAAAAAAAAAAAAMgAAAZAAVcQA\n",
       "AAAAAC1oZGxyAAAAAAAAAAB2aWRlAAAAAAAAAAAAAAAAVmlkZW9IYW5kbGVyAAAAFC9taW5mAAAA\n",
       "FHZtaGQAAAABAAAAAAAAAAAAAAAkZGluZgAAABxkcmVmAAAAAAAAAAEAAAAMdXJsIAAAAAEAABPv\n",
       "c3RibAAAALNzdHNkAAAAAAAAAAEAAACjYXZjMQAAAAAAAAABAAAAAAAAAAAAAAAAAAAAAAGwASAA\n",
       "SAAAAEgAAAAAAAAAAQAAAAAAAAAAAAAAAAAAAAAAAAAAAAAAAAAAAAAAAAAAABj//wAAADFhdmND\n",
       "AWQAHv/hABhnZAAerNlBsJaEAAADAAQAAAMBkDxYtlgBAAZo6+PLIsAAAAAcdXVpZGtoQPJfJE/F\n",
       "ujmlG88DI/MAAAAAAAAAGHN0dHMAAAAAAAAAAQAAAZAAAAEAAAAAGHN0c3MAAAAAAAAAAgAAAAEA\n",
       "AAD7AAAMgGN0dHMAAAAAAAABjgAAAAEAAAIAAAAAAQAABQAAAAABAAACAAAAAAEAAAAAAAAAAQAA\n",
       "AQAAAAABAAAFAAAAAAEAAAIAAAAAAQAAAAAAAAABAAABAAAAAAEAAAIAAAAAAQAABQAAAAABAAAC\n",
       "AAAAAAEAAAAAAAAAAQAAAQAAAAABAAAFAAAAAAEAAAIAAAAAAQAAAAAAAAABAAABAAAAAAEAAAUA\n",
       "AAAAAQAAAgAAAAABAAAAAAAAAAEAAAEAAAAAAgAAAgAAAAABAAAFAAAAAAEAAAIAAAAAAQAAAAAA\n",
       "AAABAAABAAAAAAEAAAUAAAAAAQAAAgAAAAABAAAAAAAAAAEAAAEAAAAAAQAABQAAAAABAAACAAAA\n",
       "AAEAAAAAAAAAAQAAAQAAAAABAAAFAAAAAAEAAAIAAAAAAQAAAAAAAAABAAABAAAAAAEAAAIAAAAA\n",
       "AQAABQAAAAABAAACAAAAAAEAAAAAAAAAAQAAAQAAAAABAAAFAAAAAAEAAAIAAAAAAQAAAAAAAAAB\n",
       "AAABAAAAAAEAAAUAAAAAAQAAAgAAAAABAAAAAAAAAAEAAAEAAAAAAQAABQAAAAABAAACAAAAAAEA\n",
       "AAAAAAAAAQAAAQAAAAABAAAFAAAAAAEAAAIAAAAAAQAAAAAAAAABAAABAAAAAAEAAAUAAAAAAQAA\n",
       "AgAAAAABAAAAAAAAAAEAAAEAAAAAAQAAAgAAAAABAAAFAAAAAAEAAAIAAAAAAQAAAAAAAAABAAAB\n",
       "AAAAAAEAAAUAAAAAAQAAAgAAAAABAAAAAAAAAAEAAAEAAAAAAQAABQAAAAABAAACAAAAAAEAAAAA\n",
       "AAAAAQAAAQAAAAABAAAFAAAAAAEAAAIAAAAAAQAAAAAAAAABAAABAAAAAAEAAAUAAAAAAQAAAgAA\n",
       "AAABAAAAAAAAAAEAAAEAAAAAAQAAAgAAAAABAAAFAAAAAAEAAAIAAAAAAQAAAAAAAAABAAABAAAA\n",
       "AAEAAAIAAAAAAQAABQAAAAABAAACAAAAAAEAAAAAAAAAAQAAAQAAAAACAAACAAAAAAEAAAUAAAAA\n",
       "AQAAAgAAAAABAAAAAAAAAAEAAAEAAAAAAQAABQAAAAABAAACAAAAAAEAAAAAAAAAAQAAAQAAAAAB\n",
       "AAAFAAAAAAEAAAIAAAAAAQAAAAAAAAABAAABAAAAAAEAAAUAAAAAAQAAAgAAAAABAAAAAAAAAAEA\n",
       "AAEAAAAAAQAABQAAAAABAAACAAAAAAEAAAAAAAAAAQAAAQAAAAABAAAFAAAAAAEAAAIAAAAAAQAA\n",
       "AAAAAAABAAABAAAAAAEAAAUAAAAAAQAAAgAAAAABAAAAAAAAAAEAAAEAAAAAAQAABQAAAAABAAAC\n",
       "AAAAAAEAAAAAAAAAAQAAAQAAAAABAAAFAAAAAAEAAAIAAAAAAQAAAAAAAAABAAABAAAAAAEAAAUA\n",
       "AAAAAQAAAgAAAAABAAAAAAAAAAEAAAEAAAAAAQAABQAAAAABAAACAAAAAAEAAAAAAAAAAQAAAQAA\n",
       "AAABAAAFAAAAAAEAAAIAAAAAAQAAAAAAAAABAAABAAAAAAEAAAUAAAAAAQAAAgAAAAABAAAAAAAA\n",
       "AAEAAAEAAAAAAQAABQAAAAABAAACAAAAAAEAAAAAAAAAAQAAAQAAAAABAAAFAAAAAAEAAAIAAAAA\n",
       "AQAAAAAAAAABAAABAAAAAAEAAAUAAAAAAQAAAgAAAAABAAAAAAAAAAEAAAEAAAAAAQAABQAAAAAB\n",
       "AAACAAAAAAEAAAAAAAAAAQAAAQAAAAABAAAFAAAAAAEAAAIAAAAAAQAAAAAAAAABAAABAAAAAAEA\n",
       "AAUAAAAAAQAAAgAAAAABAAAAAAAAAAEAAAEAAAAAAQAABQAAAAABAAACAAAAAAEAAAAAAAAAAQAA\n",
       "AQAAAAABAAAFAAAAAAEAAAIAAAAAAQAAAAAAAAABAAABAAAAAAEAAAUAAAAAAQAAAgAAAAABAAAA\n",
       "AAAAAAEAAAEAAAAAAQAABQAAAAABAAACAAAAAAEAAAAAAAAAAQAAAQAAAAABAAAFAAAAAAEAAAIA\n",
       "AAAAAQAAAAAAAAABAAABAAAAAAEAAAUAAAAAAQAAAgAAAAABAAAAAAAAAAEAAAEAAAAAAQAABQAA\n",
       "AAABAAACAAAAAAEAAAAAAAAAAQAAAQAAAAABAAAFAAAAAAEAAAIAAAAAAQAAAAAAAAABAAABAAAA\n",
       "AAEAAAUAAAAAAQAAAgAAAAABAAAAAAAAAAEAAAEAAAAAAQAABQAAAAABAAACAAAAAAEAAAAAAAAA\n",
       "AQAAAQAAAAABAAAFAAAAAAEAAAIAAAAAAQAAAAAAAAABAAABAAAAAAEAAAUAAAAAAQAAAgAAAAAB\n",
       "AAAAAAAAAAEAAAEAAAAAAQAABQAAAAABAAACAAAAAAEAAAAAAAAAAQAAAQAAAAABAAAFAAAAAAEA\n",
       "AAIAAAAAAQAAAAAAAAABAAABAAAAAAEAAAUAAAAAAQAAAgAAAAABAAAAAAAAAAEAAAEAAAAAAQAA\n",
       "BQAAAAABAAACAAAAAAEAAAAAAAAAAQAAAQAAAAABAAAFAAAAAAEAAAIAAAAAAQAAAAAAAAABAAAB\n",
       "AAAAAAEAAAUAAAAAAQAAAgAAAAABAAAAAAAAAAEAAAEAAAAAAQAABQAAAAABAAACAAAAAAEAAAAA\n",
       "AAAAAQAAAQAAAAABAAACAAAAAAEAAAUAAAAAAQAAAgAAAAABAAAAAAAAAAEAAAEAAAAAAQAABQAA\n",
       "AAABAAACAAAAAAEAAAAAAAAAAQAAAQAAAAABAAAFAAAAAAEAAAIAAAAAAQAAAAAAAAABAAABAAAA\n",
       "AAEAAAUAAAAAAQAAAgAAAAABAAAAAAAAAAEAAAEAAAAAAQAABQAAAAABAAACAAAAAAEAAAAAAAAA\n",
       "AQAAAQAAAAABAAAFAAAAAAEAAAIAAAAAAQAAAAAAAAABAAABAAAAAAEAAAUAAAAAAQAAAgAAAAAB\n",
       "AAAAAAAAAAEAAAEAAAAAAQAABQAAAAABAAACAAAAAAEAAAAAAAAAAQAAAQAAAAABAAAFAAAAAAEA\n",
       "AAIAAAAAAQAAAAAAAAABAAABAAAAAAEAAAUAAAAAAQAAAgAAAAABAAAAAAAAAAEAAAEAAAAAAQAA\n",
       "BQAAAAABAAACAAAAAAEAAAAAAAAAAQAAAQAAAAABAAAFAAAAAAEAAAIAAAAAAQAAAAAAAAABAAAB\n",
       "AAAAAAEAAAUAAAAAAQAAAgAAAAABAAAAAAAAAAEAAAEAAAAAAQAABQAAAAABAAACAAAAAAEAAAAA\n",
       "AAAAAQAAAQAAAAABAAAFAAAAAAEAAAIAAAAAAQAAAAAAAAABAAABAAAAAAEAAAUAAAAAAQAAAgAA\n",
       "AAABAAAAAAAAAAEAAAEAAAAAAQAABQAAAAABAAACAAAAAAEAAAAAAAAAAQAAAQAAAAABAAACAAAA\n",
       "AAEAAAUAAAAAAQAAAgAAAAABAAAAAAAAAAEAAAEAAAAAAQAABQAAAAABAAACAAAAAAEAAAAAAAAA\n",
       "AQAAAQAAAAABAAAFAAAAAAEAAAIAAAAAAQAAAAAAAAABAAABAAAAAAEAAAUAAAAAAQAAAgAAAAAB\n",
       "AAAAAAAAAAEAAAEAAAAAAQAABQAAAAABAAACAAAAAAEAAAAAAAAAAQAAAQAAAAABAAAFAAAAAAEA\n",
       "AAIAAAAAAQAAAAAAAAABAAABAAAAAAEAAAUAAAAAAQAAAgAAAAABAAAAAAAAAAEAAAEAAAAAAQAA\n",
       "BQAAAAABAAACAAAAAAEAAAAAAAAAAQAAAQAAAAABAAAFAAAAAAEAAAIAAAAAAQAAAAAAAAABAAAB\n",
       "AAAAAAEAAAUAAAAAAQAAAgAAAAABAAAAAAAAAAEAAAEAAAAAAQAABQAAAAABAAACAAAAAAEAAAAA\n",
       "AAAAAQAAAQAAAAABAAAFAAAAAAEAAAIAAAAAAQAAAAAAAAABAAABAAAAAAEAAAUAAAAAAQAAAgAA\n",
       "AAABAAAAAAAAAAEAAAEAAAAAAQAABQAAAAABAAACAAAAAAEAAAAAAAAAAQAAAQAAAAABAAAFAAAA\n",
       "AAEAAAIAAAAAAQAAAAAAAAABAAABAAAAAAEAAAUAAAAAAQAAAgAAAAABAAAAAAAAAAEAAAEAAAAA\n",
       "AQAABQAAAAABAAACAAAAAAEAAAAAAAAAAQAAAQAAAAABAAAFAAAAAAEAAAIAAAAAAQAAAAAAAAAB\n",
       "AAABAAAAAAEAAAUAAAAAAQAAAgAAAAABAAAAAAAAAAEAAAEAAAAAAQAABQAAAAABAAACAAAAAAEA\n",
       "AAAAAAAAAQAAAQAAAAAcc3RzYwAAAAAAAAABAAAAAQAAAZAAAAABAAAGVHN0c3oAAAAAAAAAAAAA\n",
       "AZAAADTbAAACuAAAAGIAAABKAAAANQAAAJ4AAAAyAAAAMAAAAB8AAAA/AAAAqAAAADAAAAAqAAAA\n",
       "KQAAAIwAAAA2AAAAJQAAAB0AAAB1AAAAMAAAAB0AAAAjAAAATQAAADAAAABrAAAANAAAABsAAAAo\n",
       "AAAAeQAAACwAAAAqAAAAHAAAAHUAAAAsAAAAHgAAACYAAABzAAAALgAAACQAAAAcAAAAOAAAAE4A\n",
       "AAAkAAAAHAAAABgAAABUAAAAIQAAABYAAAAjAAAAUgAAACwAAAAaAAAAIQAAADkAAAAqAAAAFgAA\n",
       "ABgAAAA1AAAAHgAAABYAAAAWAAAAFwAAAB4AAAAWAAAAFgAAAEYAAABWAAAAKwAAACAAAAAZAAAA\n",
       "OAAAACAAAAAeAAAAFgAAAFcAAAAiAAAAFgAAABgAAABgAAAAKwAAABYAAAAbAAAAVAAAAC4AAAAb\n",
       "AAAAIgAAAC8AAAB3AAAALgAAABwAAAAdAAAANQAAAFoAAAAyAAAAGQAAABkAAAA+AAAAMwAAAGMA\n",
       "AAAuAAAAIgAAACQAAABxAAAALgAAACQAAAAeAAAAXAAAACIAAAAbAAAAGQAAAD8AAAAqAAAAGQAA\n",
       "ACQAAABMAAAALwAAAB8AAAAYAAAASAAAACMAAAAcAAAAGAAAAEcAAAAxAAAAIgAAABYAAAA8AAAA\n",
       "KwAAABgAAAAYAAAAUQAAACIAAAAYAAAAGQAAAEMAAAAgAAAAGAAAABgAAAA1AAAAIwAAABYAAAAW\n",
       "AAAAQgAAACIAAAAYAAAAGAAAAD0AAAAlAAAAFgAAACAAAAAvAAAAIgAAABgAAAAWAAAANwAAACIA\n",
       "AAAZAAAAFgAAABcAAAAgAAAAFgAAABYAAABCAAAALAAAABYAAAAWAAAAUwAAADAAAAAYAAAAIgAA\n",
       "AGgAAAAtAAAAJAAAABwAAABCAAAAIQAAABgAAAAYAAAAOgAAACIAAAAYAAAAGAAAAG8AAAArAAAA\n",
       "GQAAAB8AAABKAAAAIwAAABYAAAAYAAAAOQAAACIAAAAbAAAAGAAAAEcAAAAiAAAAGAAAABgAAABU\n",
       "AAAAJAAAABsAAAAlAAAASAAAAC4AAAAcAAAAGQAAAD4AAAAxAAAAHwAAABgAAABTAAAALwAAABwA\n",
       "AAAaAAAAMQAAAC0AAAAiAAAAGAAAAEgAAAAkAAAAGwAAABkAAAAzAAAAIwAAABgAAAAYAAAAQQAA\n",
       "AC8AAAAhAAAAGgAAADsAAAAtAAAAGAAAABgAAAArAAAAIgAAABgAAAAZAAAARgAAACQAAAAYAAAA\n",
       "IgAAAEEAAAAlAAAAGAAAABkAAAAnAAAAIwAAABsAAAAYAABBCgAAAf8AAAAyAAAAMgAAABwAAAA2\n",
       "AAAAGwAAABcAAAAUAAAARAAAABcAAAAUAAAAEwAAAFMAAAAYAAAAFAAAABMAAAA6AAAAHgAAABYA\n",
       "AAAWAAAAJgAAABUAAAASAAAAEAAAACYAAAAVAAAAEAAAABAAAAAuAAAAFQAAABAAAAAQAAAAJAAA\n",
       "ABMAAAAQAAAAEAAAAFEAAAAeAAAAEwAAABMAAAA4AAAAIAAAABUAAAATAAAATQAAABoAAAAUAAAA\n",
       "EwAAAF4AAAAYAAAAEgAAABQAAABUAAAAHgAAABQAAAATAAAATQAAABcAAAAbAAAAEgAAAFIAAAAg\n",
       "AAAAGwAAABAAAABFAAAAHQAAABYAAAATAAAARQAAAD4AAAAXAAAAEgAAABIAAAAXAAAAFQAAABIA\n",
       "AAASAAAAFwAAABUAAAASAAAAEgAAADMAAAAXAAAAEwAAABIAAAAyAAAAFgAAABIAAAASAAAAIQAA\n",
       "ABUAAAASAAAAEgAAABcAAAAVAAAAEgAAABIAAAAXAAAAFQAAABIAAAASAAAANgAAABUAAAAVAAAA\n",
       "EgAAAC0AAAAXAAAAFAAAABIAAAAkAAAAFgAAABIAAAATAAAAFwAAABUAAAASAAAAEgAAABcAAAAV\n",
       "AAAAEgAAABIAAAAyAAAAFwAAABIAAAASAAAAJgAAABUAAAASAAAAFAAAAC0AAAAVAAAAEgAAABIA\n",
       "AAAXAAAAFQAAABIAAAASAAAAKQAAABcAAAASAAAAEgAAACgAAAAXAAAAFAAAABIAAAAfAAAAFQAA\n",
       "ABIAAAAUAAAAFHN0Y28AAAAAAAAAAQAAACwAAABidWR0YQAAAFptZXRhAAAAAAAAACFoZGxyAAAA\n",
       "AAAAAABtZGlyYXBwbAAAAAAAAAAAAAAAAC1pbHN0AAAAJal0b28AAAAdZGF0YQAAAAEAAAAATGF2\n",
       "ZjU2LjQwLjEwMQ==\n",
       "\">\n",
       "  Your browser does not support the video tag.\n",
       "</video>"
      ]
     },
     "metadata": {},
     "output_type": "display_data"
    }
   ],
   "source": [
    "try:\n",
    "    display_html(HTML(anim.to_html5_video()))\n",
    "# In case the build-in renderers are unaviable, fall back to\n",
    "# a custom one, that doesn't require external libraries\n",
    "except RuntimeError:\n",
    "    anim.save(None, writer=matplotlib_utils.SimpleMovieWriter(0.001))"
   ]
  },
  {
   "cell_type": "markdown",
   "metadata": {},
   "source": [
    "# Logistic regression\n",
    "Your assignment is to implement the logistic regression\n",
    "\n",
    "Plan:\n",
    "* Use a shared variable for weights\n",
    "* Use a matrix placeholder for `X`\n",
    " \n",
    "We shall train on a two-class MNIST dataset\n",
    "* please note that target `y` are `{0,1}` and not `{-1,1}` as in some formulae"
   ]
  },
  {
   "cell_type": "code",
   "execution_count": 49,
   "metadata": {},
   "outputs": [
    {
     "name": "stdout",
     "output_type": "stream",
     "text": [
      "y [shape - (360,)]: [0 1 0 1 0 1 0 0 1 1]\n",
      "X [shape - (360, 64)]:\n"
     ]
    }
   ],
   "source": [
    "from sklearn.datasets import load_digits\n",
    "mnist = load_digits(2)\n",
    "\n",
    "X, y = mnist.data, mnist.target\n",
    "\n",
    "print(\"y [shape - %s]:\" % (str(y.shape)), y[:10])\n",
    "print(\"X [shape - %s]:\" % (str(X.shape)))"
   ]
  },
  {
   "cell_type": "code",
   "execution_count": 50,
   "metadata": {},
   "outputs": [
    {
     "name": "stdout",
     "output_type": "stream",
     "text": [
      "X:\n",
      " [[  0.   0.   5.  13.   9.   1.   0.   0.   0.   0.]\n",
      " [  0.   0.   0.  12.  13.   5.   0.   0.   0.   0.]\n",
      " [  0.   0.   1.   9.  15.  11.   0.   0.   0.   0.]]\n",
      "y:\n",
      " [0 1 0 1 0 1 0 0 1 1]\n"
     ]
    },
    {
     "data": {
      "image/png": "[encoded data removed]",
      "text/plain": [
       "<matplotlib.figure.Figure at 0x7fd556ff7e48>"
      ]
     },
     "metadata": {},
     "output_type": "display_data"
    }
   ],
   "source": [
    "print('X:\\n',X[:3,:10])\n",
    "print('y:\\n',y[:10])\n",
    "plt.imshow(X[0].reshape([8,8]));"
   ]
  },
  {
   "cell_type": "markdown",
   "metadata": {},
   "source": [
    "It's your turn now!\n",
    "Just a small reminder of the relevant math:\n",
    "\n",
    "$$\n",
    "P(y=1|X) = \\sigma(X \\cdot W + b)\n",
    "$$\n",
    "$$\n",
    "\\text{loss} = -\\log\\left(P\\left(y_\\text{predicted} = 1\\right)\\right)\\cdot y_\\text{true} - \\log\\left(1 - P\\left(y_\\text{predicted} = 1\\right)\\right)\\cdot\\left(1 - y_\\text{true}\\right)\n",
    "$$\n",
    "\n",
    "$\\sigma(x)$ is available via `tf.nn.sigmoid` and matrix multiplication via `tf.matmul`"
   ]
  },
  {
   "cell_type": "code",
   "execution_count": 51,
   "metadata": {},
   "outputs": [],
   "source": [
    "from sklearn.model_selection import train_test_split\n",
    "X_train, X_test, y_train, y_test = train_test_split(\n",
    "    X, y, random_state=42)"
   ]
  },
  {
   "cell_type": "markdown",
   "metadata": {},
   "source": [
    "__Your code goes here.__ For the training and testing scaffolding to work, please stick to the names in comments."
   ]
  },
  {
   "cell_type": "code",
   "execution_count": 78,
   "metadata": {},
   "outputs": [
    {
     "name": "stdout",
     "output_type": "stream",
     "text": [
      "<tf.Variable 'weights_1:0' shape=(64, 1) dtype=float32_ref>\n",
      "<tf.Variable 'b_1:0' shape=() dtype=float32_ref>\n"
     ]
    }
   ],
   "source": [
    "# Model parameters - weights and bias\n",
    "# weights = tf.Variable(...) shape should be (X.shape[1], 1)\n",
    "# b = tf.Variable(...)\n",
    "weights = tf.Variable(initial_value=np.random.randn(X.shape[1], 1)*0.01, name=\"weights\", dtype=\"float32\")\n",
    "b = tf.Variable(initial_value=0, name=\"b\", dtype=\"float32\")\n",
    "print(weights)\n",
    "print(b)"
   ]
  },
  {
   "cell_type": "code",
   "execution_count": 79,
   "metadata": {},
   "outputs": [
    {
     "name": "stdout",
     "output_type": "stream",
     "text": [
      "Tensor(\"input_x_1:0\", dtype=float32)\n",
      "Tensor(\"input_y_1:0\", dtype=float32)\n"
     ]
    }
   ],
   "source": [
    "# Placeholders for the input data\n",
    "# input_X = tf.placeholder(...)\n",
    "# input_y = tf.placeholder(...)\n",
    "input_X = tf.placeholder(\"float32\", name=\"input_x\")\n",
    "input_y = tf.placeholder(\"float32\", name=\"input_y\")\n",
    "print(input_X)\n",
    "print(input_y)"
   ]
  },
  {
   "cell_type": "code",
   "execution_count": 84,
   "metadata": {},
   "outputs": [],
   "source": [
    "# The model code\n",
    "\n",
    "# Compute a vector of predictions, resulting shape should be [input_X.shape[0],]\n",
    "# This is 1D, if you have extra dimensions, you can  get rid of them with tf.squeeze .\n",
    "# Don't forget the sigmoid.\n",
    "# predicted_y = <predicted probabilities for input_X>\n",
    "predicted_y = tf.squeeze(tf.nn.sigmoid(tf.add(tf.matmul(input_X, weights), b)))\n",
    "\n",
    "# Loss. Should be a scalar number - average loss over all the objects\n",
    "# tf.reduce_mean is your friend here\n",
    "# loss = <logistic loss (scalar, mean over sample)>\n",
    "loss = -tf.reduce_mean(input_y*tf.log(predicted_y) + (1-input_y)*tf.log(1-predicted_y)) \n",
    "\n",
    "# See above for an example. tf.train.*Optimizer\n",
    "# optimizer = <optimizer that minimizes loss>\n",
    "optimizer = tf.train.AdamOptimizer(0.01).minimize(loss)"
   ]
  },
  {
   "cell_type": "markdown",
   "metadata": {},
   "source": [
    "A test to help with the debugging"
   ]
  },
  {
   "cell_type": "code",
   "execution_count": 86,
   "metadata": {},
   "outputs": [],
   "source": [
    "validation_weights = 1e-3 * np.fromiter(map(lambda x:\n",
    "        s.run(weird_psychotic_function, {my_scalar:x, my_vector:[1, 0.1, 2]}),\n",
    "                                   0.15 * np.arange(1, X.shape[1] + 1)),\n",
    "                                   count=X.shape[1], dtype=np.float32)[:, np.newaxis]\n",
    "# Compute predictions for given weights and bias\n",
    "prediction_validation = s.run(\n",
    "    predicted_y, {\n",
    "    input_X: X,\n",
    "    weights: validation_weights,\n",
    "    b: 1e-1})\n",
    "\n",
    "# Load the reference values for the predictions\n",
    "validation_true_values = np.loadtxt(\"validation_predictons.txt\")\n",
    "\n",
    "assert prediction_validation.shape == (X.shape[0],),\\\n",
    "       \"Predictions must be a 1D array with length equal to the number \" \\\n",
    "       \"of examples in input_X\"\n",
    "assert np.allclose(validation_true_values, prediction_validation)\n",
    "loss_validation = s.run(\n",
    "        loss, {\n",
    "            input_X: X[:100],\n",
    "            input_y: y[-100:],\n",
    "            weights: validation_weights+1.21e-3,\n",
    "            b: -1e-1})\n",
    "assert np.allclose(loss_validation, 0.728689)"
   ]
  },
  {
   "cell_type": "code",
   "execution_count": 87,
   "metadata": {},
   "outputs": [
    {
     "name": "stdout",
     "output_type": "stream",
     "text": [
      "loss at iter 0:0.5460\n",
      "train auc: 0.995553359684\n",
      "test auc: 1.0\n",
      "loss at iter 1:0.2201\n",
      "train auc: 0.99972551603\n",
      "test auc: 1.0\n",
      "loss at iter 2:0.1342\n",
      "train auc: 0.999945103206\n",
      "test auc: 1.0\n",
      "loss at iter 3:0.1081\n",
      "train auc: 0.999945103206\n",
      "test auc: 1.0\n",
      "loss at iter 4:0.0793\n",
      "train auc: 0.999945103206\n",
      "test auc: 1.0\n"
     ]
    }
   ],
   "source": [
    "from sklearn.metrics import roc_auc_score\n",
    "s.run(tf.global_variables_initializer())\n",
    "for i in range(5):\n",
    "    s.run(optimizer, {input_X: X_train, input_y: y_train})\n",
    "    loss_i = s.run(loss, {input_X: X_train, input_y: y_train})\n",
    "    print(\"loss at iter %i:%.4f\" % (i, loss_i))\n",
    "    print(\"train auc:\", roc_auc_score(y_train, s.run(predicted_y, {input_X:X_train})))\n",
    "    print(\"test auc:\", roc_auc_score(y_test, s.run(predicted_y, {input_X:X_test})))"
   ]
  },
  {
   "cell_type": "markdown",
   "metadata": {},
   "source": [
    "### Coursera submission"
   ]
  },
  {
   "cell_type": "code",
   "execution_count": 88,
   "metadata": {},
   "outputs": [],
   "source": [
    "grade_submitter = grading.Grader(\"BJCiiY8sEeeCnhKCj4fcOA\")"
   ]
  },
  {
   "cell_type": "code",
   "execution_count": 89,
   "metadata": {},
   "outputs": [],
   "source": [
    "test_weights = 1e-3 * np.fromiter(map(lambda x:\n",
    "    s.run(weird_psychotic_function, {my_scalar:x, my_vector:[1, 2, 3]}),\n",
    "                               0.1 * np.arange(1, X.shape[1] + 1)),\n",
    "                               count=X.shape[1], dtype=np.float32)[:, np.newaxis]"
   ]
  },
  {
   "cell_type": "markdown",
   "metadata": {},
   "source": [
    "First, test prediction and loss computation. This part doesn't require a fitted model."
   ]
  },
  {
   "cell_type": "code",
   "execution_count": 90,
   "metadata": {},
   "outputs": [],
   "source": [
    "prediction_test = s.run(\n",
    "    predicted_y, {\n",
    "    input_X: X,\n",
    "    weights: test_weights,\n",
    "    b: 1e-1})"
   ]
  },
  {
   "cell_type": "code",
   "execution_count": 91,
   "metadata": {},
   "outputs": [],
   "source": [
    "assert prediction_test.shape == (X.shape[0],),\\\n",
    "       \"Predictions must be a 1D array with length equal to the number \" \\\n",
    "       \"of examples in X_test\""
   ]
  },
  {
   "cell_type": "code",
   "execution_count": 92,
   "metadata": {},
   "outputs": [],
   "source": [
    "grade_submitter.set_answer(\"0ENlN\", prediction_test)"
   ]
  },
  {
   "cell_type": "code",
   "execution_count": 93,
   "metadata": {},
   "outputs": [],
   "source": [
    "loss_test = s.run(\n",
    "    loss, {\n",
    "        input_X: X[:100],\n",
    "        input_y: y[-100:],\n",
    "        weights: test_weights+1.21e-3,\n",
    "        b: -1e-1})\n",
    "# Yes, the X/y indices mistmach is intentional"
   ]
  },
  {
   "cell_type": "code",
   "execution_count": 94,
   "metadata": {},
   "outputs": [],
   "source": [
    "grade_submitter.set_answer(\"mMVpM\", loss_test)"
   ]
  },
  {
   "cell_type": "code",
   "execution_count": 95,
   "metadata": {},
   "outputs": [],
   "source": [
    "grade_submitter.set_answer(\"D16Rc\", roc_auc_score(y_test, s.run(predicted_y, {input_X:X_test})))"
   ]
  },
  {
   "cell_type": "markdown",
   "metadata": {},
   "source": [
    "Please use the credentials obtained from the Coursera assignment page."
   ]
  },
  {
   "cell_type": "code",
   "execution_count": null,
   "metadata": {},
   "outputs": [],
   "source": [
    "grade_submitter.submit(<email>, <token>)"
   ]
  },
  {
   "cell_type": "code",
   "execution_count": null,
   "metadata": {},
   "outputs": [],
   "source": []
  }
 ],
 "metadata": {
  "kernelspec": {
   "display_name": "Python 3",
   "language": "python",
   "name": "python3"
  },
  "language_info": {
   "codemirror_mode": {
    "name": "ipython",
    "version": 3
   },
   "file_extension": ".py",
   "mimetype": "text/x-python",
   "name": "python",
   "nbconvert_exporter": "python",
   "pygments_lexer": "ipython3",
   "version": "3.5.2"
  }
 },
 "nbformat": 4,
 "nbformat_minor": 1
}
