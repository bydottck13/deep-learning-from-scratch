{
 "cells": [
  {
   "cell_type": "markdown",
   "metadata": {},
   "source": [
    "# Deep Learning from scratch\n",
    "## Convolutional Neural Networks for cat classifer"
   ]
  },
  {
   "cell_type": "code",
   "execution_count": 2,
   "metadata": {
    "scrolled": true
   },
   "outputs": [],
   "source": [
    "from os import listdir\n",
    "from os.path import isfile, join\n",
    "from PIL import Image\n",
    "import matplotlib.pyplot as plt\n",
    "import matplotlib.image as mpimg\n",
    "import numpy as np\n",
    "\n",
    "%matplotlib inline\n",
    "\n",
    "cat_dir = 'cat/'\n",
    "not_cat_dir = 'not-cat/'\n",
    "wolf_dir = 'wolf/'\n",
    "\n",
    "cat_files = [f for f in listdir(cat_dir) if isfile(join(cat_dir, f))]\n",
    "not_cat_files = [f for f in listdir(not_cat_dir) if isfile(join(not_cat_dir, f))]\n",
    "wolf_files = [f for f in listdir(wolf_dir) if isfile(join(wolf_dir, f))]"
   ]
  },
  {
   "cell_type": "code",
   "execution_count": 3,
   "metadata": {},
   "outputs": [],
   "source": [
    "width = 128\n",
    "height = 128"
   ]
  },
  {
   "cell_type": "code",
   "execution_count": 4,
   "metadata": {},
   "outputs": [
    {
     "name": "stdout",
     "output_type": "stream",
     "text": [
      "(1482, 128, 128, 3)\n"
     ]
    }
   ],
   "source": [
    "x_cat = []\n",
    "for filename in cat_files:\n",
    "    with Image.open(cat_dir+filename) as im:\n",
    "        if im.mode == 'RGB':\n",
    "            nim = im.resize((width, height), Image.BILINEAR)\n",
    "            pixel_values = np.array(nim.getdata()).reshape((width, height, 3))\n",
    "            x_cat.append(pixel_values)\n",
    "x_cat_array = np.array(x_cat)\n",
    "print(x_cat_array.shape)\n",
    "#plt.imshow(x_cat_array[0,:])"
   ]
  },
  {
   "cell_type": "code",
   "execution_count": 5,
   "metadata": {},
   "outputs": [
    {
     "name": "stdout",
     "output_type": "stream",
     "text": [
      "(1404, 128, 128, 3)\n"
     ]
    }
   ],
   "source": [
    "x_not_cat = []\n",
    "for filename in not_cat_files:\n",
    "    with Image.open(not_cat_dir+filename) as im:\n",
    "        if im.mode == 'RGB':\n",
    "            nim = im.resize((width, height), Image.BILINEAR)\n",
    "            pixel_values = np.array(nim.getdata()).reshape((width, height, 3))\n",
    "            x_not_cat.append(pixel_values)\n",
    "x_not_cat_array = np.array(x_not_cat)\n",
    "print(x_not_cat_array.shape)\n",
    "#plt.imshow(x_not_cat_array[0,:])"
   ]
  },
  {
   "cell_type": "code",
   "execution_count": 6,
   "metadata": {},
   "outputs": [
    {
     "name": "stdout",
     "output_type": "stream",
     "text": [
      "(1390, 128, 128, 3)\n"
     ]
    }
   ],
   "source": [
    "x_wolf = []\n",
    "for filename in wolf_files:\n",
    "    with Image.open(wolf_dir+filename) as im:\n",
    "        if im.mode == 'RGB':\n",
    "            nim = im.resize((width, height), Image.BILINEAR)\n",
    "            pixel_values = np.array(nim.getdata()).reshape((width, height, 3))\n",
    "            x_wolf.append(pixel_values)\n",
    "x_wolf_array = np.array(x_wolf)\n",
    "print(x_wolf_array.shape)\n",
    "#plt.imshow(x_wolf_array[0,:])"
   ]
  },
  {
   "cell_type": "code",
   "execution_count": 7,
   "metadata": {},
   "outputs": [
    {
     "name": "stdout",
     "output_type": "stream",
     "text": [
      "(4276, 1)\n"
     ]
    }
   ],
   "source": [
    "y_not_cat_array = np.zeros((x_not_cat_array.shape[0]+x_wolf_array.shape[0], 1))\n",
    "y_cat_array = np.ones((x_cat_array.shape[0], 1))\n",
    "\n",
    "y_array = np.append(y_not_cat_array, y_cat_array, axis=0)\n",
    "print(y_array.shape)"
   ]
  },
  {
   "cell_type": "code",
   "execution_count": 8,
   "metadata": {},
   "outputs": [
    {
     "name": "stdout",
     "output_type": "stream",
     "text": [
      "(4276, 128, 128, 3)\n"
     ]
    }
   ],
   "source": [
    "x_other_array = np.append(x_not_cat_array, x_wolf_array, axis=0)\n",
    "\n",
    "x_array = np.append(x_other_array, x_cat_array, axis=0)\n",
    "print(x_array.shape)"
   ]
  },
  {
   "cell_type": "code",
   "execution_count": 9,
   "metadata": {},
   "outputs": [
    {
     "name": "stdout",
     "output_type": "stream",
     "text": [
      "Number of training examples: 2566\n",
      "Number of developing examples: 855\n",
      "Number of testing examples: 855\n"
     ]
    }
   ],
   "source": [
    "m_test = np.rint(x_array.shape[0]*0.2).astype(int)\n",
    "m_dev = m_test\n",
    "m_train = x_array.shape[0]-m_test-m_dev\n",
    "print(\"Number of training examples: \" + str(m_train))\n",
    "print(\"Number of developing examples: \" + str(m_dev))\n",
    "print(\"Number of testing examples: \" + str(m_test))"
   ]
  },
  {
   "cell_type": "code",
   "execution_count": null,
   "metadata": {},
   "outputs": [],
   "source": []
  }
 ],
 "metadata": {
  "kernelspec": {
   "display_name": "Python 3",
   "language": "python",
   "name": "python3"
  },
  "language_info": {
   "codemirror_mode": {
    "name": "ipython",
    "version": 3
   },
   "file_extension": ".py",
   "mimetype": "text/x-python",
   "name": "python",
   "nbconvert_exporter": "python",
   "pygments_lexer": "ipython3",
   "version": "3.6.4"
  }
 },
 "nbformat": 4,
 "nbformat_minor": 2
}
